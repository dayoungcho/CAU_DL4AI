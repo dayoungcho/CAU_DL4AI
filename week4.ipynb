{
  "nbformat": 4,
  "nbformat_minor": 0,
  "metadata": {
    "colab": {
      "provenance": [],
      "collapsed_sections": [
        "DKuPjxZyhum5",
        "mqN5ItEKL5jV",
        "UmEUTPWlL5jV",
        "j2mcxt4LL5jW",
        "8jHsJopGL5jW",
        "ckAx4o8QL5ja",
        "PXg7ypDdL5jc",
        "xMZp_hPQSslc",
        "DRSTBJXYL8GT",
        "W1mz3nlPL8GU",
        "IDxzhXkDL8GU",
        "pY_dY4WZL8GV",
        "6y4nV8VmL8GV",
        "ZL75MCIAL8GW",
        "6-1CT6_ML8GX",
        "uUdxFRUjL8GX",
        "UMfNZh3EL8GX",
        "DscPKVOML8Gf",
        "jWFylG0fL8Gf",
        "lRp3i2Z4L8Gf",
        "3O2F6gfpL8Gg",
        "xP66kOqTL8Gh",
        "OzgEXx1jL8Gi",
        "Gq0gcXXvL8Gi"
      ],
      "gpuType": "T4",
      "authorship_tag": "ABX9TyM5Wl5O6RT5isLRoxJ/KOnr",
      "include_colab_link": true
    },
    "kernelspec": {
      "name": "python3",
      "display_name": "Python 3"
    },
    "language_info": {
      "name": "python"
    },
    "accelerator": "GPU"
  },
  "cells": [
    {
      "cell_type": "markdown",
      "metadata": {
        "id": "view-in-github",
        "colab_type": "text"
      },
      "source": [
        "<a href=\"https://colab.research.google.com/github/dayoungcho/CAU_DL4AI/blob/main/week4.ipynb\" target=\"_parent\"><img src=\"https://colab.research.google.com/assets/colab-badge.svg\" alt=\"Open In Colab\"/></a>"
      ]
    },
    {
      "cell_type": "markdown",
      "source": [
        "# Chapter 3"
      ],
      "metadata": {
        "id": "DKuPjxZyhum5"
      }
    },
    {
      "cell_type": "markdown",
      "metadata": {
        "id": "mqN5ItEKL5jV"
      },
      "source": [
        "## First steps with TensorFlow"
      ]
    },
    {
      "cell_type": "markdown",
      "metadata": {
        "id": "UmEUTPWlL5jV"
      },
      "source": [
        "#### Constant tensors and variables"
      ]
    },
    {
      "cell_type": "markdown",
      "metadata": {
        "id": "14bXQopLL5jV"
      },
      "source": [
        "**All-ones or all-zeros tensors**"
      ]
    },
    {
      "cell_type": "code",
      "execution_count": null,
      "metadata": {
        "id": "buCMg8RAL5jV",
        "colab": {
          "base_uri": "https://localhost:8080/"
        },
        "outputId": "30134795-202b-46c2-dfe9-b070a6291a34"
      },
      "outputs": [
        {
          "output_type": "stream",
          "name": "stdout",
          "text": [
            "tf.Tensor(\n",
            "[[1.]\n",
            " [1.]], shape=(2, 1), dtype=float32)\n"
          ]
        }
      ],
      "source": [
        "import tensorflow as tf\n",
        "x = tf.ones(shape=(2, 1))\n",
        "print(x)"
      ]
    },
    {
      "cell_type": "code",
      "execution_count": null,
      "metadata": {
        "id": "NZiqimToL5jV",
        "colab": {
          "base_uri": "https://localhost:8080/"
        },
        "outputId": "3da5de17-e428-41f6-d2c2-b052b36485ee"
      },
      "outputs": [
        {
          "output_type": "stream",
          "name": "stdout",
          "text": [
            "tf.Tensor(\n",
            "[[0.]\n",
            " [0.]], shape=(2, 1), dtype=float32)\n"
          ]
        }
      ],
      "source": [
        "x = tf.zeros(shape=(2, 1))\n",
        "print(x)"
      ]
    },
    {
      "cell_type": "markdown",
      "metadata": {
        "id": "KEMtvO4WL5jV"
      },
      "source": [
        "**Random tensors**"
      ]
    },
    {
      "cell_type": "code",
      "execution_count": null,
      "metadata": {
        "id": "VOVRCSDiL5jV",
        "colab": {
          "base_uri": "https://localhost:8080/"
        },
        "outputId": "13f290f0-e4ec-4216-d1fd-bbdd4421522d"
      },
      "outputs": [
        {
          "output_type": "stream",
          "name": "stdout",
          "text": [
            "tf.Tensor(\n",
            "[[0.12621772]\n",
            " [1.5550243 ]\n",
            " [0.9380829 ]], shape=(3, 1), dtype=float32)\n"
          ]
        }
      ],
      "source": [
        "x = tf.random.normal(shape=(3, 1), mean=0., stddev=1.)\n",
        "print(x)"
      ]
    },
    {
      "cell_type": "code",
      "execution_count": null,
      "metadata": {
        "id": "3dRWr9L6L5jV",
        "colab": {
          "base_uri": "https://localhost:8080/"
        },
        "outputId": "863c0a53-21cf-43f2-d683-5a8306eeaa08"
      },
      "outputs": [
        {
          "output_type": "stream",
          "name": "stdout",
          "text": [
            "tf.Tensor(\n",
            "[[0.9986745 ]\n",
            " [0.8908396 ]\n",
            " [0.17959869]], shape=(3, 1), dtype=float32)\n"
          ]
        }
      ],
      "source": [
        "x = tf.random.uniform(shape=(3, 1), minval=0., maxval=1.)\n",
        "print(x)"
      ]
    },
    {
      "cell_type": "markdown",
      "metadata": {
        "id": "sQAdfmqeL5jV"
      },
      "source": [
        "**NumPy arrays are assignable**"
      ]
    },
    {
      "cell_type": "code",
      "execution_count": null,
      "metadata": {
        "id": "SdU3bNdNL5jW"
      },
      "outputs": [],
      "source": [
        "import numpy as np\n",
        "x = np.ones(shape=(2, 2))\n",
        "x[0, 0] = 0."
      ]
    },
    {
      "cell_type": "markdown",
      "metadata": {
        "id": "0sqoPzqxL5jW"
      },
      "source": [
        "**Creating a TensorFlow variable**"
      ]
    },
    {
      "cell_type": "code",
      "execution_count": null,
      "metadata": {
        "id": "vt7QTnOEL5jW",
        "colab": {
          "base_uri": "https://localhost:8080/"
        },
        "outputId": "f89f6a06-8b65-438e-9d92-81a5d03eba4e"
      },
      "outputs": [
        {
          "output_type": "stream",
          "name": "stdout",
          "text": [
            "<tf.Variable 'Variable:0' shape=(3, 1) dtype=float32, numpy=\n",
            "array([[ 0.14279893],\n",
            "       [-1.277493  ],\n",
            "       [ 1.8501453 ]], dtype=float32)>\n"
          ]
        }
      ],
      "source": [
        "v = tf.Variable(initial_value=tf.random.normal(shape=(3, 1)))\n",
        "print(v)"
      ]
    },
    {
      "cell_type": "markdown",
      "metadata": {
        "id": "JXW1naIeL5jW"
      },
      "source": [
        "**Assigning a value to a TensorFlow variable**"
      ]
    },
    {
      "cell_type": "code",
      "execution_count": null,
      "metadata": {
        "id": "mw9wt6geL5jW",
        "colab": {
          "base_uri": "https://localhost:8080/"
        },
        "outputId": "39db43cc-5cd8-49a8-b1a3-ee1e0b0e0838"
      },
      "outputs": [
        {
          "output_type": "execute_result",
          "data": {
            "text/plain": [
              "<tf.Variable 'UnreadVariable' shape=(3, 1) dtype=float32, numpy=\n",
              "array([[1.],\n",
              "       [1.],\n",
              "       [1.]], dtype=float32)>"
            ]
          },
          "metadata": {},
          "execution_count": 7
        }
      ],
      "source": [
        "v.assign(tf.ones((3, 1)))"
      ]
    },
    {
      "cell_type": "markdown",
      "metadata": {
        "id": "zDrAoe45L5jW"
      },
      "source": [
        "**Assigning a value to a subset of a TensorFlow variable**"
      ]
    },
    {
      "cell_type": "code",
      "execution_count": null,
      "metadata": {
        "id": "2ayrm9xVL5jW",
        "colab": {
          "base_uri": "https://localhost:8080/"
        },
        "outputId": "a4d7f051-a14e-4b00-c84f-941c27dba53d"
      },
      "outputs": [
        {
          "output_type": "execute_result",
          "data": {
            "text/plain": [
              "<tf.Variable 'UnreadVariable' shape=(3, 1) dtype=float32, numpy=\n",
              "array([[3.],\n",
              "       [1.],\n",
              "       [1.]], dtype=float32)>"
            ]
          },
          "metadata": {},
          "execution_count": 8
        }
      ],
      "source": [
        "v[0, 0].assign(3.)"
      ]
    },
    {
      "cell_type": "markdown",
      "metadata": {
        "id": "OmixU6XsL5jW"
      },
      "source": [
        "**Using `assign_add`**"
      ]
    },
    {
      "cell_type": "code",
      "execution_count": null,
      "metadata": {
        "id": "7634qud5L5jW",
        "colab": {
          "base_uri": "https://localhost:8080/"
        },
        "outputId": "bb14e2fa-4b0c-4b30-c650-012b076c065d"
      },
      "outputs": [
        {
          "output_type": "execute_result",
          "data": {
            "text/plain": [
              "<tf.Variable 'UnreadVariable' shape=(3, 1) dtype=float32, numpy=\n",
              "array([[4.],\n",
              "       [2.],\n",
              "       [2.]], dtype=float32)>"
            ]
          },
          "metadata": {},
          "execution_count": 9
        }
      ],
      "source": [
        "v.assign_add(tf.ones((3, 1)))"
      ]
    },
    {
      "cell_type": "markdown",
      "metadata": {
        "id": "j2mcxt4LL5jW"
      },
      "source": [
        "#### Tensor operations: Doing math in TensorFlow"
      ]
    },
    {
      "cell_type": "markdown",
      "metadata": {
        "id": "jitCYV3HL5jW"
      },
      "source": [
        "**A few basic math operations**"
      ]
    },
    {
      "cell_type": "code",
      "execution_count": null,
      "metadata": {
        "id": "aevezPuNL5jW"
      },
      "outputs": [],
      "source": [
        "a = tf.ones((2, 2))\n",
        "b = tf.square(a)\n",
        "c = tf.sqrt(a)\n",
        "d = b + c\n",
        "e = tf.matmul(a, b)\n",
        "e *= d"
      ]
    },
    {
      "cell_type": "code",
      "source": [
        "print(a,b,c,d,e)"
      ],
      "metadata": {
        "colab": {
          "base_uri": "https://localhost:8080/"
        },
        "id": "ADhssjO3N4IN",
        "outputId": "05de81a0-6d96-47ad-b512-1a153bcdf778"
      },
      "execution_count": null,
      "outputs": [
        {
          "output_type": "stream",
          "name": "stdout",
          "text": [
            "tf.Tensor(\n",
            "[[1. 1.]\n",
            " [1. 1.]], shape=(2, 2), dtype=float32) tf.Tensor(\n",
            "[[1. 1.]\n",
            " [1. 1.]], shape=(2, 2), dtype=float32) tf.Tensor(\n",
            "[[1. 1.]\n",
            " [1. 1.]], shape=(2, 2), dtype=float32) tf.Tensor(\n",
            "[[2. 2.]\n",
            " [2. 2.]], shape=(2, 2), dtype=float32) tf.Tensor(\n",
            "[[4. 4.]\n",
            " [4. 4.]], shape=(2, 2), dtype=float32)\n"
          ]
        }
      ]
    },
    {
      "cell_type": "markdown",
      "metadata": {
        "id": "8jHsJopGL5jW"
      },
      "source": [
        "#### A second look at the GradientTape API"
      ]
    },
    {
      "cell_type": "markdown",
      "metadata": {
        "id": "QdRQNcDrL5jW"
      },
      "source": [
        "**Using the `GradientTape`**"
      ]
    },
    {
      "cell_type": "code",
      "execution_count": null,
      "metadata": {
        "id": "_hbL5RlSL5jW"
      },
      "outputs": [],
      "source": [
        "input_var = tf.Variable(initial_value=3.)\n",
        "with tf.GradientTape() as tape:\n",
        "   result = tf.square(input_var)\n",
        "gradient = tape.gradient(result, input_var)"
      ]
    },
    {
      "cell_type": "code",
      "source": [
        "print(result)"
      ],
      "metadata": {
        "colab": {
          "base_uri": "https://localhost:8080/"
        },
        "id": "siMOzf7xOHaQ",
        "outputId": "369bd739-0d64-4df1-f12b-5942502eb384"
      },
      "execution_count": null,
      "outputs": [
        {
          "output_type": "stream",
          "name": "stdout",
          "text": [
            "tf.Tensor(9.0, shape=(), dtype=float32)\n"
          ]
        }
      ]
    },
    {
      "cell_type": "markdown",
      "metadata": {
        "id": "-7hD5ieEL5jW"
      },
      "source": [
        "**Using `GradientTape` with constant tensor inputs**"
      ]
    },
    {
      "cell_type": "code",
      "execution_count": null,
      "metadata": {
        "id": "h4OVxYRgL5jW"
      },
      "outputs": [],
      "source": [
        "input_const = tf.constant(3.)\n",
        "with tf.GradientTape() as tape:\n",
        "   tape.watch(input_const)\n",
        "   result = tf.square(input_const)\n",
        "gradient = tape.gradient(result, input_const)"
      ]
    },
    {
      "cell_type": "markdown",
      "metadata": {
        "id": "CpndpYXwL5jW"
      },
      "source": [
        "**Using nested gradient tapes to compute second-order gradients**"
      ]
    },
    {
      "cell_type": "code",
      "execution_count": null,
      "metadata": {
        "id": "C-8FzkT6L5jX"
      },
      "outputs": [],
      "source": [
        "time = tf.Variable(0.)\n",
        "with tf.GradientTape() as outer_tape:\n",
        "    with tf.GradientTape() as inner_tape:\n",
        "        position =  4.9 * time ** 2\n",
        "    speed = inner_tape.gradient(position, time)\n",
        "acceleration = outer_tape.gradient(speed, time)"
      ]
    },
    {
      "cell_type": "markdown",
      "metadata": {
        "id": "ckAx4o8QL5ja"
      },
      "source": [
        "#### An end-to-end example: A linear classifier in pure TensorFlow"
      ]
    },
    {
      "cell_type": "markdown",
      "metadata": {
        "id": "Z-U7CgVrL5ja"
      },
      "source": [
        "**Generating two classes of random points in a 2D plane**"
      ]
    },
    {
      "cell_type": "code",
      "execution_count": null,
      "metadata": {
        "id": "FOVPQaHzL5ja"
      },
      "outputs": [],
      "source": [
        "num_samples_per_class = 1000\n",
        "negative_samples = np.random.multivariate_normal(\n",
        "    mean=[0, 3],\n",
        "    cov=[[1, 0.5],[0.5, 1]],\n",
        "    size=num_samples_per_class)\n",
        "positive_samples = np.random.multivariate_normal(\n",
        "    mean=[3, 0],\n",
        "    cov=[[1, 0.5],[0.5, 1]],\n",
        "    size=num_samples_per_class)"
      ]
    },
    {
      "cell_type": "markdown",
      "metadata": {
        "id": "g0CXYn-2L5ja"
      },
      "source": [
        "**Stacking the two classes into an array with shape (2000, 2)**"
      ]
    },
    {
      "cell_type": "code",
      "execution_count": null,
      "metadata": {
        "id": "xQnkeKv3L5ja"
      },
      "outputs": [],
      "source": [
        "inputs = np.vstack((negative_samples, positive_samples)).astype(np.float32)"
      ]
    },
    {
      "cell_type": "markdown",
      "metadata": {
        "id": "SI8jaI9uL5ja"
      },
      "source": [
        "**Generating the corresponding targets (0 and 1)**"
      ]
    },
    {
      "cell_type": "code",
      "execution_count": null,
      "metadata": {
        "id": "zF6STviQL5jb"
      },
      "outputs": [],
      "source": [
        "targets = np.vstack((np.zeros((num_samples_per_class, 1), dtype=\"float32\"),\n",
        "                     np.ones((num_samples_per_class, 1), dtype=\"float32\")))"
      ]
    },
    {
      "cell_type": "markdown",
      "metadata": {
        "id": "URJSYXcfL5jb"
      },
      "source": [
        "**Plotting the two point classes**"
      ]
    },
    {
      "cell_type": "code",
      "execution_count": null,
      "metadata": {
        "id": "WTcYWwBRL5jb",
        "colab": {
          "base_uri": "https://localhost:8080/",
          "height": 430
        },
        "outputId": "376da923-26ad-41ae-c855-c1bc836bc157"
      },
      "outputs": [
        {
          "output_type": "display_data",
          "data": {
            "text/plain": [
              "<Figure size 640x480 with 1 Axes>"
            ],
            "image/png": "[encoded data removed]"
          },
          "metadata": {}
        }
      ],
      "source": [
        "import matplotlib.pyplot as plt\n",
        "plt.scatter(inputs[:, 0], inputs[:, 1], c=targets[:, 0])\n",
        "plt.show()"
      ]
    },
    {
      "cell_type": "markdown",
      "metadata": {
        "id": "ub-S785zL5jb"
      },
      "source": [
        "**Creating the linear classifier variables**"
      ]
    },
    {
      "cell_type": "code",
      "execution_count": null,
      "metadata": {
        "id": "ijm58dPLL5jb"
      },
      "outputs": [],
      "source": [
        "input_dim = 2\n",
        "output_dim = 1\n",
        "W = tf.Variable(initial_value=tf.random.uniform(shape=(input_dim, output_dim)))\n",
        "b = tf.Variable(initial_value=tf.zeros(shape=(output_dim,)))"
      ]
    },
    {
      "cell_type": "markdown",
      "metadata": {
        "id": "BKekazfCL5jb"
      },
      "source": [
        "**The forward pass function**"
      ]
    },
    {
      "cell_type": "code",
      "execution_count": null,
      "metadata": {
        "id": "wb41unknL5jb"
      },
      "outputs": [],
      "source": [
        "def model(inputs):\n",
        "    return tf.matmul(inputs, W) + b"
      ]
    },
    {
      "cell_type": "markdown",
      "metadata": {
        "id": "NzWjPgUUL5jb"
      },
      "source": [
        "**The mean squared error loss function**"
      ]
    },
    {
      "cell_type": "code",
      "execution_count": null,
      "metadata": {
        "id": "k9y3kGniL5jb"
      },
      "outputs": [],
      "source": [
        "def square_loss(targets, predictions):\n",
        "    per_sample_losses = tf.square(targets - predictions)\n",
        "    return tf.reduce_mean(per_sample_losses)"
      ]
    },
    {
      "cell_type": "markdown",
      "metadata": {
        "id": "7cSMMJ7_L5jb"
      },
      "source": [
        "**The training step function**"
      ]
    },
    {
      "cell_type": "code",
      "execution_count": null,
      "metadata": {
        "id": "5CBQzUWHL5jc"
      },
      "outputs": [],
      "source": [
        "learning_rate = 0.1\n",
        "\n",
        "def training_step(inputs, targets):\n",
        "    with tf.GradientTape() as tape:\n",
        "        predictions = model(inputs)\n",
        "        loss = square_loss(targets, predictions)\n",
        "    grad_loss_wrt_W, grad_loss_wrt_b = tape.gradient(loss, [W, b])\n",
        "    W.assign_sub(grad_loss_wrt_W * learning_rate)\n",
        "    b.assign_sub(grad_loss_wrt_b * learning_rate)\n",
        "    return loss"
      ]
    },
    {
      "cell_type": "markdown",
      "metadata": {
        "id": "25r8pFTLL5jc"
      },
      "source": [
        "**The batch training loop**"
      ]
    },
    {
      "cell_type": "code",
      "execution_count": null,
      "metadata": {
        "id": "Z_vxBmvEL5jc",
        "colab": {
          "base_uri": "https://localhost:8080/"
        },
        "outputId": "31d006d4-c2e0-4a6b-b9b5-9e1267c94a47"
      },
      "outputs": [
        {
          "output_type": "stream",
          "name": "stdout",
          "text": [
            "Loss at step 0: 2.9316\n",
            "Loss at step 1: 0.4491\n",
            "Loss at step 2: 0.1678\n",
            "Loss at step 3: 0.1256\n",
            "Loss at step 4: 0.1134\n",
            "Loss at step 5: 0.1055\n",
            "Loss at step 6: 0.0986\n",
            "Loss at step 7: 0.0924\n",
            "Loss at step 8: 0.0867\n",
            "Loss at step 9: 0.0814\n",
            "Loss at step 10: 0.0766\n",
            "Loss at step 11: 0.0722\n",
            "Loss at step 12: 0.0682\n",
            "Loss at step 13: 0.0645\n",
            "Loss at step 14: 0.0611\n",
            "Loss at step 15: 0.0580\n",
            "Loss at step 16: 0.0552\n",
            "Loss at step 17: 0.0526\n",
            "Loss at step 18: 0.0502\n",
            "Loss at step 19: 0.0480\n",
            "Loss at step 20: 0.0460\n",
            "Loss at step 21: 0.0442\n",
            "Loss at step 22: 0.0425\n",
            "Loss at step 23: 0.0410\n",
            "Loss at step 24: 0.0396\n",
            "Loss at step 25: 0.0383\n",
            "Loss at step 26: 0.0371\n",
            "Loss at step 27: 0.0360\n",
            "Loss at step 28: 0.0350\n",
            "Loss at step 29: 0.0341\n",
            "Loss at step 30: 0.0333\n",
            "Loss at step 31: 0.0325\n",
            "Loss at step 32: 0.0318\n",
            "Loss at step 33: 0.0312\n",
            "Loss at step 34: 0.0306\n",
            "Loss at step 35: 0.0301\n",
            "Loss at step 36: 0.0296\n",
            "Loss at step 37: 0.0291\n",
            "Loss at step 38: 0.0287\n",
            "Loss at step 39: 0.0283\n"
          ]
        }
      ],
      "source": [
        "for step in range(40):\n",
        "    loss = training_step(inputs, targets)\n",
        "    print(f\"Loss at step {step}: {loss:.4f}\")"
      ]
    },
    {
      "cell_type": "code",
      "execution_count": null,
      "metadata": {
        "id": "yhkrIcqnL5jc",
        "colab": {
          "base_uri": "https://localhost:8080/",
          "height": 430
        },
        "outputId": "7d9e4afa-4b88-4fb9-c328-87044830a03e"
      },
      "outputs": [
        {
          "output_type": "display_data",
          "data": {
            "text/plain": [
              "<Figure size 640x480 with 1 Axes>"
            ],
            "image/png": "[encoded data removed]"
          },
          "metadata": {}
        }
      ],
      "source": [
        "predictions = model(inputs)\n",
        "plt.scatter(inputs[:, 0], inputs[:, 1], c=predictions[:, 0] > 0.5)\n",
        "plt.show()"
      ]
    },
    {
      "cell_type": "code",
      "execution_count": null,
      "metadata": {
        "id": "y3URu8QtL5jc",
        "colab": {
          "base_uri": "https://localhost:8080/",
          "height": 448
        },
        "outputId": "9dc5f95b-0258-4f6d-9e8f-46ea5fd46239"
      },
      "outputs": [
        {
          "output_type": "execute_result",
          "data": {
            "text/plain": [
              "<matplotlib.collections.PathCollection at 0x780befb5b0d0>"
            ]
          },
          "metadata": {},
          "execution_count": 28
        },
        {
          "output_type": "display_data",
          "data": {
            "text/plain": [
              "<Figure size 640x480 with 1 Axes>"
            ],
            "image/png": "[encoded data removed]"
          },
          "metadata": {}
        }
      ],
      "source": [
        "x = np.linspace(-1, 4, 100)\n",
        "y = - W[0] /  W[1] * x + (0.5 - b) / W[1]\n",
        "plt.plot(x, y, \"-r\")\n",
        "plt.scatter(inputs[:, 0], inputs[:, 1], c=predictions[:, 0] > 0.5)"
      ]
    },
    {
      "cell_type": "markdown",
      "metadata": {
        "id": "PXg7ypDdL5jc"
      },
      "source": [
        "## Anatomy of a neural network: Understanding core Keras APIs"
      ]
    },
    {
      "cell_type": "markdown",
      "metadata": {
        "id": "2HBJA6_ZL5jc"
      },
      "source": [
        "### Layers: The building blocks of deep learning"
      ]
    },
    {
      "cell_type": "markdown",
      "metadata": {
        "id": "8lo16-zEL5jc"
      },
      "source": [
        "#### The base Layer class in Keras"
      ]
    },
    {
      "cell_type": "markdown",
      "metadata": {
        "id": "Ot5xCEBgL5jc"
      },
      "source": [
        "**A `Dense` layer implemented as a `Layer` subclass**"
      ]
    },
    {
      "cell_type": "code",
      "execution_count": null,
      "metadata": {
        "id": "q3qCytSrL5jc"
      },
      "outputs": [],
      "source": [
        "from tensorflow import keras\n",
        "\n",
        "class SimpleDense(keras.layers.Layer):\n",
        "\n",
        "    def __init__(self, units, activation=None):\n",
        "        super().__init__()\n",
        "        self.units = units\n",
        "        self.activation = activation\n",
        "\n",
        "    def build(self, input_shape):\n",
        "        input_dim = input_shape[-1]\n",
        "        self.W = self.add_weight(shape=(input_dim, self.units),\n",
        "                                 initializer=\"random_normal\")\n",
        "        self.b = self.add_weight(shape=(self.units,),\n",
        "                                 initializer=\"zeros\")\n",
        "\n",
        "    def call(self, inputs):\n",
        "        y = tf.matmul(inputs, self.W) + self.b\n",
        "        if self.activation is not None:\n",
        "            y = self.activation(y)\n",
        "        return y"
      ]
    },
    {
      "cell_type": "code",
      "execution_count": null,
      "metadata": {
        "id": "dP7ufozwL5jc",
        "colab": {
          "base_uri": "https://localhost:8080/"
        },
        "outputId": "59185990-77dc-4310-bd4f-0f0a8e10d971"
      },
      "outputs": [
        {
          "output_type": "stream",
          "name": "stdout",
          "text": [
            "(2, 32)\n"
          ]
        }
      ],
      "source": [
        "my_dense = SimpleDense(units=32, activation=tf.nn.relu)\n",
        "input_tensor = tf.ones(shape=(2, 784))\n",
        "output_tensor = my_dense(input_tensor)\n",
        "print(output_tensor.shape)"
      ]
    },
    {
      "cell_type": "markdown",
      "metadata": {
        "id": "64AgbFd-L5jd"
      },
      "source": [
        "#### Automatic shape inference: Building layers on the fly"
      ]
    },
    {
      "cell_type": "code",
      "execution_count": null,
      "metadata": {
        "id": "80JSNfh6L5jd"
      },
      "outputs": [],
      "source": [
        "from tensorflow.keras import layers\n",
        "layer = layers.Dense(32, activation=\"relu\")"
      ]
    },
    {
      "cell_type": "code",
      "execution_count": null,
      "metadata": {
        "id": "ZgcXNIk0L5jd"
      },
      "outputs": [],
      "source": [
        "from tensorflow.keras import models\n",
        "from tensorflow.keras import layers\n",
        "model = models.Sequential([\n",
        "    layers.Dense(32, activation=\"relu\"),\n",
        "    layers.Dense(32)\n",
        "])"
      ]
    },
    {
      "cell_type": "code",
      "execution_count": null,
      "metadata": {
        "id": "6S3Nn6PpL5jd"
      },
      "outputs": [],
      "source": [
        "model = keras.Sequential([\n",
        "    SimpleDense(32, activation=\"relu\"),\n",
        "    SimpleDense(64, activation=\"relu\"),\n",
        "    SimpleDense(32, activation=\"relu\"),\n",
        "    SimpleDense(10, activation=\"softmax\")\n",
        "])"
      ]
    },
    {
      "cell_type": "markdown",
      "metadata": {
        "id": "WcYZvlOYL5jd"
      },
      "source": [
        "### From layers to models"
      ]
    },
    {
      "cell_type": "markdown",
      "metadata": {
        "id": "SbOVWXNdL5jd"
      },
      "source": [
        "### The \"compile\" step: Configuring the learning process"
      ]
    },
    {
      "cell_type": "code",
      "execution_count": null,
      "metadata": {
        "id": "3w6Tm6sIL5jd"
      },
      "outputs": [],
      "source": [
        "model = keras.Sequential([keras.layers.Dense(1)])\n",
        "model.compile(optimizer=\"rmsprop\",\n",
        "              loss=\"mean_squared_error\",\n",
        "              metrics=[\"accuracy\"])"
      ]
    },
    {
      "cell_type": "code",
      "execution_count": null,
      "metadata": {
        "id": "tAfYuu_IL5jd"
      },
      "outputs": [],
      "source": [
        "model.compile(optimizer=keras.optimizers.RMSprop(),\n",
        "              loss=keras.losses.MeanSquaredError(),\n",
        "              metrics=[keras.metrics.BinaryAccuracy()])"
      ]
    },
    {
      "cell_type": "markdown",
      "metadata": {
        "id": "xjszo_PML5jd"
      },
      "source": [
        "### Picking a loss function"
      ]
    },
    {
      "cell_type": "markdown",
      "metadata": {
        "id": "ZkpXneHLL5jd"
      },
      "source": [
        "### Understanding the fit() method"
      ]
    },
    {
      "cell_type": "markdown",
      "metadata": {
        "id": "CWyuPu00L5jd"
      },
      "source": [
        "**Calling `fit()` with NumPy data**"
      ]
    },
    {
      "cell_type": "code",
      "execution_count": null,
      "metadata": {
        "id": "KXr8_yM0L5jd",
        "colab": {
          "base_uri": "https://localhost:8080/"
        },
        "outputId": "df42a251-4a4c-4deb-b0b8-4b0bf97b0437"
      },
      "outputs": [
        {
          "output_type": "stream",
          "name": "stdout",
          "text": [
            "Epoch 1/5\n",
            "16/16 [==============================] - 4s 4ms/step - loss: 0.6281 - binary_accuracy: 0.9965\n",
            "Epoch 2/5\n",
            "16/16 [==============================] - 0s 5ms/step - loss: 0.5434 - binary_accuracy: 0.9965\n",
            "Epoch 3/5\n",
            "16/16 [==============================] - 0s 4ms/step - loss: 0.4770 - binary_accuracy: 0.9965\n",
            "Epoch 4/5\n",
            "16/16 [==============================] - 0s 5ms/step - loss: 0.4173 - binary_accuracy: 0.9965\n",
            "Epoch 5/5\n",
            "16/16 [==============================] - 0s 7ms/step - loss: 0.3629 - binary_accuracy: 0.9945\n"
          ]
        }
      ],
      "source": [
        "history = model.fit(\n",
        "    inputs,\n",
        "    targets,\n",
        "    epochs=5,\n",
        "    batch_size=128\n",
        ")"
      ]
    },
    {
      "cell_type": "code",
      "execution_count": null,
      "metadata": {
        "id": "EVp3HXAbL5jd",
        "colab": {
          "base_uri": "https://localhost:8080/"
        },
        "outputId": "edc0c984-18d3-4f32-f409-0753b517394f"
      },
      "outputs": [
        {
          "output_type": "execute_result",
          "data": {
            "text/plain": [
              "{'loss': [0.6281219720840454,\n",
              "  0.5434146523475647,\n",
              "  0.4769922196865082,\n",
              "  0.4173227846622467,\n",
              "  0.3628741204738617],\n",
              " 'binary_accuracy': [0.9965000152587891,\n",
              "  0.9965000152587891,\n",
              "  0.9965000152587891,\n",
              "  0.9965000152587891,\n",
              "  0.9944999814033508]}"
            ]
          },
          "metadata": {},
          "execution_count": 37
        }
      ],
      "source": [
        "history.history"
      ]
    },
    {
      "cell_type": "markdown",
      "metadata": {
        "id": "NXyFCEwOL5jd"
      },
      "source": [
        "### Monitoring loss and metrics on validation data"
      ]
    },
    {
      "cell_type": "markdown",
      "metadata": {
        "id": "KSC0XIAIL5jd"
      },
      "source": [
        "**Using the `validation_data` argument**"
      ]
    },
    {
      "cell_type": "code",
      "execution_count": null,
      "metadata": {
        "id": "ipEfpSD5L5je",
        "colab": {
          "base_uri": "https://localhost:8080/"
        },
        "outputId": "9462df74-4a9c-4410-9214-72814110895c"
      },
      "outputs": [
        {
          "output_type": "stream",
          "name": "stdout",
          "text": [
            "Epoch 1/5\n",
            "88/88 [==============================] - 1s 5ms/step - loss: 0.1739 - binary_accuracy: 0.9707 - val_loss: 0.0829 - val_binary_accuracy: 1.0000\n",
            "Epoch 2/5\n",
            "88/88 [==============================] - 0s 3ms/step - loss: 0.0745 - binary_accuracy: 0.9579 - val_loss: 0.0365 - val_binary_accuracy: 0.9933\n",
            "Epoch 3/5\n",
            "88/88 [==============================] - 0s 4ms/step - loss: 0.0666 - binary_accuracy: 0.9664 - val_loss: 0.0316 - val_binary_accuracy: 1.0000\n",
            "Epoch 4/5\n",
            "88/88 [==============================] - 0s 4ms/step - loss: 0.0688 - binary_accuracy: 0.9600 - val_loss: 0.0383 - val_binary_accuracy: 0.9950\n",
            "Epoch 5/5\n",
            "88/88 [==============================] - 0s 3ms/step - loss: 0.0724 - binary_accuracy: 0.9614 - val_loss: 0.1472 - val_binary_accuracy: 0.9567\n"
          ]
        },
        {
          "output_type": "execute_result",
          "data": {
            "text/plain": [
              "<keras.src.callbacks.History at 0x780bedb060b0>"
            ]
          },
          "metadata": {},
          "execution_count": 38
        }
      ],
      "source": [
        "model = keras.Sequential([keras.layers.Dense(1)])\n",
        "model.compile(optimizer=keras.optimizers.RMSprop(learning_rate=0.1),\n",
        "              loss=keras.losses.MeanSquaredError(),\n",
        "              metrics=[keras.metrics.BinaryAccuracy()])\n",
        "\n",
        "indices_permutation = np.random.permutation(len(inputs))\n",
        "shuffled_inputs = inputs[indices_permutation]\n",
        "shuffled_targets = targets[indices_permutation]\n",
        "\n",
        "num_validation_samples = int(0.3 * len(inputs))\n",
        "val_inputs = shuffled_inputs[:num_validation_samples]\n",
        "val_targets = shuffled_targets[:num_validation_samples]\n",
        "training_inputs = shuffled_inputs[num_validation_samples:]\n",
        "training_targets = shuffled_targets[num_validation_samples:]\n",
        "model.fit(\n",
        "    training_inputs,\n",
        "    training_targets,\n",
        "    epochs=5,\n",
        "    batch_size=16,\n",
        "    validation_data=(val_inputs, val_targets)\n",
        ")"
      ]
    },
    {
      "cell_type": "markdown",
      "metadata": {
        "id": "0KcpHQZ3L5je"
      },
      "source": [
        "### Inference: Using a model after training"
      ]
    },
    {
      "cell_type": "code",
      "execution_count": null,
      "metadata": {
        "id": "pLF5PGjrL5je",
        "colab": {
          "base_uri": "https://localhost:8080/"
        },
        "outputId": "05e9260f-7c7a-484a-e076-cf9f6db88487"
      },
      "outputs": [
        {
          "output_type": "stream",
          "name": "stdout",
          "text": [
            "5/5 [==============================] - 0s 2ms/step\n",
            "[[ 1.2041923 ]\n",
            " [ 1.2107265 ]\n",
            " [ 1.014559  ]\n",
            " [ 1.582011  ]\n",
            " [ 1.7338915 ]\n",
            " [ 1.5640106 ]\n",
            " [ 1.3709209 ]\n",
            " [-0.01897901]\n",
            " [ 0.12807393]\n",
            " [-0.03064752]]\n"
          ]
        }
      ],
      "source": [
        "predictions = model.predict(val_inputs, batch_size=128)\n",
        "print(predictions[:10])"
      ]
    },
    {
      "cell_type": "markdown",
      "metadata": {
        "id": "1b9LM4V4L5je"
      },
      "source": [
        "## Summary"
      ]
    },
    {
      "cell_type": "code",
      "source": [],
      "metadata": {
        "id": "IgKowpi4Sema"
      },
      "execution_count": null,
      "outputs": []
    },
    {
      "cell_type": "markdown",
      "source": [
        "# Chapter4"
      ],
      "metadata": {
        "id": "xMZp_hPQSslc"
      }
    },
    {
      "cell_type": "markdown",
      "metadata": {
        "id": "DRSTBJXYL8GT"
      },
      "source": [
        "## Getting started with neural networks: Classification and regression"
      ]
    },
    {
      "cell_type": "markdown",
      "metadata": {
        "id": "W1mz3nlPL8GU"
      },
      "source": [
        "### 4-1. Classifying movie reviews: A binary classification example"
      ]
    },
    {
      "cell_type": "markdown",
      "metadata": {
        "id": "IDxzhXkDL8GU"
      },
      "source": [
        "#### The IMDB dataset"
      ]
    },
    {
      "cell_type": "markdown",
      "metadata": {
        "id": "7_SJ6vfuL8GU"
      },
      "source": [
        "**Loading the IMDB dataset**"
      ]
    },
    {
      "cell_type": "code",
      "execution_count": null,
      "metadata": {
        "id": "r-S4yl1ML8GU",
        "colab": {
          "base_uri": "https://localhost:8080/"
        },
        "outputId": "0be4ee14-1a72-46ab-808b-faced00e9b64"
      },
      "outputs": [
        {
          "output_type": "stream",
          "name": "stdout",
          "text": [
            "Downloading data from https://storage.googleapis.com/tensorflow/tf-keras-datasets/imdb.npz\n",
            "17464789/17464789 [==============================] - 0s 0us/step\n"
          ]
        }
      ],
      "source": [
        "from tensorflow.keras.datasets import imdb\n",
        "(train_data, train_labels), (test_data, test_labels) = imdb.load_data(\n",
        "    num_words=10000)"
      ]
    },
    {
      "cell_type": "code",
      "execution_count": null,
      "metadata": {
        "id": "VKsW6rswL8GU",
        "colab": {
          "base_uri": "https://localhost:8080/"
        },
        "outputId": "b708c0e8-2b04-4f24-8ecb-883e7b96ddbf"
      },
      "outputs": [
        {
          "output_type": "execute_result",
          "data": {
            "text/plain": [
              "[1, 14, 22, 16, 43, 530, 973, 1622, 1385, 65]"
            ]
          },
          "metadata": {},
          "execution_count": 46
        }
      ],
      "source": [
        "train_data[0][:10]"
      ]
    },
    {
      "cell_type": "code",
      "execution_count": null,
      "metadata": {
        "id": "gNoW2w1qL8GU",
        "colab": {
          "base_uri": "https://localhost:8080/"
        },
        "outputId": "8849a366-bed4-4927-ea47-31b20c6432c6"
      },
      "outputs": [
        {
          "output_type": "execute_result",
          "data": {
            "text/plain": [
              "array([1, 0, 0, 1, 0, 0, 1, 0, 1, 0])"
            ]
          },
          "metadata": {},
          "execution_count": 48
        }
      ],
      "source": [
        "train_labels[:10]"
      ]
    },
    {
      "cell_type": "code",
      "execution_count": null,
      "metadata": {
        "id": "wgDeyWiZL8GV",
        "colab": {
          "base_uri": "https://localhost:8080/"
        },
        "outputId": "4de7f3b2-a466-4249-8dc3-ca7da8a9682b"
      },
      "outputs": [
        {
          "output_type": "execute_result",
          "data": {
            "text/plain": [
              "9999"
            ]
          },
          "metadata": {},
          "execution_count": 49
        }
      ],
      "source": [
        "max([max(sequence) for sequence in train_data])"
      ]
    },
    {
      "cell_type": "markdown",
      "metadata": {
        "id": "nMRqPq5GL8GV"
      },
      "source": [
        "**Decoding reviews back to text**"
      ]
    },
    {
      "cell_type": "code",
      "execution_count": null,
      "metadata": {
        "id": "Xw7v3y2YL8GV",
        "colab": {
          "base_uri": "https://localhost:8080/"
        },
        "outputId": "640e640d-1a64-4e3a-a573-d5099f073aa2"
      },
      "outputs": [
        {
          "output_type": "stream",
          "name": "stdout",
          "text": [
            "Downloading data from https://storage.googleapis.com/tensorflow/tf-keras-datasets/imdb_word_index.json\n",
            "1641221/1641221 [==============================] - 0s 0us/step\n"
          ]
        }
      ],
      "source": [
        "word_index = imdb.get_word_index()\n",
        "reverse_word_index = dict(\n",
        "    [(value, key) for (key, value) in word_index.items()])\n",
        "decoded_review = \" \".join(\n",
        "    [reverse_word_index.get(i - 3, \"?\") for i in train_data[0]])   # i-3은 이 데이터에만 뭐 적용되는 어쩌구..rule.."
      ]
    },
    {
      "cell_type": "code",
      "source": [
        "decoded_review"
      ],
      "metadata": {
        "colab": {
          "base_uri": "https://localhost:8080/",
          "height": 143
        },
        "id": "plgF0jzkTA-j",
        "outputId": "28d4c9d6-5738-4da5-8b29-1273cfdbc992"
      },
      "execution_count": null,
      "outputs": [
        {
          "output_type": "execute_result",
          "data": {
            "text/plain": [
              "\"? this film was just brilliant casting location scenery story direction everyone's really suited the part they played and you could just imagine being there robert ? is an amazing actor and now the same being director ? father came from the same scottish island as myself so i loved the fact there was a real connection with this film the witty remarks throughout the film were great it was just brilliant so much that i bought the film as soon as it was released for ? and would recommend it to everyone to watch and the fly fishing was amazing really cried at the end it was so sad and you know what they say if you cry at a film it must have been good and this definitely was also ? to the two little boy's that played the ? of norman and paul they were just brilliant children are often left out of the ? list i think because the stars that play them all grown up are such a big profile for the whole film but these children are amazing and should be praised for what they have done don't you think the whole story was so lovely because it was true and was someone's life after all that was shared with us all\""
            ],
            "application/vnd.google.colaboratory.intrinsic+json": {
              "type": "string"
            }
          },
          "metadata": {},
          "execution_count": 51
        }
      ]
    },
    {
      "cell_type": "markdown",
      "metadata": {
        "id": "pY_dY4WZL8GV"
      },
      "source": [
        "#### Preparing the data"
      ]
    },
    {
      "cell_type": "markdown",
      "metadata": {
        "id": "2T8W24qIL8GV"
      },
      "source": [
        "**Encoding the integer sequences via multi-hot encoding**"
      ]
    },
    {
      "cell_type": "code",
      "source": [
        "for i in range(10):\n",
        "  print(len(train_data[i]))   # 길이가 다 다름"
      ],
      "metadata": {
        "colab": {
          "base_uri": "https://localhost:8080/"
        },
        "id": "lHcPvZxdTyma",
        "outputId": "a369b03e-20a2-4239-fd9d-306a7576a150"
      },
      "execution_count": null,
      "outputs": [
        {
          "output_type": "stream",
          "name": "stdout",
          "text": [
            "218\n",
            "189\n",
            "141\n",
            "550\n",
            "147\n",
            "43\n",
            "123\n",
            "562\n",
            "233\n",
            "130\n"
          ]
        }
      ]
    },
    {
      "cell_type": "code",
      "execution_count": null,
      "metadata": {
        "id": "bZOhFlu8L8GV"
      },
      "outputs": [],
      "source": [
        "import numpy as np\n",
        "def vectorize_sequences(sequences, dimension=10000):\n",
        "    results = np.zeros((len(sequences), dimension))\n",
        "    for i, sequence in enumerate(sequences):\n",
        "        for j in sequence:\n",
        "            results[i, j] = 1.\n",
        "    return results\n",
        "x_train = vectorize_sequences(train_data)\n",
        "x_test = vectorize_sequences(test_data)"
      ]
    },
    {
      "cell_type": "code",
      "execution_count": null,
      "metadata": {
        "id": "Bey6im66L8GV",
        "colab": {
          "base_uri": "https://localhost:8080/"
        },
        "outputId": "987973f5-a95c-4678-d87d-84533b49b98a"
      },
      "outputs": [
        {
          "output_type": "stream",
          "name": "stdout",
          "text": [
            "25000\n",
            "218\n",
            "25000\n",
            "(25000, 10000)\n",
            "(25000, 10000)\n"
          ]
        }
      ],
      "source": [
        "print(x_train.shape)\n",
        "print(x_test.shape)"
      ]
    },
    {
      "cell_type": "code",
      "execution_count": null,
      "metadata": {
        "id": "lfVNcXsEL8GV"
      },
      "outputs": [],
      "source": [
        "y_train = np.asarray(train_labels).astype(\"float32\")\n",
        "y_test = np.asarray(test_labels).astype(\"float32\")"
      ]
    },
    {
      "cell_type": "markdown",
      "metadata": {
        "id": "6y4nV8VmL8GV"
      },
      "source": [
        "#### Building your model"
      ]
    },
    {
      "cell_type": "markdown",
      "metadata": {
        "id": "hOG4VFCUL8GV"
      },
      "source": [
        "**Model definition**"
      ]
    },
    {
      "cell_type": "code",
      "execution_count": null,
      "metadata": {
        "id": "X7Tymj_3L8GV"
      },
      "outputs": [],
      "source": [
        "from tensorflow import keras\n",
        "from tensorflow.keras import layers\n",
        "\n",
        "model = keras.Sequential([\n",
        "    layers.Dense(16, activation=\"relu\"),\n",
        "    layers.Dense(16, activation=\"relu\"),\n",
        "    layers.Dense(1, activation=\"sigmoid\")  # binary classification\n",
        "])"
      ]
    },
    {
      "cell_type": "markdown",
      "metadata": {
        "id": "4RFe0sGUL8GV"
      },
      "source": [
        "**Compiling the model**"
      ]
    },
    {
      "cell_type": "code",
      "execution_count": null,
      "metadata": {
        "id": "qdyPRTtaL8GW"
      },
      "outputs": [],
      "source": [
        "model.compile(optimizer=\"rmsprop\",\n",
        "              loss=\"binary_crossentropy\",\n",
        "              metrics=[\"accuracy\"])"
      ]
    },
    {
      "cell_type": "markdown",
      "metadata": {
        "id": "ZL75MCIAL8GW"
      },
      "source": [
        "#### Validating your approach"
      ]
    },
    {
      "cell_type": "markdown",
      "metadata": {
        "id": "MDcknGODL8GW"
      },
      "source": [
        "**Setting aside a validation set**"
      ]
    },
    {
      "cell_type": "code",
      "execution_count": null,
      "metadata": {
        "id": "WlzjeCBOL8GW"
      },
      "outputs": [],
      "source": [
        "x_val = x_train[:10000]\n",
        "partial_x_train = x_train[10000:]\n",
        "y_val = y_train[:10000]\n",
        "partial_y_train = y_train[10000:]"
      ]
    },
    {
      "cell_type": "markdown",
      "metadata": {
        "id": "l9kp334JL8GW"
      },
      "source": [
        "**Training your model**"
      ]
    },
    {
      "cell_type": "code",
      "execution_count": null,
      "metadata": {
        "id": "oC8EV1nVL8GW",
        "colab": {
          "base_uri": "https://localhost:8080/"
        },
        "outputId": "e7b6dd4b-8b39-4d4c-c038-8483d99a79d1"
      },
      "outputs": [
        {
          "output_type": "stream",
          "name": "stdout",
          "text": [
            "Epoch 1/20\n",
            "30/30 [==============================] - 4s 83ms/step - loss: 0.5143 - accuracy: 0.7824 - val_loss: 0.3794 - val_accuracy: 0.8650\n",
            "Epoch 2/20\n",
            "30/30 [==============================] - 1s 29ms/step - loss: 0.3109 - accuracy: 0.8943 - val_loss: 0.3026 - val_accuracy: 0.8835\n",
            "Epoch 3/20\n",
            "30/30 [==============================] - 1s 24ms/step - loss: 0.2300 - accuracy: 0.9231 - val_loss: 0.3046 - val_accuracy: 0.8765\n",
            "Epoch 4/20\n",
            "30/30 [==============================] - 1s 22ms/step - loss: 0.1844 - accuracy: 0.9393 - val_loss: 0.2737 - val_accuracy: 0.8881\n",
            "Epoch 5/20\n",
            "30/30 [==============================] - 1s 23ms/step - loss: 0.1546 - accuracy: 0.9500 - val_loss: 0.2794 - val_accuracy: 0.8854\n",
            "Epoch 6/20\n",
            "30/30 [==============================] - 1s 22ms/step - loss: 0.1301 - accuracy: 0.9580 - val_loss: 0.3084 - val_accuracy: 0.8820\n",
            "Epoch 7/20\n",
            "30/30 [==============================] - 1s 23ms/step - loss: 0.1090 - accuracy: 0.9661 - val_loss: 0.3099 - val_accuracy: 0.8797\n",
            "Epoch 8/20\n",
            "30/30 [==============================] - 1s 25ms/step - loss: 0.0944 - accuracy: 0.9718 - val_loss: 0.3436 - val_accuracy: 0.8778\n",
            "Epoch 9/20\n",
            "30/30 [==============================] - 1s 23ms/step - loss: 0.0806 - accuracy: 0.9769 - val_loss: 0.3629 - val_accuracy: 0.8777\n",
            "Epoch 10/20\n",
            "30/30 [==============================] - 1s 25ms/step - loss: 0.0674 - accuracy: 0.9823 - val_loss: 0.3532 - val_accuracy: 0.8793\n",
            "Epoch 11/20\n",
            "30/30 [==============================] - 1s 22ms/step - loss: 0.0538 - accuracy: 0.9877 - val_loss: 0.4637 - val_accuracy: 0.8535\n",
            "Epoch 12/20\n",
            "30/30 [==============================] - 1s 21ms/step - loss: 0.0496 - accuracy: 0.9883 - val_loss: 0.4060 - val_accuracy: 0.8759\n",
            "Epoch 13/20\n",
            "30/30 [==============================] - 1s 22ms/step - loss: 0.0418 - accuracy: 0.9907 - val_loss: 0.4146 - val_accuracy: 0.8758\n",
            "Epoch 14/20\n",
            "30/30 [==============================] - 1s 22ms/step - loss: 0.0364 - accuracy: 0.9923 - val_loss: 0.4365 - val_accuracy: 0.8750\n",
            "Epoch 15/20\n",
            "30/30 [==============================] - 1s 22ms/step - loss: 0.0272 - accuracy: 0.9956 - val_loss: 0.4640 - val_accuracy: 0.8715\n",
            "Epoch 16/20\n",
            "30/30 [==============================] - 1s 23ms/step - loss: 0.0254 - accuracy: 0.9955 - val_loss: 0.5114 - val_accuracy: 0.8724\n",
            "Epoch 17/20\n",
            "30/30 [==============================] - 1s 27ms/step - loss: 0.0241 - accuracy: 0.9951 - val_loss: 0.5112 - val_accuracy: 0.8713\n",
            "Epoch 18/20\n",
            "30/30 [==============================] - 1s 40ms/step - loss: 0.0193 - accuracy: 0.9963 - val_loss: 0.5316 - val_accuracy: 0.8721\n",
            "Epoch 19/20\n",
            "30/30 [==============================] - 1s 26ms/step - loss: 0.0120 - accuracy: 0.9993 - val_loss: 0.5612 - val_accuracy: 0.8686\n",
            "Epoch 20/20\n",
            "30/30 [==============================] - 1s 23ms/step - loss: 0.0160 - accuracy: 0.9966 - val_loss: 0.5783 - val_accuracy: 0.8694\n"
          ]
        }
      ],
      "source": [
        "history = model.fit(partial_x_train,\n",
        "                    partial_y_train,\n",
        "                    epochs=20,\n",
        "                    batch_size=512,\n",
        "                    validation_data=(x_val, y_val))"
      ]
    },
    {
      "cell_type": "code",
      "execution_count": null,
      "metadata": {
        "id": "VQudW9AdL8GW",
        "colab": {
          "base_uri": "https://localhost:8080/"
        },
        "outputId": "6c49c8a0-0e5c-4438-d509-886afa20dfe5"
      },
      "outputs": [
        {
          "output_type": "execute_result",
          "data": {
            "text/plain": [
              "dict_keys(['loss', 'accuracy', 'val_loss', 'val_accuracy'])"
            ]
          },
          "metadata": {},
          "execution_count": 68
        }
      ],
      "source": [
        "history_dict = history.history\n",
        "history_dict.keys()"
      ]
    },
    {
      "cell_type": "code",
      "source": [
        "for i in range(20):\n",
        "  print('<epoch {0}> loss: {1:.4f}, accuracy: {2:.4f}, val_loss: {3:.4f}, val_accuracy: {4:.4f}'.format(i, history_dict['loss'][i], history_dict['accuracy'][i], history_dict['val_loss'][i], history_dict['val_accuracy'][i]))"
      ],
      "metadata": {
        "colab": {
          "base_uri": "https://localhost:8080/"
        },
        "id": "psfMKMegUZpe",
        "outputId": "04039148-0e46-4fee-e7d7-4b4004a39ff0"
      },
      "execution_count": null,
      "outputs": [
        {
          "output_type": "stream",
          "name": "stdout",
          "text": [
            "<epoch 0> loss: 0.5143, accuracy: 0.7824, val_loss: 0.3794, val_accuracy: 0.8650\n",
            "<epoch 1> loss: 0.3109, accuracy: 0.8943, val_loss: 0.3026, val_accuracy: 0.8835\n",
            "<epoch 2> loss: 0.2300, accuracy: 0.9231, val_loss: 0.3046, val_accuracy: 0.8765\n",
            "<epoch 3> loss: 0.1844, accuracy: 0.9393, val_loss: 0.2737, val_accuracy: 0.8881\n",
            "<epoch 4> loss: 0.1546, accuracy: 0.9500, val_loss: 0.2794, val_accuracy: 0.8854\n",
            "<epoch 5> loss: 0.1301, accuracy: 0.9580, val_loss: 0.3084, val_accuracy: 0.8820\n",
            "<epoch 6> loss: 0.1090, accuracy: 0.9661, val_loss: 0.3099, val_accuracy: 0.8797\n",
            "<epoch 7> loss: 0.0944, accuracy: 0.9718, val_loss: 0.3436, val_accuracy: 0.8778\n",
            "<epoch 8> loss: 0.0806, accuracy: 0.9769, val_loss: 0.3629, val_accuracy: 0.8777\n",
            "<epoch 9> loss: 0.0674, accuracy: 0.9823, val_loss: 0.3532, val_accuracy: 0.8793\n",
            "<epoch 10> loss: 0.0538, accuracy: 0.9877, val_loss: 0.4637, val_accuracy: 0.8535\n",
            "<epoch 11> loss: 0.0496, accuracy: 0.9883, val_loss: 0.4060, val_accuracy: 0.8759\n",
            "<epoch 12> loss: 0.0418, accuracy: 0.9907, val_loss: 0.4146, val_accuracy: 0.8758\n",
            "<epoch 13> loss: 0.0364, accuracy: 0.9923, val_loss: 0.4365, val_accuracy: 0.8750\n",
            "<epoch 14> loss: 0.0272, accuracy: 0.9956, val_loss: 0.4640, val_accuracy: 0.8715\n",
            "<epoch 15> loss: 0.0254, accuracy: 0.9955, val_loss: 0.5114, val_accuracy: 0.8724\n",
            "<epoch 16> loss: 0.0241, accuracy: 0.9951, val_loss: 0.5112, val_accuracy: 0.8713\n",
            "<epoch 17> loss: 0.0193, accuracy: 0.9963, val_loss: 0.5316, val_accuracy: 0.8721\n",
            "<epoch 18> loss: 0.0120, accuracy: 0.9993, val_loss: 0.5612, val_accuracy: 0.8686\n",
            "<epoch 19> loss: 0.0160, accuracy: 0.9966, val_loss: 0.5783, val_accuracy: 0.8694\n"
          ]
        }
      ]
    },
    {
      "cell_type": "markdown",
      "metadata": {
        "id": "yWjdI9v7L8GW"
      },
      "source": [
        "**Plotting the training and validation loss**"
      ]
    },
    {
      "cell_type": "code",
      "execution_count": null,
      "metadata": {
        "id": "W-HZGkfxL8GW",
        "colab": {
          "base_uri": "https://localhost:8080/",
          "height": 472
        },
        "outputId": "c4e75713-e3d7-49a2-8ca9-4431db1cb8be"
      },
      "outputs": [
        {
          "output_type": "display_data",
          "data": {
            "text/plain": [
              "<Figure size 640x480 with 1 Axes>"
            ],
            "image/png": "[encoded data removed]"
          },
          "metadata": {}
        }
      ],
      "source": [
        "import matplotlib.pyplot as plt\n",
        "history_dict = history.history\n",
        "loss_values = history_dict[\"loss\"]\n",
        "val_loss_values = history_dict[\"val_loss\"]\n",
        "epochs = range(1, len(loss_values) + 1)\n",
        "plt.plot(epochs, loss_values, \"bo\", label=\"Training loss\")\n",
        "plt.plot(epochs, val_loss_values, \"b\", label=\"Validation loss\")\n",
        "plt.title(\"Training and validation loss\")\n",
        "plt.xlabel(\"Epochs\")\n",
        "plt.ylabel(\"Loss\")\n",
        "plt.legend()\n",
        "plt.show()"
      ]
    },
    {
      "cell_type": "markdown",
      "metadata": {
        "id": "OfLY5Wy8L8GW"
      },
      "source": [
        "**Plotting the training and validation accuracy**"
      ]
    },
    {
      "cell_type": "code",
      "execution_count": null,
      "metadata": {
        "id": "w3yofdnXL8GW",
        "colab": {
          "base_uri": "https://localhost:8080/",
          "height": 472
        },
        "outputId": "192f750f-ac37-4a28-ae97-82856f4ac1d0"
      },
      "outputs": [
        {
          "output_type": "display_data",
          "data": {
            "text/plain": [
              "<Figure size 640x480 with 1 Axes>"
            ],
            "image/png": "[encoded data removed]"
          },
          "metadata": {}
        }
      ],
      "source": [
        "plt.clf()\n",
        "acc = history_dict[\"accuracy\"]\n",
        "val_acc = history_dict[\"val_accuracy\"]\n",
        "plt.plot(epochs, acc, \"bo\", label=\"Training acc\")\n",
        "plt.plot(epochs, val_acc, \"b\", label=\"Validation acc\")\n",
        "plt.title(\"Training and validation accuracy\")\n",
        "plt.xlabel(\"Epochs\")\n",
        "plt.ylabel(\"Accuracy\")\n",
        "plt.legend()\n",
        "plt.show()"
      ]
    },
    {
      "cell_type": "markdown",
      "metadata": {
        "id": "qbVqgP-HL8GW"
      },
      "source": [
        "**Retraining a model from scratch**"
      ]
    },
    {
      "cell_type": "code",
      "execution_count": null,
      "metadata": {
        "id": "sy5ChIakL8GW",
        "colab": {
          "base_uri": "https://localhost:8080/"
        },
        "outputId": "89cc4d56-9fd8-4ac8-bbe6-4ed076cbc3d4"
      },
      "outputs": [
        {
          "output_type": "stream",
          "name": "stdout",
          "text": [
            "Epoch 1/4\n",
            "49/49 [==============================] - 2s 21ms/step - loss: 0.4906 - accuracy: 0.8132\n",
            "Epoch 2/4\n",
            "49/49 [==============================] - 1s 18ms/step - loss: 0.2900 - accuracy: 0.8965\n",
            "Epoch 3/4\n",
            "49/49 [==============================] - 1s 13ms/step - loss: 0.2257 - accuracy: 0.9196\n",
            "Epoch 4/4\n",
            "49/49 [==============================] - 1s 13ms/step - loss: 0.1928 - accuracy: 0.9309\n",
            "782/782 [==============================] - 2s 3ms/step - loss: 0.2813 - accuracy: 0.8873\n"
          ]
        }
      ],
      "source": [
        "model = keras.Sequential([\n",
        "    layers.Dense(16, activation=\"relu\"),\n",
        "    layers.Dense(16, activation=\"relu\"),\n",
        "    layers.Dense(1, activation=\"sigmoid\")\n",
        "])\n",
        "model.compile(optimizer=\"rmsprop\",\n",
        "              loss=\"binary_crossentropy\",\n",
        "              metrics=[\"accuracy\"])\n",
        "model.fit(x_train, y_train, epochs=4, batch_size=512)\n",
        "results = model.evaluate(x_test, y_test)"
      ]
    },
    {
      "cell_type": "code",
      "execution_count": null,
      "metadata": {
        "id": "8Sb9b1VAL8GW",
        "colab": {
          "base_uri": "https://localhost:8080/"
        },
        "outputId": "b92f6c58-9375-43b5-e383-fdf9675dbd5d"
      },
      "outputs": [
        {
          "output_type": "execute_result",
          "data": {
            "text/plain": [
              "[0.2812943756580353, 0.8872799873352051]"
            ]
          },
          "metadata": {},
          "execution_count": 76
        }
      ],
      "source": [
        "results"
      ]
    },
    {
      "cell_type": "markdown",
      "metadata": {
        "id": "6-1CT6_ML8GX"
      },
      "source": [
        "#### Using a trained model to generate predictions on new data"
      ]
    },
    {
      "cell_type": "code",
      "execution_count": null,
      "metadata": {
        "id": "lR9Fmkn_L8GX",
        "colab": {
          "base_uri": "https://localhost:8080/"
        },
        "outputId": "4eb16ceb-3404-4e87-d4f0-b059aafe9aea"
      },
      "outputs": [
        {
          "output_type": "stream",
          "name": "stdout",
          "text": [
            "782/782 [==============================] - 2s 2ms/step\n"
          ]
        },
        {
          "output_type": "execute_result",
          "data": {
            "text/plain": [
              "array([[0.2218192 ],\n",
              "       [0.9989901 ],\n",
              "       [0.75936466],\n",
              "       ...,\n",
              "       [0.08696396],\n",
              "       [0.08226186],\n",
              "       [0.43350044]], dtype=float32)"
            ]
          },
          "metadata": {},
          "execution_count": 77
        }
      ],
      "source": [
        "model.predict(x_test)"
      ]
    },
    {
      "cell_type": "markdown",
      "metadata": {
        "id": "uUdxFRUjL8GX"
      },
      "source": [
        "#### Further experiments"
      ]
    },
    {
      "cell_type": "code",
      "source": [
        "logistic_model = keras.Sequential([\n",
        "    layers.Dense(1, activation=\"sigmoid\")\n",
        "])\n",
        "\n",
        "logistic_model.compile(optimizer=\"rmsprop\",\n",
        "              loss=\"mean_squared_error\",\n",
        "              metrics=[\"accuracy\"])\n",
        "\n",
        "history_logistic = logistic_model.fit(partial_x_train,\n",
        "                    partial_y_train,\n",
        "                    epochs=10,\n",
        "                    batch_size=512,\n",
        "                    validation_data=(x_val, y_val))"
      ],
      "metadata": {
        "colab": {
          "base_uri": "https://localhost:8080/"
        },
        "id": "8INtFwplWpN7",
        "outputId": "8a22efd0-d495-4cdb-98b6-ac952c8c7b8e"
      },
      "execution_count": null,
      "outputs": [
        {
          "output_type": "stream",
          "name": "stdout",
          "text": [
            "Epoch 1/10\n",
            "30/30 [==============================] - 3s 69ms/step - loss: 0.2134 - accuracy: 0.7391 - val_loss: 0.1896 - val_accuracy: 0.8070\n",
            "Epoch 2/10\n",
            "30/30 [==============================] - 1s 24ms/step - loss: 0.1702 - accuracy: 0.8446 - val_loss: 0.1627 - val_accuracy: 0.8399\n",
            "Epoch 3/10\n",
            "30/30 [==============================] - 1s 21ms/step - loss: 0.1453 - accuracy: 0.8701 - val_loss: 0.1446 - val_accuracy: 0.8579\n",
            "Epoch 4/10\n",
            "30/30 [==============================] - 1s 24ms/step - loss: 0.1279 - accuracy: 0.8846 - val_loss: 0.1321 - val_accuracy: 0.8655\n",
            "Epoch 5/10\n",
            "30/30 [==============================] - 1s 21ms/step - loss: 0.1152 - accuracy: 0.8953 - val_loss: 0.1230 - val_accuracy: 0.8736\n",
            "Epoch 6/10\n",
            "30/30 [==============================] - 1s 21ms/step - loss: 0.1055 - accuracy: 0.9030 - val_loss: 0.1164 - val_accuracy: 0.8758\n",
            "Epoch 7/10\n",
            "30/30 [==============================] - 1s 22ms/step - loss: 0.0977 - accuracy: 0.9103 - val_loss: 0.1108 - val_accuracy: 0.8802\n",
            "Epoch 8/10\n",
            "30/30 [==============================] - 1s 24ms/step - loss: 0.0914 - accuracy: 0.9155 - val_loss: 0.1071 - val_accuracy: 0.8828\n",
            "Epoch 9/10\n",
            "30/30 [==============================] - 1s 24ms/step - loss: 0.0863 - accuracy: 0.9204 - val_loss: 0.1033 - val_accuracy: 0.8844\n",
            "Epoch 10/10\n",
            "30/30 [==============================] - 1s 21ms/step - loss: 0.0819 - accuracy: 0.9233 - val_loss: 0.1005 - val_accuracy: 0.8861\n"
          ]
        }
      ]
    },
    {
      "cell_type": "code",
      "source": [
        "history_dict2 = history_logistic.history\n",
        "loss_values = history_dict2[\"loss\"]\n",
        "val_loss_values = history_dict2[\"val_loss\"]\n",
        "epochs = range(1, len(loss_values) + 1)\n",
        "plt.plot(epochs, loss_values, \"bo\", label=\"Training loss\")\n",
        "plt.plot(epochs, val_loss_values, \"b\", label=\"Validation loss\")\n",
        "plt.title(\"Training and validation loss\")\n",
        "plt.xlabel(\"Epochs\")\n",
        "plt.ylabel(\"Loss\")\n",
        "plt.legend()\n",
        "plt.show()"
      ],
      "metadata": {
        "colab": {
          "base_uri": "https://localhost:8080/",
          "height": 472
        },
        "id": "0dnQ5bP2Wxwh",
        "outputId": "654c0cf1-8150-4c26-d1b7-ad95cc08450e"
      },
      "execution_count": null,
      "outputs": [
        {
          "output_type": "display_data",
          "data": {
            "text/plain": [
              "<Figure size 640x480 with 1 Axes>"
            ],
            "image/png": "[encoded data removed]"
          },
          "metadata": {}
        }
      ]
    },
    {
      "cell_type": "code",
      "source": [
        "plt.clf()\n",
        "acc = history_dict2[\"accuracy\"]\n",
        "val_acc = history_dict2[\"val_accuracy\"]\n",
        "plt.plot(epochs, acc, \"bo\", label=\"Training acc\")\n",
        "plt.plot(epochs, val_acc, \"b\", label=\"Validation acc\")\n",
        "plt.title(\"Training and validation accuracy\")\n",
        "plt.xlabel(\"Epochs\")\n",
        "plt.ylabel(\"Accuracy\")\n",
        "plt.legend()\n",
        "plt.show()"
      ],
      "metadata": {
        "colab": {
          "base_uri": "https://localhost:8080/",
          "height": 472
        },
        "id": "gdth6V_SXqGi",
        "outputId": "3f040988-1703-48b9-e0ff-4ce05dbb338f"
      },
      "execution_count": null,
      "outputs": [
        {
          "output_type": "display_data",
          "data": {
            "text/plain": [
              "<Figure size 640x480 with 1 Axes>"
            ],
            "image/png": "[encoded data removed]"
          },
          "metadata": {}
        }
      ]
    },
    {
      "cell_type": "code",
      "source": [
        "model2 = keras.Sequential([\n",
        "    layers.Dense(32, activation='relu'),\n",
        "    layers.Dense(16, activation='relu'),\n",
        "    layers.Dense(16, activation='relu'),\n",
        "    layers.Dense(1, activation='sigmoid')\n",
        "])\n",
        "\n",
        "model2.compile(optimizer=\"rmsprop\",\n",
        "              loss=\"mean_squared_error\",\n",
        "              metrics=[\"accuracy\"])\n",
        "\n",
        "history2 = model2.fit(partial_x_train,\n",
        "                    partial_y_train,\n",
        "                    epochs=10,\n",
        "                    batch_size=512,\n",
        "                    validation_data=(x_val, y_val))\n"
      ],
      "metadata": {
        "colab": {
          "base_uri": "https://localhost:8080/"
        },
        "id": "5rS7ked9Yr83",
        "outputId": "82f3a483-2553-4fbc-f5ba-e1169ff97369"
      },
      "execution_count": null,
      "outputs": [
        {
          "output_type": "stream",
          "name": "stdout",
          "text": [
            "Epoch 1/10\n",
            "30/30 [==============================] - 3s 65ms/step - loss: 0.1802 - accuracy: 0.7459 - val_loss: 0.1223 - val_accuracy: 0.8535\n",
            "Epoch 2/10\n",
            "30/30 [==============================] - 1s 22ms/step - loss: 0.0973 - accuracy: 0.8880 - val_loss: 0.0949 - val_accuracy: 0.8813\n",
            "Epoch 3/10\n",
            "30/30 [==============================] - 1s 41ms/step - loss: 0.0719 - accuracy: 0.9170 - val_loss: 0.0886 - val_accuracy: 0.8828\n",
            "Epoch 4/10\n",
            "30/30 [==============================] - 1s 28ms/step - loss: 0.0580 - accuracy: 0.9321 - val_loss: 0.0841 - val_accuracy: 0.8861\n",
            "Epoch 5/10\n",
            "30/30 [==============================] - 1s 23ms/step - loss: 0.0487 - accuracy: 0.9441 - val_loss: 0.0837 - val_accuracy: 0.8856\n",
            "Epoch 6/10\n",
            "30/30 [==============================] - 1s 23ms/step - loss: 0.0412 - accuracy: 0.9540 - val_loss: 0.1037 - val_accuracy: 0.8631\n",
            "Epoch 7/10\n",
            "30/30 [==============================] - 1s 21ms/step - loss: 0.0364 - accuracy: 0.9607 - val_loss: 0.0856 - val_accuracy: 0.8833\n",
            "Epoch 8/10\n",
            "30/30 [==============================] - 1s 23ms/step - loss: 0.0301 - accuracy: 0.9691 - val_loss: 0.0875 - val_accuracy: 0.8834\n",
            "Epoch 9/10\n",
            "30/30 [==============================] - 1s 22ms/step - loss: 0.0301 - accuracy: 0.9670 - val_loss: 0.0897 - val_accuracy: 0.8789\n",
            "Epoch 10/10\n",
            "30/30 [==============================] - 1s 23ms/step - loss: 0.0231 - accuracy: 0.9767 - val_loss: 0.0895 - val_accuracy: 0.8821\n"
          ]
        }
      ]
    },
    {
      "cell_type": "code",
      "source": [
        "model3 = keras.Sequential([\n",
        "    layers.Dense(16, activation=\"tanh\"),\n",
        "    layers.Dense(16, activation=\"tanh\"),\n",
        "    layers.Dense(1, activation=\"sigmoid\")\n",
        "])"
      ],
      "metadata": {
        "id": "SBBqWy8_X2mw"
      },
      "execution_count": null,
      "outputs": []
    },
    {
      "cell_type": "code",
      "source": [],
      "metadata": {
        "id": "44yC_xlhYnbk"
      },
      "execution_count": null,
      "outputs": []
    },
    {
      "cell_type": "markdown",
      "metadata": {
        "id": "LhoIg1h_L8GX"
      },
      "source": [
        "#### Wrapping up"
      ]
    },
    {
      "cell_type": "markdown",
      "metadata": {
        "id": "UMfNZh3EL8GX"
      },
      "source": [
        "### 4-2. Classifying newswires: A multiclass classification example"
      ]
    },
    {
      "cell_type": "markdown",
      "metadata": {
        "id": "DscPKVOML8Gf"
      },
      "source": [
        "#### The Reuters dataset"
      ]
    },
    {
      "cell_type": "markdown",
      "metadata": {
        "id": "fcYIh83sL8Gf"
      },
      "source": [
        "**Loading the Reuters dataset**"
      ]
    },
    {
      "cell_type": "code",
      "execution_count": null,
      "metadata": {
        "id": "9aYq4-0ZL8Gf"
      },
      "outputs": [],
      "source": [
        "from tensorflow.keras.datasets import reuters\n",
        "(train_data, train_labels), (test_data, test_labels) = reuters.load_data(\n",
        "    num_words=10000)"
      ]
    },
    {
      "cell_type": "code",
      "execution_count": null,
      "metadata": {
        "id": "y_3GJW27L8Gf",
        "colab": {
          "base_uri": "https://localhost:8080/"
        },
        "outputId": "2825963f-a419-4de5-897d-35d17709eebf"
      },
      "outputs": [
        {
          "output_type": "execute_result",
          "data": {
            "text/plain": [
              "8982"
            ]
          },
          "metadata": {},
          "execution_count": 127
        }
      ],
      "source": [
        "len(train_data)"
      ]
    },
    {
      "cell_type": "code",
      "source": [
        "np.unique(train_labels)"
      ],
      "metadata": {
        "colab": {
          "base_uri": "https://localhost:8080/"
        },
        "id": "zcYnjj8mbxFS",
        "outputId": "9809539f-8707-4b0f-b9ff-068a17f838ff"
      },
      "execution_count": null,
      "outputs": [
        {
          "output_type": "execute_result",
          "data": {
            "text/plain": [
              "array([ 0,  1,  2,  3,  4,  5,  6,  7,  8,  9, 10, 11, 12, 13, 14, 15, 16,\n",
              "       17, 18, 19, 20, 21, 22, 23, 24, 25, 26, 27, 28, 29, 30, 31, 32, 33,\n",
              "       34, 35, 36, 37, 38, 39, 40, 41, 42, 43, 44, 45])"
            ]
          },
          "metadata": {},
          "execution_count": 128
        }
      ]
    },
    {
      "cell_type": "code",
      "execution_count": null,
      "metadata": {
        "id": "39rguWaEL8Gf",
        "colab": {
          "base_uri": "https://localhost:8080/"
        },
        "outputId": "ac552af1-15db-44f0-b48b-4508481724a9"
      },
      "outputs": [
        {
          "output_type": "execute_result",
          "data": {
            "text/plain": [
              "2246"
            ]
          },
          "metadata": {},
          "execution_count": 129
        }
      ],
      "source": [
        "len(test_data)"
      ]
    },
    {
      "cell_type": "code",
      "execution_count": null,
      "metadata": {
        "id": "RsrsqBi_L8Gf",
        "colab": {
          "base_uri": "https://localhost:8080/"
        },
        "outputId": "f380d43c-5b41-49f9-e579-7c92af0637e5"
      },
      "outputs": [
        {
          "output_type": "execute_result",
          "data": {
            "text/plain": [
              "[1,\n",
              " 245,\n",
              " 273,\n",
              " 207,\n",
              " 156,\n",
              " 53,\n",
              " 74,\n",
              " 160,\n",
              " 26,\n",
              " 14,\n",
              " 46,\n",
              " 296,\n",
              " 26,\n",
              " 39,\n",
              " 74,\n",
              " 2979,\n",
              " 3554,\n",
              " 14,\n",
              " 46,\n",
              " 4689,\n",
              " 4329,\n",
              " 86,\n",
              " 61,\n",
              " 3499,\n",
              " 4795,\n",
              " 14,\n",
              " 61,\n",
              " 451,\n",
              " 4329,\n",
              " 17,\n",
              " 12]"
            ]
          },
          "metadata": {},
          "execution_count": 130
        }
      ],
      "source": [
        "train_data[10]"
      ]
    },
    {
      "cell_type": "code",
      "source": [
        "print(train_data.shape, test_data.shape)"
      ],
      "metadata": {
        "colab": {
          "base_uri": "https://localhost:8080/"
        },
        "id": "xauGeIflcmCB",
        "outputId": "57014dc1-db28-4adb-8c9e-7436225bebf7"
      },
      "execution_count": null,
      "outputs": [
        {
          "output_type": "stream",
          "name": "stdout",
          "text": [
            "(8982,) (2246,)\n"
          ]
        }
      ]
    },
    {
      "cell_type": "markdown",
      "metadata": {
        "id": "7oYW6h3LL8Gf"
      },
      "source": [
        "**Decoding newswires back to text**"
      ]
    },
    {
      "cell_type": "code",
      "execution_count": null,
      "metadata": {
        "id": "8YIkG57eL8Gf",
        "colab": {
          "base_uri": "https://localhost:8080/"
        },
        "outputId": "214233ae-0968-4c9d-c986-3a9eb2d3b27f"
      },
      "outputs": [
        {
          "output_type": "stream",
          "name": "stdout",
          "text": [
            "Downloading data from https://storage.googleapis.com/tensorflow/tf-keras-datasets/reuters_word_index.json\n",
            "550378/550378 [==============================] - 0s 0us/step\n"
          ]
        }
      ],
      "source": [
        "word_index = reuters.get_word_index()\n",
        "reverse_word_index = dict([(value, key) for (key, value) in word_index.items()])\n",
        "decoded_newswire = \" \".join([reverse_word_index.get(i - 3, \"?\") for i in\n",
        "    train_data[0]])"
      ]
    },
    {
      "cell_type": "code",
      "execution_count": null,
      "metadata": {
        "id": "8g-U6BQ-L8Gf",
        "colab": {
          "base_uri": "https://localhost:8080/"
        },
        "outputId": "2bc7946e-77a7-4b07-850e-8902b276c8c1"
      },
      "outputs": [
        {
          "output_type": "execute_result",
          "data": {
            "text/plain": [
              "3"
            ]
          },
          "metadata": {},
          "execution_count": 88
        }
      ],
      "source": [
        "train_labels[10]"
      ]
    },
    {
      "cell_type": "markdown",
      "metadata": {
        "id": "jWFylG0fL8Gf"
      },
      "source": [
        "#### Preparing the data"
      ]
    },
    {
      "cell_type": "markdown",
      "metadata": {
        "id": "8slfm0FWL8Gf"
      },
      "source": [
        "**Encoding the input data**"
      ]
    },
    {
      "cell_type": "code",
      "execution_count": null,
      "metadata": {
        "id": "GwYFs_PyL8Gf"
      },
      "outputs": [],
      "source": [
        "x_train = vectorize_sequences(train_data)\n",
        "x_test = vectorize_sequences(test_data)"
      ]
    },
    {
      "cell_type": "markdown",
      "metadata": {
        "id": "7q0WnYeML8Gf"
      },
      "source": [
        "**Encoding the labels**"
      ]
    },
    {
      "cell_type": "code",
      "execution_count": null,
      "metadata": {
        "id": "w6qj3146L8Gf"
      },
      "outputs": [],
      "source": [
        "def to_one_hot(labels, dimension=46):\n",
        "    results = np.zeros((len(labels), dimension))\n",
        "    for i, label in enumerate(labels):\n",
        "        results[i, label] = 1.\n",
        "    return results\n",
        "y_train = to_one_hot(train_labels)\n",
        "y_test = to_one_hot(test_labels)"
      ]
    },
    {
      "cell_type": "code",
      "execution_count": null,
      "metadata": {
        "id": "pqAnUiXgL8Gf"
      },
      "outputs": [],
      "source": [
        "from tensorflow.keras.utils import to_categorical\n",
        "y_train = to_categorical(train_labels)\n",
        "y_test = to_categorical(test_labels)"
      ]
    },
    {
      "cell_type": "markdown",
      "metadata": {
        "id": "lRp3i2Z4L8Gf"
      },
      "source": [
        "#### Building your model"
      ]
    },
    {
      "cell_type": "markdown",
      "metadata": {
        "id": "3yFd01RLL8Gf"
      },
      "source": [
        "**Model definition**"
      ]
    },
    {
      "cell_type": "code",
      "source": [
        "y_train.shape"
      ],
      "metadata": {
        "colab": {
          "base_uri": "https://localhost:8080/"
        },
        "id": "Ag-A42FCaAL-",
        "outputId": "a9d029be-d244-4ff6-9a3c-c729490be0ff"
      },
      "execution_count": null,
      "outputs": [
        {
          "output_type": "execute_result",
          "data": {
            "text/plain": [
              "(8982, 46)"
            ]
          },
          "metadata": {},
          "execution_count": 93
        }
      ]
    },
    {
      "cell_type": "code",
      "execution_count": null,
      "metadata": {
        "id": "ejZNWJvdL8Gg"
      },
      "outputs": [],
      "source": [
        "model = keras.Sequential([\n",
        "    layers.Dense(64, activation=\"relu\"),\n",
        "    layers.Dense(64, activation=\"relu\"),\n",
        "    layers.Dense(46, activation=\"softmax\") # output length 46\n",
        "])"
      ]
    },
    {
      "cell_type": "markdown",
      "metadata": {
        "id": "GUMpAvBqL8Gg"
      },
      "source": [
        "**Compiling the model**"
      ]
    },
    {
      "cell_type": "code",
      "execution_count": null,
      "metadata": {
        "id": "SSGXekuoL8Gg"
      },
      "outputs": [],
      "source": [
        "model.compile(optimizer=\"rmsprop\",\n",
        "              loss=\"categorical_crossentropy\",\n",
        "              metrics=[\"accuracy\"])"
      ]
    },
    {
      "cell_type": "markdown",
      "metadata": {
        "id": "3O2F6gfpL8Gg"
      },
      "source": [
        "#### Validating your approach"
      ]
    },
    {
      "cell_type": "markdown",
      "metadata": {
        "id": "nTeqxDY7L8Gg"
      },
      "source": [
        "**Setting aside a validation set**"
      ]
    },
    {
      "cell_type": "code",
      "execution_count": null,
      "metadata": {
        "id": "SD2MpNksL8Gg"
      },
      "outputs": [],
      "source": [
        "x_val = x_train[:1000]\n",
        "partial_x_train = x_train[1000:]\n",
        "y_val = y_train[:1000]\n",
        "partial_y_train = y_train[1000:]"
      ]
    },
    {
      "cell_type": "markdown",
      "metadata": {
        "id": "J2U2NDSML8Gg"
      },
      "source": [
        "**Training the model**"
      ]
    },
    {
      "cell_type": "code",
      "execution_count": null,
      "metadata": {
        "id": "ZSrnUEZWL8Gg",
        "colab": {
          "base_uri": "https://localhost:8080/"
        },
        "outputId": "fe24b969-aa32-4ba8-acac-b919aa15ca9b"
      },
      "outputs": [
        {
          "output_type": "stream",
          "name": "stdout",
          "text": [
            "Epoch 1/20\n",
            "16/16 [==============================] - 2s 34ms/step - loss: 2.9294 - accuracy: 0.4785 - val_loss: 1.9713 - val_accuracy: 0.6140\n",
            "Epoch 2/20\n",
            "16/16 [==============================] - 0s 17ms/step - loss: 1.6137 - accuracy: 0.6723 - val_loss: 1.3924 - val_accuracy: 0.6890\n",
            "Epoch 3/20\n",
            "16/16 [==============================] - 0s 19ms/step - loss: 1.2001 - accuracy: 0.7427 - val_loss: 1.1928 - val_accuracy: 0.7370\n",
            "Epoch 4/20\n",
            "16/16 [==============================] - 0s 18ms/step - loss: 0.9781 - accuracy: 0.7873 - val_loss: 1.0947 - val_accuracy: 0.7550\n",
            "Epoch 5/20\n",
            "16/16 [==============================] - 0s 17ms/step - loss: 0.8155 - accuracy: 0.8237 - val_loss: 1.0116 - val_accuracy: 0.7750\n",
            "Epoch 6/20\n",
            "16/16 [==============================] - 0s 17ms/step - loss: 0.6842 - accuracy: 0.8524 - val_loss: 0.9648 - val_accuracy: 0.7890\n",
            "Epoch 7/20\n",
            "16/16 [==============================] - 0s 17ms/step - loss: 0.5790 - accuracy: 0.8781 - val_loss: 0.9149 - val_accuracy: 0.8060\n",
            "Epoch 8/20\n",
            "16/16 [==============================] - 0s 16ms/step - loss: 0.4807 - accuracy: 0.9003 - val_loss: 0.9117 - val_accuracy: 0.8070\n",
            "Epoch 9/20\n",
            "16/16 [==============================] - 0s 19ms/step - loss: 0.4098 - accuracy: 0.9134 - val_loss: 0.9005 - val_accuracy: 0.8200\n",
            "Epoch 10/20\n",
            "16/16 [==============================] - 0s 17ms/step - loss: 0.3575 - accuracy: 0.9255 - val_loss: 0.8690 - val_accuracy: 0.8270\n",
            "Epoch 11/20\n",
            "16/16 [==============================] - 0s 17ms/step - loss: 0.3029 - accuracy: 0.9350 - val_loss: 0.9151 - val_accuracy: 0.8120\n",
            "Epoch 12/20\n",
            "16/16 [==============================] - 0s 18ms/step - loss: 0.2662 - accuracy: 0.9411 - val_loss: 0.8700 - val_accuracy: 0.8200\n",
            "Epoch 13/20\n",
            "16/16 [==============================] - 0s 17ms/step - loss: 0.2365 - accuracy: 0.9455 - val_loss: 0.9517 - val_accuracy: 0.8030\n",
            "Epoch 14/20\n",
            "16/16 [==============================] - 0s 17ms/step - loss: 0.2136 - accuracy: 0.9476 - val_loss: 0.8974 - val_accuracy: 0.8170\n",
            "Epoch 15/20\n",
            "16/16 [==============================] - 0s 19ms/step - loss: 0.1954 - accuracy: 0.9499 - val_loss: 0.9416 - val_accuracy: 0.8120\n",
            "Epoch 16/20\n",
            "16/16 [==============================] - 0s 17ms/step - loss: 0.1758 - accuracy: 0.9536 - val_loss: 0.9564 - val_accuracy: 0.8120\n",
            "Epoch 17/20\n",
            "16/16 [==============================] - 0s 21ms/step - loss: 0.1634 - accuracy: 0.9535 - val_loss: 0.9483 - val_accuracy: 0.8100\n",
            "Epoch 18/20\n",
            "16/16 [==============================] - 0s 22ms/step - loss: 0.1559 - accuracy: 0.9529 - val_loss: 0.9310 - val_accuracy: 0.8210\n",
            "Epoch 19/20\n",
            "16/16 [==============================] - 0s 23ms/step - loss: 0.1482 - accuracy: 0.9548 - val_loss: 0.9365 - val_accuracy: 0.8230\n",
            "Epoch 20/20\n",
            "16/16 [==============================] - 0s 21ms/step - loss: 0.1391 - accuracy: 0.9570 - val_loss: 0.9678 - val_accuracy: 0.8100\n"
          ]
        }
      ],
      "source": [
        "history = model.fit(partial_x_train,\n",
        "                    partial_y_train,\n",
        "                    epochs=20,\n",
        "                    batch_size=512,\n",
        "                    validation_data=(x_val, y_val))"
      ]
    },
    {
      "cell_type": "markdown",
      "metadata": {
        "id": "85UygzwFL8Gg"
      },
      "source": [
        "**Plotting the training and validation loss**"
      ]
    },
    {
      "cell_type": "code",
      "execution_count": null,
      "metadata": {
        "id": "5Pz99Cb-L8Gg",
        "colab": {
          "base_uri": "https://localhost:8080/",
          "height": 472
        },
        "outputId": "93523786-f497-4830-df02-a58b7983e6a3"
      },
      "outputs": [
        {
          "output_type": "display_data",
          "data": {
            "text/plain": [
              "<Figure size 640x480 with 1 Axes>"
            ],
            "image/png": "[encoded data removed]"
          },
          "metadata": {}
        }
      ],
      "source": [
        "loss = history.history[\"loss\"]\n",
        "val_loss = history.history[\"val_loss\"]\n",
        "epochs = range(1, len(loss) + 1)\n",
        "plt.plot(epochs, loss, \"bo\", label=\"Training loss\")\n",
        "plt.plot(epochs, val_loss, \"b\", label=\"Validation loss\")\n",
        "plt.title(\"Training and validation loss\")\n",
        "plt.xlabel(\"Epochs\")\n",
        "plt.ylabel(\"Loss\")\n",
        "plt.legend()\n",
        "plt.show()"
      ]
    },
    {
      "cell_type": "markdown",
      "metadata": {
        "id": "WUnWwNLVL8Gg"
      },
      "source": [
        "**Plotting the training and validation accuracy**"
      ]
    },
    {
      "cell_type": "code",
      "execution_count": null,
      "metadata": {
        "id": "FCQR5OI7L8Gh",
        "colab": {
          "base_uri": "https://localhost:8080/",
          "height": 472
        },
        "outputId": "97536fd6-c159-4a36-e68c-c5fa283efa11"
      },
      "outputs": [
        {
          "output_type": "display_data",
          "data": {
            "text/plain": [
              "<Figure size 640x480 with 1 Axes>"
            ],
            "image/png": "[encoded data removed]"
          },
          "metadata": {}
        }
      ],
      "source": [
        "plt.clf()\n",
        "acc = history.history[\"accuracy\"]\n",
        "val_acc = history.history[\"val_accuracy\"]\n",
        "plt.plot(epochs, acc, \"bo\", label=\"Training accuracy\")\n",
        "plt.plot(epochs, val_acc, \"b\", label=\"Validation accuracy\")\n",
        "plt.title(\"Training and validation accuracy\")\n",
        "plt.xlabel(\"Epochs\")\n",
        "plt.ylabel(\"Accuracy\")\n",
        "plt.legend()\n",
        "plt.show()"
      ]
    },
    {
      "cell_type": "markdown",
      "metadata": {
        "id": "QXfjkKrfL8Gh"
      },
      "source": [
        "**Retraining a model from scratch**"
      ]
    },
    {
      "cell_type": "code",
      "execution_count": null,
      "metadata": {
        "id": "ZFRfibyOL8Gh",
        "colab": {
          "base_uri": "https://localhost:8080/"
        },
        "outputId": "7cf9b8ca-aa11-4a6d-be12-81347aa208b1"
      },
      "outputs": [
        {
          "output_type": "stream",
          "name": "stdout",
          "text": [
            "Epoch 1/9\n",
            "18/18 [==============================] - 1s 18ms/step - loss: 2.5552 - accuracy: 0.5173\n",
            "Epoch 2/9\n",
            "18/18 [==============================] - 0s 19ms/step - loss: 1.4568 - accuracy: 0.6921\n",
            "Epoch 3/9\n",
            "18/18 [==============================] - 0s 18ms/step - loss: 1.1202 - accuracy: 0.7558\n",
            "Epoch 4/9\n",
            "18/18 [==============================] - 0s 18ms/step - loss: 0.9076 - accuracy: 0.8029\n",
            "Epoch 5/9\n",
            "18/18 [==============================] - 0s 19ms/step - loss: 0.7479 - accuracy: 0.8388\n",
            "Epoch 6/9\n",
            "18/18 [==============================] - 0s 14ms/step - loss: 0.6189 - accuracy: 0.8692\n",
            "Epoch 7/9\n",
            "18/18 [==============================] - 0s 14ms/step - loss: 0.5162 - accuracy: 0.8930\n",
            "Epoch 8/9\n",
            "18/18 [==============================] - 0s 13ms/step - loss: 0.4289 - accuracy: 0.9109\n",
            "Epoch 9/9\n",
            "18/18 [==============================] - 0s 12ms/step - loss: 0.3646 - accuracy: 0.9233\n",
            "71/71 [==============================] - 0s 3ms/step - loss: 0.9182 - accuracy: 0.7890\n"
          ]
        }
      ],
      "source": [
        "model = keras.Sequential([\n",
        "  layers.Dense(64, activation=\"relu\"),\n",
        "  layers.Dense(64, activation=\"relu\"),\n",
        "  layers.Dense(46, activation=\"softmax\")\n",
        "])\n",
        "model.compile(optimizer=\"rmsprop\",\n",
        "              loss=\"categorical_crossentropy\",\n",
        "              metrics=[\"accuracy\"])\n",
        "model.fit(x_train,\n",
        "          y_train,\n",
        "          epochs=9,\n",
        "          batch_size=512)\n",
        "results = model.evaluate(x_test, y_test)"
      ]
    },
    {
      "cell_type": "code",
      "execution_count": null,
      "metadata": {
        "id": "7GXN1zZ1L8Gh",
        "colab": {
          "base_uri": "https://localhost:8080/"
        },
        "outputId": "b971a383-c459-4dd1-97d8-3b484f68b1be"
      },
      "outputs": [
        {
          "output_type": "execute_result",
          "data": {
            "text/plain": [
              "[0.9181857109069824, 0.7889581322669983]"
            ]
          },
          "metadata": {},
          "execution_count": 104
        }
      ],
      "source": [
        "results"
      ]
    },
    {
      "cell_type": "code",
      "execution_count": null,
      "metadata": {
        "id": "VcMzBTevL8Gh",
        "colab": {
          "base_uri": "https://localhost:8080/"
        },
        "outputId": "23512f98-e912-4c68-ca34-d823e7556b63"
      },
      "outputs": [
        {
          "output_type": "execute_result",
          "data": {
            "text/plain": [
              "0.19323241317898487"
            ]
          },
          "metadata": {},
          "execution_count": 105
        }
      ],
      "source": [
        "import copy\n",
        "test_labels_copy = copy.copy(test_labels)\n",
        "np.random.shuffle(test_labels_copy)\n",
        "hits_array = np.array(test_labels) == np.array(test_labels_copy)\n",
        "hits_array.mean()"
      ]
    },
    {
      "cell_type": "markdown",
      "metadata": {
        "id": "xP66kOqTL8Gh"
      },
      "source": [
        "#### Generating predictions on new data"
      ]
    },
    {
      "cell_type": "code",
      "execution_count": null,
      "metadata": {
        "id": "J-mqcJNHL8Gh",
        "colab": {
          "base_uri": "https://localhost:8080/"
        },
        "outputId": "896cf593-6ca9-4720-922c-17258b49c72b"
      },
      "outputs": [
        {
          "output_type": "stream",
          "name": "stdout",
          "text": [
            "71/71 [==============================] - 0s 2ms/step\n"
          ]
        }
      ],
      "source": [
        "predictions = model.predict(x_test)"
      ]
    },
    {
      "cell_type": "code",
      "execution_count": null,
      "metadata": {
        "id": "fY6YK6YGL8Gh",
        "colab": {
          "base_uri": "https://localhost:8080/"
        },
        "outputId": "e0ec535e-1612-4be0-d3ae-55870cf98471"
      },
      "outputs": [
        {
          "output_type": "execute_result",
          "data": {
            "text/plain": [
              "(46,)"
            ]
          },
          "metadata": {},
          "execution_count": 107
        }
      ],
      "source": [
        "predictions[0].shape"
      ]
    },
    {
      "cell_type": "code",
      "execution_count": null,
      "metadata": {
        "id": "THhcDU0mL8Gh",
        "colab": {
          "base_uri": "https://localhost:8080/"
        },
        "outputId": "5f8af56a-0cb9-4711-ab55-7358f3c39cdf"
      },
      "outputs": [
        {
          "output_type": "execute_result",
          "data": {
            "text/plain": [
              "0.99999994"
            ]
          },
          "metadata": {},
          "execution_count": 108
        }
      ],
      "source": [
        "np.sum(predictions[0])"
      ]
    },
    {
      "cell_type": "code",
      "execution_count": null,
      "metadata": {
        "id": "GTb1IYvqL8Gh",
        "colab": {
          "base_uri": "https://localhost:8080/"
        },
        "outputId": "b74249b1-d3e4-4201-f20e-71ce5ff3f361"
      },
      "outputs": [
        {
          "output_type": "execute_result",
          "data": {
            "text/plain": [
              "3"
            ]
          },
          "metadata": {},
          "execution_count": 109
        }
      ],
      "source": [
        "np.argmax(predictions[0])"
      ]
    },
    {
      "cell_type": "markdown",
      "metadata": {
        "id": "OzgEXx1jL8Gi"
      },
      "source": [
        "#### A different way to handle the labels and the loss"
      ]
    },
    {
      "cell_type": "code",
      "execution_count": null,
      "metadata": {
        "id": "fdhLytqZL8Gi"
      },
      "outputs": [],
      "source": [
        "y_train = np.array(train_labels)\n",
        "y_test = np.array(test_labels)"
      ]
    },
    {
      "cell_type": "code",
      "execution_count": null,
      "metadata": {
        "id": "cAVj_Dy1L8Gi"
      },
      "outputs": [],
      "source": [
        "model.compile(optimizer=\"rmsprop\",\n",
        "              loss=\"sparse_categorical_crossentropy\",     # label을 다른 형식으로 convert하지 않앗으므로 sparse_categorical_crossentropy 사용해도 됨\n",
        "              metrics=[\"accuracy\"])"
      ]
    },
    {
      "cell_type": "markdown",
      "metadata": {
        "id": "Gq0gcXXvL8Gi"
      },
      "source": [
        "#### The importance of having sufficiently large intermediate layers"
      ]
    },
    {
      "cell_type": "markdown",
      "metadata": {
        "id": "j9eG8kdVL8Gi"
      },
      "source": [
        "**A model with an information bottleneck**"
      ]
    },
    {
      "cell_type": "code",
      "execution_count": null,
      "metadata": {
        "id": "vChNPWozL8Gi",
        "colab": {
          "base_uri": "https://localhost:8080/"
        },
        "outputId": "e0498b69-594f-412e-fc06-86bd1869e39c"
      },
      "outputs": [
        {
          "output_type": "stream",
          "name": "stdout",
          "text": [
            "Epoch 1/20\n",
            "63/63 [==============================] - 1s 11ms/step - loss: 2.6682 - accuracy: 0.3768 - val_loss: 1.9194 - val_accuracy: 0.5970\n",
            "Epoch 2/20\n",
            "63/63 [==============================] - 1s 15ms/step - loss: 1.6458 - accuracy: 0.6409 - val_loss: 1.5427 - val_accuracy: 0.6550\n",
            "Epoch 3/20\n",
            "63/63 [==============================] - 0s 7ms/step - loss: 1.3338 - accuracy: 0.6917 - val_loss: 1.3839 - val_accuracy: 0.6780\n",
            "Epoch 4/20\n",
            "63/63 [==============================] - 0s 7ms/step - loss: 1.1597 - accuracy: 0.7136 - val_loss: 1.3145 - val_accuracy: 0.6760\n",
            "Epoch 5/20\n",
            "63/63 [==============================] - 0s 6ms/step - loss: 1.0448 - accuracy: 0.7298 - val_loss: 1.2732 - val_accuracy: 0.6960\n",
            "Epoch 6/20\n",
            "63/63 [==============================] - 0s 6ms/step - loss: 0.9559 - accuracy: 0.7443 - val_loss: 1.2528 - val_accuracy: 0.7080\n",
            "Epoch 7/20\n",
            "63/63 [==============================] - 1s 9ms/step - loss: 0.8816 - accuracy: 0.7679 - val_loss: 1.2777 - val_accuracy: 0.7100\n",
            "Epoch 8/20\n",
            "63/63 [==============================] - 1s 9ms/step - loss: 0.8177 - accuracy: 0.7810 - val_loss: 1.2639 - val_accuracy: 0.7210\n",
            "Epoch 9/20\n",
            "63/63 [==============================] - 1s 10ms/step - loss: 0.7630 - accuracy: 0.7934 - val_loss: 1.2752 - val_accuracy: 0.7230\n",
            "Epoch 10/20\n",
            "63/63 [==============================] - 0s 7ms/step - loss: 0.7146 - accuracy: 0.8062 - val_loss: 1.3070 - val_accuracy: 0.7100\n",
            "Epoch 11/20\n",
            "63/63 [==============================] - 0s 6ms/step - loss: 0.6714 - accuracy: 0.8200 - val_loss: 1.3046 - val_accuracy: 0.7190\n",
            "Epoch 12/20\n",
            "63/63 [==============================] - 0s 6ms/step - loss: 0.6326 - accuracy: 0.8279 - val_loss: 1.3256 - val_accuracy: 0.7180\n",
            "Epoch 13/20\n",
            "63/63 [==============================] - 0s 6ms/step - loss: 0.5981 - accuracy: 0.8341 - val_loss: 1.3507 - val_accuracy: 0.7170\n",
            "Epoch 14/20\n",
            "63/63 [==============================] - 0s 6ms/step - loss: 0.5664 - accuracy: 0.8390 - val_loss: 1.3941 - val_accuracy: 0.7200\n",
            "Epoch 15/20\n",
            "63/63 [==============================] - 0s 6ms/step - loss: 0.5404 - accuracy: 0.8440 - val_loss: 1.4228 - val_accuracy: 0.7280\n",
            "Epoch 16/20\n",
            "63/63 [==============================] - 0s 6ms/step - loss: 0.5159 - accuracy: 0.8500 - val_loss: 1.4373 - val_accuracy: 0.7260\n",
            "Epoch 17/20\n",
            "63/63 [==============================] - 0s 6ms/step - loss: 0.4949 - accuracy: 0.8555 - val_loss: 1.5071 - val_accuracy: 0.7180\n",
            "Epoch 18/20\n",
            "63/63 [==============================] - 0s 7ms/step - loss: 0.4753 - accuracy: 0.8631 - val_loss: 1.4988 - val_accuracy: 0.7210\n",
            "Epoch 19/20\n",
            "63/63 [==============================] - 0s 6ms/step - loss: 0.4591 - accuracy: 0.8659 - val_loss: 1.6054 - val_accuracy: 0.7210\n",
            "Epoch 20/20\n",
            "63/63 [==============================] - 0s 6ms/step - loss: 0.4414 - accuracy: 0.8718 - val_loss: 1.6323 - val_accuracy: 0.7200\n"
          ]
        },
        {
          "output_type": "execute_result",
          "data": {
            "text/plain": [
              "<keras.src.callbacks.History at 0x780bd49cbc10>"
            ]
          },
          "metadata": {},
          "execution_count": 112
        }
      ],
      "source": [
        "model = keras.Sequential([\n",
        "    layers.Dense(64, activation=\"relu\"),\n",
        "    layers.Dense(4, activation=\"relu\"),\n",
        "    layers.Dense(46, activation=\"softmax\")   # not recommended structure\n",
        "])\n",
        "model.compile(optimizer=\"rmsprop\",\n",
        "              loss=\"categorical_crossentropy\",\n",
        "              metrics=[\"accuracy\"])\n",
        "model.fit(partial_x_train,\n",
        "          partial_y_train,\n",
        "          epochs=20,\n",
        "          batch_size=128,\n",
        "          validation_data=(x_val, y_val))    # 모델 성능 상대적으로 bad.."
      ]
    },
    {
      "cell_type": "markdown",
      "metadata": {
        "id": "2erJltAHL8Gi"
      },
      "source": [
        "#### Further experiments"
      ]
    },
    {
      "cell_type": "markdown",
      "metadata": {
        "id": "jJkVnvhtL8Gi"
      },
      "source": [
        "### Wrapping up"
      ]
    }
  ]
}