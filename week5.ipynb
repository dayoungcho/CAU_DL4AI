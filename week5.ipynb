{
  "nbformat": 4,
  "nbformat_minor": 0,
  "metadata": {
    "colab": {
      "provenance": [],
      "collapsed_sections": [
        "S57TFN2mPqv2",
        "Ph__UvnDP0rC",
        "SgQKhKt_P0rF",
        "X_sYEjixP0rG",
        "akstnhwAP0rG"
      ],
      "gpuType": "T4",
      "toc_visible": true,
      "authorship_tag": "ABX9TyPgFOTZbtaNAlK2242iOEAS",
      "include_colab_link": true
    },
    "kernelspec": {
      "name": "python3",
      "display_name": "Python 3"
    },
    "language_info": {
      "name": "python"
    },
    "accelerator": "GPU"
  },
  "cells": [
    {
      "cell_type": "markdown",
      "metadata": {
        "id": "view-in-github",
        "colab_type": "text"
      },
      "source": [
        "<a href=\"https://colab.research.google.com/github/dayoungcho/CAU_DL4AI/blob/main/week5.ipynb\" target=\"_parent\"><img src=\"https://colab.research.google.com/assets/colab-badge.svg\" alt=\"Open In Colab\"/></a>"
      ]
    },
    {
      "cell_type": "markdown",
      "metadata": {
        "id": "ssEAOfLMPqv0"
      },
      "source": [
        "## Predicting house prices: A regression example"
      ]
    },
    {
      "cell_type": "markdown",
      "metadata": {
        "id": "6MtN4c6DPqv0"
      },
      "source": [
        "### The Boston Housing Price dataset"
      ]
    },
    {
      "cell_type": "markdown",
      "metadata": {
        "id": "jtLJRXLUPqv0"
      },
      "source": [
        "**Loading the Boston housing dataset**"
      ]
    },
    {
      "cell_type": "code",
      "execution_count": null,
      "metadata": {
        "id": "hGfdhOdlPqv0"
      },
      "outputs": [],
      "source": [
        "from tensorflow.keras.datasets import boston_housing\n",
        "(train_data, train_targets), (test_data, test_targets) = boston_housing.load_data()"
      ]
    },
    {
      "cell_type": "code",
      "execution_count": null,
      "metadata": {
        "id": "Ws2a-WNfPqv0",
        "colab": {
          "base_uri": "https://localhost:8080/"
        },
        "outputId": "0686a31e-819a-4d87-c521-c8c80b54565c"
      },
      "outputs": [
        {
          "output_type": "execute_result",
          "data": {
            "text/plain": [
              "(404, 13)"
            ]
          },
          "metadata": {},
          "execution_count": 2
        }
      ],
      "source": [
        "train_data.shape"
      ]
    },
    {
      "cell_type": "code",
      "execution_count": null,
      "metadata": {
        "id": "RzmJq55IPqv0",
        "colab": {
          "base_uri": "https://localhost:8080/"
        },
        "outputId": "9b5238fd-76b7-4e68-ee64-b009699a4d16"
      },
      "outputs": [
        {
          "output_type": "execute_result",
          "data": {
            "text/plain": [
              "(102, 13)"
            ]
          },
          "metadata": {},
          "execution_count": 3
        }
      ],
      "source": [
        "test_data.shape"
      ]
    },
    {
      "cell_type": "code",
      "execution_count": null,
      "metadata": {
        "id": "F2gZmHIYPqv0",
        "colab": {
          "base_uri": "https://localhost:8080/"
        },
        "outputId": "4addfc58-a6c4-4df8-e1ea-48c36ce6a407"
      },
      "outputs": [
        {
          "output_type": "execute_result",
          "data": {
            "text/plain": [
              "array([15.2, 42.3, 50. , 21.1, 17.7, 18.5, 11.3, 15.6, 15.6, 14.4, 12.1,\n",
              "       17.9, 23.1, 19.9, 15.7,  8.8, 50. , 22.5, 24.1, 27.5, 10.9, 30.8,\n",
              "       32.9, 24. , 18.5, 13.3, 22.9, 34.7, 16.6, 17.5, 22.3, 16.1, 14.9,\n",
              "       23.1, 34.9, 25. , 13.9, 13.1, 20.4, 20. , 15.2, 24.7, 22.2, 16.7,\n",
              "       12.7, 15.6, 18.4, 21. , 30.1, 15.1, 18.7,  9.6, 31.5, 24.8, 19.1,\n",
              "       22. , 14.5, 11. , 32. , 29.4, 20.3, 24.4, 14.6, 19.5, 14.1, 14.3,\n",
              "       15.6, 10.5,  6.3, 19.3, 19.3, 13.4, 36.4, 17.8, 13.5, 16.5,  8.3,\n",
              "       14.3, 16. , 13.4, 28.6, 43.5, 20.2, 22. , 23. , 20.7, 12.5, 48.5,\n",
              "       14.6, 13.4, 23.7, 50. , 21.7, 39.8, 38.7, 22.2, 34.9, 22.5, 31.1,\n",
              "       28.7, 46. , 41.7, 21. , 26.6, 15. , 24.4, 13.3, 21.2, 11.7, 21.7,\n",
              "       19.4, 50. , 22.8, 19.7, 24.7, 36.2, 14.2, 18.9, 18.3, 20.6, 24.6,\n",
              "       18.2,  8.7, 44. , 10.4, 13.2, 21.2, 37. , 30.7, 22.9, 20. , 19.3,\n",
              "       31.7, 32. , 23.1, 18.8, 10.9, 50. , 19.6,  5. , 14.4, 19.8, 13.8,\n",
              "       19.6, 23.9, 24.5, 25. , 19.9, 17.2, 24.6, 13.5, 26.6, 21.4, 11.9,\n",
              "       22.6, 19.6,  8.5, 23.7, 23.1, 22.4, 20.5, 23.6, 18.4, 35.2, 23.1,\n",
              "       27.9, 20.6, 23.7, 28. , 13.6, 27.1, 23.6, 20.6, 18.2, 21.7, 17.1,\n",
              "        8.4, 25.3, 13.8, 22.2, 18.4, 20.7, 31.6, 30.5, 20.3,  8.8, 19.2,\n",
              "       19.4, 23.1, 23. , 14.8, 48.8, 22.6, 33.4, 21.1, 13.6, 32.2, 13.1,\n",
              "       23.4, 18.9, 23.9, 11.8, 23.3, 22.8, 19.6, 16.7, 13.4, 22.2, 20.4,\n",
              "       21.8, 26.4, 14.9, 24.1, 23.8, 12.3, 29.1, 21. , 19.5, 23.3, 23.8,\n",
              "       17.8, 11.5, 21.7, 19.9, 25. , 33.4, 28.5, 21.4, 24.3, 27.5, 33.1,\n",
              "       16.2, 23.3, 48.3, 22.9, 22.8, 13.1, 12.7, 22.6, 15. , 15.3, 10.5,\n",
              "       24. , 18.5, 21.7, 19.5, 33.2, 23.2,  5. , 19.1, 12.7, 22.3, 10.2,\n",
              "       13.9, 16.3, 17. , 20.1, 29.9, 17.2, 37.3, 45.4, 17.8, 23.2, 29. ,\n",
              "       22. , 18. , 17.4, 34.6, 20.1, 25. , 15.6, 24.8, 28.2, 21.2, 21.4,\n",
              "       23.8, 31. , 26.2, 17.4, 37.9, 17.5, 20. ,  8.3, 23.9,  8.4, 13.8,\n",
              "        7.2, 11.7, 17.1, 21.6, 50. , 16.1, 20.4, 20.6, 21.4, 20.6, 36.5,\n",
              "        8.5, 24.8, 10.8, 21.9, 17.3, 18.9, 36.2, 14.9, 18.2, 33.3, 21.8,\n",
              "       19.7, 31.6, 24.8, 19.4, 22.8,  7.5, 44.8, 16.8, 18.7, 50. , 50. ,\n",
              "       19.5, 20.1, 50. , 17.2, 20.8, 19.3, 41.3, 20.4, 20.5, 13.8, 16.5,\n",
              "       23.9, 20.6, 31.5, 23.3, 16.8, 14. , 33.8, 36.1, 12.8, 18.3, 18.7,\n",
              "       19.1, 29. , 30.1, 50. , 50. , 22. , 11.9, 37.6, 50. , 22.7, 20.8,\n",
              "       23.5, 27.9, 50. , 19.3, 23.9, 22.6, 15.2, 21.7, 19.2, 43.8, 20.3,\n",
              "       33.2, 19.9, 22.5, 32.7, 22. , 17.1, 19. , 15. , 16.1, 25.1, 23.7,\n",
              "       28.7, 37.2, 22.6, 16.4, 25. , 29.8, 22.1, 17.4, 18.1, 30.3, 17.5,\n",
              "       24.7, 12.6, 26.5, 28.7, 13.3, 10.4, 24.4, 23. , 20. , 17.8,  7. ,\n",
              "       11.8, 24.4, 13.8, 19.4, 25.2, 19.4, 19.4, 29.1])"
            ]
          },
          "metadata": {},
          "execution_count": 4
        }
      ],
      "source": [
        "train_targets"
      ]
    },
    {
      "cell_type": "markdown",
      "metadata": {
        "id": "bCOf6rQyPqv0"
      },
      "source": [
        "### Preparing the data"
      ]
    },
    {
      "cell_type": "markdown",
      "metadata": {
        "id": "qXh9bAGuPqv0"
      },
      "source": [
        "**Normalizing the data**"
      ]
    },
    {
      "cell_type": "code",
      "execution_count": null,
      "metadata": {
        "id": "mHV8dXCdPqv0"
      },
      "outputs": [],
      "source": [
        "mean = train_data.mean(axis=0)\n",
        "train_data -= mean\n",
        "std = train_data.std(axis=0)\n",
        "train_data /= std\n",
        "test_data -= mean\n",
        "test_data /= std"
      ]
    },
    {
      "cell_type": "markdown",
      "metadata": {
        "id": "Fd8uTN6oPqv0"
      },
      "source": [
        "### Building your model"
      ]
    },
    {
      "cell_type": "markdown",
      "metadata": {
        "id": "TGwDZEAoPqv0"
      },
      "source": [
        "**Model definition**"
      ]
    },
    {
      "cell_type": "code",
      "execution_count": null,
      "metadata": {
        "id": "Ujnp78w8Pqv0"
      },
      "outputs": [],
      "source": [
        "def build_model():\n",
        "    model = keras.Sequential([\n",
        "        layers.Dense(64, activation=\"relu\"),\n",
        "        layers.Dense(64, activation=\"relu\"),\n",
        "        layers.Dense(1)      # classification과 달리 activation function(softmax) 적용 X, 출력값 1개\n",
        "    ])\n",
        "    model.compile(optimizer=\"rmsprop\", loss=\"mse\", metrics=[\"mae\"])\n",
        "    return model"
      ]
    },
    {
      "cell_type": "markdown",
      "metadata": {
        "id": "wHlpxKJXPqv1"
      },
      "source": [
        "### Validating your approach using K-fold validation"
      ]
    },
    {
      "cell_type": "markdown",
      "metadata": {
        "id": "Jkuzd-HRPqv1"
      },
      "source": [
        "**K-fold validation**"
      ]
    },
    {
      "cell_type": "code",
      "execution_count": null,
      "metadata": {
        "id": "eR0eJd0TPqv1",
        "colab": {
          "base_uri": "https://localhost:8080/"
        },
        "outputId": "e7e6a402-10c6-46ba-a7d8-e09037261dd6"
      },
      "outputs": [
        {
          "output_type": "stream",
          "name": "stdout",
          "text": [
            "Processing fold #0\n",
            "Processing fold #1\n",
            "Processing fold #2\n",
            "Processing fold #3\n"
          ]
        }
      ],
      "source": [
        "import numpy as np\n",
        "from tensorflow import keras\n",
        "from tensorflow.keras import layers\n",
        "\n",
        "\n",
        "k = 4\n",
        "num_val_samples = len(train_data) // k\n",
        "num_epochs = 100\n",
        "all_scores = []\n",
        "for i in range(k):\n",
        "    print(f\"Processing fold #{i}\")\n",
        "\n",
        "    val_data = train_data[i * num_val_samples: (i + 1) * num_val_samples]\n",
        "    val_targets = train_targets[i * num_val_samples: (i + 1) * num_val_samples]\n",
        "\n",
        "    partial_train_data = np.concatenate(\n",
        "        [train_data[:i * num_val_samples],\n",
        "         train_data[(i + 1) * num_val_samples:]],\n",
        "        axis=0)\n",
        "\n",
        "    partial_train_targets = np.concatenate(\n",
        "        [train_targets[:i * num_val_samples],\n",
        "         train_targets[(i + 1) * num_val_samples:]],\n",
        "        axis=0)\n",
        "\n",
        "    model = build_model()\n",
        "    model.fit(partial_train_data, partial_train_targets,\n",
        "              epochs=num_epochs, batch_size=16, verbose=0)\n",
        "    val_mse, val_mae = model.evaluate(val_data, val_targets, verbose=0)\n",
        "    all_scores.append(val_mae)"
      ]
    },
    {
      "cell_type": "code",
      "execution_count": null,
      "metadata": {
        "id": "ACmDSFdqPqv1",
        "colab": {
          "base_uri": "https://localhost:8080/"
        },
        "outputId": "6bfb50a2-ec45-4f02-e6d8-4bf9dde708cd"
      },
      "outputs": [
        {
          "output_type": "execute_result",
          "data": {
            "text/plain": [
              "[1.883969783782959, 2.535027027130127, 2.6299431324005127, 2.351130962371826]"
            ]
          },
          "metadata": {},
          "execution_count": 11
        }
      ],
      "source": [
        "all_scores"
      ]
    },
    {
      "cell_type": "code",
      "execution_count": null,
      "metadata": {
        "id": "kAbQbvQ3Pqv1",
        "colab": {
          "base_uri": "https://localhost:8080/"
        },
        "outputId": "b5994884-bada-4bfa-fe52-099082bd86b6"
      },
      "outputs": [
        {
          "output_type": "execute_result",
          "data": {
            "text/plain": [
              "2.306292951107025"
            ]
          },
          "metadata": {},
          "execution_count": 8
        }
      ],
      "source": [
        "np.mean(all_scores)"
      ]
    },
    {
      "cell_type": "markdown",
      "metadata": {
        "id": "2AqDK3ahPqv1"
      },
      "source": [
        "**Saving the validation logs at each fold**"
      ]
    },
    {
      "cell_type": "code",
      "execution_count": null,
      "metadata": {
        "id": "osHiZWhEPqv1",
        "colab": {
          "base_uri": "https://localhost:8080/"
        },
        "outputId": "35cff1e2-19fe-4973-d07a-452a85113222"
      },
      "outputs": [
        {
          "output_type": "stream",
          "name": "stdout",
          "text": [
            "Processing fold #0\n",
            "Processing fold #1\n",
            "Processing fold #2\n",
            "Processing fold #3\n"
          ]
        }
      ],
      "source": [
        "num_epochs = 500\n",
        "all_mae_histories = []\n",
        "for i in range(k):\n",
        "    print(f\"Processing fold #{i}\")\n",
        "\n",
        "    val_data = train_data[i * num_val_samples: (i + 1) * num_val_samples]\n",
        "    val_targets = train_targets[i * num_val_samples: (i + 1) * num_val_samples]\n",
        "\n",
        "    partial_train_data = np.concatenate(\n",
        "        [train_data[:i * num_val_samples],\n",
        "         train_data[(i + 1) * num_val_samples:]],\n",
        "        axis=0)\n",
        "\n",
        "    partial_train_targets = np.concatenate(\n",
        "        [train_targets[:i * num_val_samples],\n",
        "         train_targets[(i + 1) * num_val_samples:]],\n",
        "        axis=0)\n",
        "\n",
        "    model = build_model()\n",
        "\n",
        "    history = model.fit(partial_train_data, partial_train_targets,\n",
        "                        validation_data=(val_data, val_targets),\n",
        "                        epochs=num_epochs, batch_size=16, verbose=0)\n",
        "\n",
        "    mae_history = history.history[\"val_mae\"]\n",
        "    all_mae_histories.append(mae_history)"
      ]
    },
    {
      "cell_type": "markdown",
      "metadata": {
        "id": "WFpJgEXqPqv1"
      },
      "source": [
        "**Building the history of successive mean K-fold validation scores**"
      ]
    },
    {
      "cell_type": "code",
      "execution_count": null,
      "metadata": {
        "id": "7z8uUpVCPqv1"
      },
      "outputs": [],
      "source": [
        "average_mae_history = [\n",
        "    np.mean([x[i] for x in all_mae_histories]) for i in range(num_epochs)]"
      ]
    },
    {
      "cell_type": "markdown",
      "metadata": {
        "id": "7n1QIA59Pqv1"
      },
      "source": [
        "**Plotting validation scores**"
      ]
    },
    {
      "cell_type": "code",
      "execution_count": null,
      "metadata": {
        "id": "anX3Ukv2Pqv2",
        "colab": {
          "base_uri": "https://localhost:8080/",
          "height": 449
        },
        "outputId": "b089f6bf-7b62-45b1-84a9-8a46d6c46807"
      },
      "outputs": [
        {
          "output_type": "display_data",
          "data": {
            "text/plain": [
              "<Figure size 640x480 with 1 Axes>"
            ],
            "image/png": "[encoded data removed]"
          },
          "metadata": {}
        }
      ],
      "source": [
        "import matplotlib.pyplot as plt\n",
        "\n",
        "plt.plot(range(1, len(average_mae_history) + 1), average_mae_history)\n",
        "plt.xlabel(\"Epochs\")\n",
        "plt.ylabel(\"Validation MAE\")\n",
        "plt.show()"
      ]
    },
    {
      "cell_type": "markdown",
      "metadata": {
        "id": "3XOIUQgSPqv2"
      },
      "source": [
        "**Plotting validation scores, excluding the first 10 data points**"
      ]
    },
    {
      "cell_type": "code",
      "execution_count": null,
      "metadata": {
        "id": "FkQ5ziacPqv2",
        "colab": {
          "base_uri": "https://localhost:8080/",
          "height": 449
        },
        "outputId": "e5d83977-4e36-48cf-c0c3-967d5ecbcdb8"
      },
      "outputs": [
        {
          "output_type": "display_data",
          "data": {
            "text/plain": [
              "<Figure size 640x480 with 1 Axes>"
            ],
            "image/png": "[encoded data removed]"
          },
          "metadata": {}
        }
      ],
      "source": [
        "truncated_mae_history = average_mae_history[10:]\n",
        "plt.plot(range(1, len(truncated_mae_history) + 1), truncated_mae_history)\n",
        "plt.xlabel(\"Epochs\")\n",
        "plt.ylabel(\"Validation MAE\")\n",
        "plt.show()"
      ]
    },
    {
      "cell_type": "markdown",
      "metadata": {
        "id": "1UX2bMwlPqv2"
      },
      "source": [
        "**Training the final model**"
      ]
    },
    {
      "cell_type": "code",
      "execution_count": null,
      "metadata": {
        "id": "dEopCmnaPqv2",
        "colab": {
          "base_uri": "https://localhost:8080/"
        },
        "outputId": "991ec7e5-e39c-48af-bbcd-3e160a809a92"
      },
      "outputs": [
        {
          "output_type": "stream",
          "name": "stdout",
          "text": [
            "4/4 [==============================] - 0s 4ms/step - loss: 13.5250 - mae: 2.3609\n"
          ]
        }
      ],
      "source": [
        "model = build_model()\n",
        "model.fit(train_data, train_targets,\n",
        "          epochs=130, batch_size=16, verbose=0)\n",
        "test_mse_score, test_mae_score = model.evaluate(test_data, test_targets)"
      ]
    },
    {
      "cell_type": "code",
      "execution_count": null,
      "metadata": {
        "id": "z6afCYwDPqv2",
        "colab": {
          "base_uri": "https://localhost:8080/"
        },
        "outputId": "771a5c4f-f431-4b51-8027-20b5a00d2714"
      },
      "outputs": [
        {
          "output_type": "execute_result",
          "data": {
            "text/plain": [
              "2.3609158992767334"
            ]
          },
          "metadata": {},
          "execution_count": 14
        }
      ],
      "source": [
        "test_mae_score"
      ]
    },
    {
      "cell_type": "markdown",
      "metadata": {
        "id": "S57TFN2mPqv2"
      },
      "source": [
        "### Generating predictions on new data"
      ]
    },
    {
      "cell_type": "code",
      "execution_count": null,
      "metadata": {
        "id": "rRTzYEuQPqv2",
        "colab": {
          "base_uri": "https://localhost:8080/"
        },
        "outputId": "327a1b13-8bca-4c68-f1a8-d0e36ebeec82"
      },
      "outputs": [
        {
          "output_type": "stream",
          "name": "stdout",
          "text": [
            "4/4 [==============================] - 0s 2ms/step\n"
          ]
        },
        {
          "output_type": "execute_result",
          "data": {
            "text/plain": [
              "array([8.507302], dtype=float32)"
            ]
          },
          "metadata": {},
          "execution_count": 15
        }
      ],
      "source": [
        "predictions = model.predict(test_data)\n",
        "predictions[0]"
      ]
    },
    {
      "cell_type": "code",
      "source": [],
      "metadata": {
        "id": "uaBz8ZvTWmR6"
      },
      "execution_count": null,
      "outputs": []
    },
    {
      "cell_type": "markdown",
      "metadata": {
        "id": "s-cpR_JlP0rC"
      },
      "source": [
        "# Fundamentals of machine learning"
      ]
    },
    {
      "cell_type": "markdown",
      "metadata": {
        "id": "A1OoXVRSP0rC"
      },
      "source": [
        "## Generalization: The goal of machine learning"
      ]
    },
    {
      "cell_type": "markdown",
      "metadata": {
        "id": "Ph__UvnDP0rC"
      },
      "source": [
        "### Underfitting and overfitting"
      ]
    },
    {
      "cell_type": "markdown",
      "metadata": {
        "id": "XnNsMOxjP0rC"
      },
      "source": [
        "#### Noisy training data"
      ]
    },
    {
      "cell_type": "markdown",
      "metadata": {
        "id": "--6KClhcP0rD"
      },
      "source": [
        "#### Ambiguous features"
      ]
    },
    {
      "cell_type": "markdown",
      "metadata": {
        "id": "9cAd_QPeP0rD"
      },
      "source": [
        "#### Rare features and spurious correlations"
      ]
    },
    {
      "cell_type": "markdown",
      "metadata": {
        "id": "HdqS86_SP0rD"
      },
      "source": [
        "**Adding white-noise channels or all-zeros channels to MNIST**"
      ]
    },
    {
      "cell_type": "code",
      "execution_count": null,
      "metadata": {
        "id": "TXy195b6P0rD",
        "colab": {
          "base_uri": "https://localhost:8080/"
        },
        "outputId": "b56d4613-b8a9-4558-f48a-2fcb8218a3da"
      },
      "outputs": [
        {
          "output_type": "stream",
          "name": "stdout",
          "text": [
            "Downloading data from https://storage.googleapis.com/tensorflow/tf-keras-datasets/mnist.npz\n",
            "11490434/11490434 [==============================] - 0s 0us/step\n"
          ]
        }
      ],
      "source": [
        "from tensorflow.keras.datasets import mnist\n",
        "import numpy as np\n",
        "\n",
        "(train_images, train_labels), _ = mnist.load_data()\n",
        "train_images = train_images.reshape((60000, 28 * 28))\n",
        "train_images = train_images.astype(\"float32\") / 255\n",
        "\n",
        "train_images_with_noise_channels = np.concatenate(\n",
        "    [train_images, np.random.random((len(train_images), 784))], axis=1)\n",
        "\n",
        "train_images_with_zeros_channels = np.concatenate(\n",
        "    [train_images, np.zeros((len(train_images), 784))], axis=1)"
      ]
    },
    {
      "cell_type": "code",
      "source": [
        "print(train_images.shape)\n",
        "print(train_images_with_noise_channels.shape)\n",
        "print(train_images_with_zeros_channels.shape)"
      ],
      "metadata": {
        "colab": {
          "base_uri": "https://localhost:8080/"
        },
        "id": "R0A8wyOhXRrg",
        "outputId": "5ac889c6-20bd-41d0-9572-1a0f15130004"
      },
      "execution_count": null,
      "outputs": [
        {
          "output_type": "stream",
          "name": "stdout",
          "text": [
            "(60000, 784)\n",
            "(60000, 1568)\n",
            "(60000, 1568)\n"
          ]
        }
      ]
    },
    {
      "cell_type": "markdown",
      "metadata": {
        "id": "9I_6W908P0rE"
      },
      "source": [
        "**Training the same model on MNIST data with noise channels or all-zero channels**"
      ]
    },
    {
      "cell_type": "code",
      "execution_count": null,
      "metadata": {
        "id": "S_2_Xz_lP0rE",
        "colab": {
          "base_uri": "https://localhost:8080/"
        },
        "outputId": "01a2a3b3-40ed-4d1e-c133-ba17358a8a5d"
      },
      "outputs": [
        {
          "output_type": "stream",
          "name": "stdout",
          "text": [
            "Epoch 1/10\n",
            "375/375 [==============================] - 2s 4ms/step - loss: 0.6142 - accuracy: 0.8125 - val_loss: 0.3400 - val_accuracy: 0.8953\n",
            "Epoch 2/10\n",
            "375/375 [==============================] - 1s 3ms/step - loss: 0.2565 - accuracy: 0.9211 - val_loss: 0.1782 - val_accuracy: 0.9488\n",
            "Epoch 3/10\n",
            "375/375 [==============================] - 1s 3ms/step - loss: 0.1684 - accuracy: 0.9475 - val_loss: 0.1679 - val_accuracy: 0.9509\n",
            "Epoch 4/10\n",
            "375/375 [==============================] - 2s 4ms/step - loss: 0.1191 - accuracy: 0.9626 - val_loss: 0.1682 - val_accuracy: 0.9486\n",
            "Epoch 5/10\n",
            "375/375 [==============================] - 2s 4ms/step - loss: 0.0880 - accuracy: 0.9721 - val_loss: 0.1238 - val_accuracy: 0.9642\n",
            "Epoch 6/10\n",
            "375/375 [==============================] - 1s 3ms/step - loss: 0.0639 - accuracy: 0.9797 - val_loss: 0.1157 - val_accuracy: 0.9671\n",
            "Epoch 7/10\n",
            "375/375 [==============================] - 1s 3ms/step - loss: 0.0464 - accuracy: 0.9853 - val_loss: 0.1149 - val_accuracy: 0.9679\n",
            "Epoch 8/10\n",
            "375/375 [==============================] - 1s 3ms/step - loss: 0.0350 - accuracy: 0.9887 - val_loss: 0.1495 - val_accuracy: 0.9576\n",
            "Epoch 9/10\n",
            "375/375 [==============================] - 1s 3ms/step - loss: 0.0266 - accuracy: 0.9915 - val_loss: 0.1372 - val_accuracy: 0.9654\n",
            "Epoch 10/10\n",
            "375/375 [==============================] - 1s 3ms/step - loss: 0.0198 - accuracy: 0.9942 - val_loss: 0.1258 - val_accuracy: 0.9688\n",
            "Epoch 1/10\n",
            "375/375 [==============================] - 3s 5ms/step - loss: 0.2939 - accuracy: 0.9155 - val_loss: 0.1550 - val_accuracy: 0.9545\n",
            "Epoch 2/10\n",
            "375/375 [==============================] - 2s 4ms/step - loss: 0.1213 - accuracy: 0.9650 - val_loss: 0.1061 - val_accuracy: 0.9688\n",
            "Epoch 3/10\n",
            "375/375 [==============================] - 1s 3ms/step - loss: 0.0795 - accuracy: 0.9763 - val_loss: 0.0836 - val_accuracy: 0.9743\n",
            "Epoch 4/10\n",
            "375/375 [==============================] - 1s 3ms/step - loss: 0.0580 - accuracy: 0.9833 - val_loss: 0.0840 - val_accuracy: 0.9743\n",
            "Epoch 5/10\n",
            "375/375 [==============================] - 1s 4ms/step - loss: 0.0426 - accuracy: 0.9878 - val_loss: 0.0742 - val_accuracy: 0.9781\n",
            "Epoch 6/10\n",
            "375/375 [==============================] - 1s 3ms/step - loss: 0.0322 - accuracy: 0.9910 - val_loss: 0.0820 - val_accuracy: 0.9780\n",
            "Epoch 7/10\n",
            "375/375 [==============================] - 1s 3ms/step - loss: 0.0243 - accuracy: 0.9933 - val_loss: 0.0743 - val_accuracy: 0.9787\n",
            "Epoch 8/10\n",
            "375/375 [==============================] - 1s 4ms/step - loss: 0.0182 - accuracy: 0.9948 - val_loss: 0.0792 - val_accuracy: 0.9787\n",
            "Epoch 9/10\n",
            "375/375 [==============================] - 1s 3ms/step - loss: 0.0140 - accuracy: 0.9962 - val_loss: 0.0730 - val_accuracy: 0.9798\n",
            "Epoch 10/10\n",
            "375/375 [==============================] - 1s 4ms/step - loss: 0.0104 - accuracy: 0.9974 - val_loss: 0.0774 - val_accuracy: 0.9803\n",
            "Epoch 1/10\n",
            "375/375 [==============================] - 2s 4ms/step - loss: 0.2945 - accuracy: 0.9154 - val_loss: 0.1471 - val_accuracy: 0.9576\n",
            "Epoch 2/10\n",
            "375/375 [==============================] - 1s 3ms/step - loss: 0.1222 - accuracy: 0.9637 - val_loss: 0.1070 - val_accuracy: 0.9687\n",
            "Epoch 3/10\n",
            "375/375 [==============================] - 1s 4ms/step - loss: 0.0811 - accuracy: 0.9764 - val_loss: 0.0889 - val_accuracy: 0.9738\n",
            "Epoch 4/10\n",
            "375/375 [==============================] - 2s 4ms/step - loss: 0.0586 - accuracy: 0.9826 - val_loss: 0.0783 - val_accuracy: 0.9768\n",
            "Epoch 5/10\n",
            "375/375 [==============================] - 1s 3ms/step - loss: 0.0430 - accuracy: 0.9874 - val_loss: 0.0827 - val_accuracy: 0.9747\n",
            "Epoch 6/10\n",
            "375/375 [==============================] - 1s 3ms/step - loss: 0.0316 - accuracy: 0.9914 - val_loss: 0.0811 - val_accuracy: 0.9751\n",
            "Epoch 7/10\n",
            "375/375 [==============================] - 1s 3ms/step - loss: 0.0239 - accuracy: 0.9934 - val_loss: 0.0754 - val_accuracy: 0.9796\n",
            "Epoch 8/10\n",
            "375/375 [==============================] - 1s 3ms/step - loss: 0.0177 - accuracy: 0.9949 - val_loss: 0.0781 - val_accuracy: 0.9777\n",
            "Epoch 9/10\n",
            "375/375 [==============================] - 1s 3ms/step - loss: 0.0132 - accuracy: 0.9966 - val_loss: 0.0732 - val_accuracy: 0.9794\n",
            "Epoch 10/10\n",
            "375/375 [==============================] - 1s 3ms/step - loss: 0.0100 - accuracy: 0.9975 - val_loss: 0.0797 - val_accuracy: 0.9780\n"
          ]
        }
      ],
      "source": [
        "from tensorflow import keras\n",
        "from tensorflow.keras import layers\n",
        "\n",
        "def get_model():\n",
        "    model = keras.Sequential([\n",
        "        layers.Dense(512, activation=\"relu\"),\n",
        "        layers.Dense(10, activation=\"softmax\")\n",
        "    ])\n",
        "    model.compile(optimizer=\"rmsprop\",\n",
        "                  loss=\"sparse_categorical_crossentropy\",\n",
        "                  metrics=[\"accuracy\"])\n",
        "    return model\n",
        "\n",
        "\n",
        "\n",
        "model = get_model()\n",
        "history_noise = model.fit(\n",
        "    train_images_with_noise_channels, train_labels,\n",
        "    epochs=10,\n",
        "    batch_size=128,\n",
        "    validation_split=0.2)\n",
        "\n",
        "model = get_model()\n",
        "history_zeros = model.fit(\n",
        "    train_images_with_zeros_channels, train_labels,\n",
        "    epochs=10,\n",
        "    batch_size=128,\n",
        "    validation_split=0.2)\n",
        "\n",
        "model = get_model()\n",
        "history = model.fit(\n",
        "    train_images, train_labels,\n",
        "    epochs=10,\n",
        "    batch_size=128,\n",
        "    validation_split=0.2)"
      ]
    },
    {
      "cell_type": "markdown",
      "metadata": {
        "id": "aRPQ11HQP0rE"
      },
      "source": [
        "**Plotting a validation accuracy comparison**"
      ]
    },
    {
      "cell_type": "code",
      "execution_count": null,
      "metadata": {
        "id": "61Ixm2_XP0rE",
        "colab": {
          "base_uri": "https://localhost:8080/",
          "height": 490
        },
        "outputId": "4b29c5df-1e9e-45f3-f1c1-d6e3d5970042"
      },
      "outputs": [
        {
          "output_type": "execute_result",
          "data": {
            "text/plain": [
              "<matplotlib.legend.Legend at 0x7b528c0ab160>"
            ]
          },
          "metadata": {},
          "execution_count": 24
        },
        {
          "output_type": "display_data",
          "data": {
            "text/plain": [
              "<Figure size 640x480 with 1 Axes>"
            ],
            "image/png": "[encoded data removed]"
          },
          "metadata": {}
        }
      ],
      "source": [
        "import matplotlib.pyplot as plt\n",
        "val_acc_noise = history_noise.history[\"val_accuracy\"]\n",
        "val_acc_zeros = history_zeros.history[\"val_accuracy\"]\n",
        "vla_acc = history.history['val_accuracy']\n",
        "\n",
        "epochs = range(1, 11)\n",
        "\n",
        "plt.plot(epochs, val_acc_noise, \"b-\",\n",
        "         label=\"Validation accuracy with noise channels\")\n",
        "plt.plot(epochs, val_acc_zeros, \"b--\",\n",
        "         label=\"Validation accuracy with zeros channels\")\n",
        "plt.plot(epochs, vla_acc, 'b:',\n",
        "         label = 'Original Validation accuracy')\n",
        "\n",
        "plt.title(\"Effect of noise channels on validation accuracy\")\n",
        "plt.xlabel(\"Epochs\")\n",
        "plt.ylabel(\"Accuracy\")\n",
        "plt.legend()"
      ]
    },
    {
      "cell_type": "markdown",
      "metadata": {
        "id": "VtPK5DKHP0rE"
      },
      "source": [
        "### The nature of generalization in deep learning"
      ]
    },
    {
      "cell_type": "markdown",
      "metadata": {
        "id": "FVUr7aS7P0rF"
      },
      "source": [
        "**Fitting a MNIST model with randomly shuffled labels**"
      ]
    },
    {
      "cell_type": "code",
      "execution_count": null,
      "metadata": {
        "id": "iJzgcGPnP0rF",
        "colab": {
          "base_uri": "https://localhost:8080/"
        },
        "outputId": "e08f8ca1-1ee1-40e4-927a-caeeecd6e1c4"
      },
      "outputs": [
        {
          "output_type": "stream",
          "name": "stdout",
          "text": [
            "Epoch 1/30\n",
            "375/375 [==============================] - 2s 4ms/step - loss: 2.3160 - accuracy: 0.1035 - val_loss: 2.3048 - val_accuracy: 0.1034\n",
            "Epoch 2/30\n",
            "375/375 [==============================] - 1s 3ms/step - loss: 2.2992 - accuracy: 0.1154 - val_loss: 2.3102 - val_accuracy: 0.1032\n",
            "Epoch 3/30\n",
            "375/375 [==============================] - 1s 4ms/step - loss: 2.2907 - accuracy: 0.1273 - val_loss: 2.3187 - val_accuracy: 0.1018\n",
            "Epoch 4/30\n",
            "375/375 [==============================] - 2s 5ms/step - loss: 2.2790 - accuracy: 0.1380 - val_loss: 2.3219 - val_accuracy: 0.1058\n",
            "Epoch 5/30\n",
            "375/375 [==============================] - 1s 3ms/step - loss: 2.2621 - accuracy: 0.1533 - val_loss: 2.3386 - val_accuracy: 0.0970\n",
            "Epoch 6/30\n",
            "375/375 [==============================] - 1s 3ms/step - loss: 2.2426 - accuracy: 0.1650 - val_loss: 2.3552 - val_accuracy: 0.0964\n",
            "Epoch 7/30\n",
            "375/375 [==============================] - 1s 3ms/step - loss: 2.2185 - accuracy: 0.1831 - val_loss: 2.3637 - val_accuracy: 0.0990\n",
            "Epoch 8/30\n",
            "375/375 [==============================] - 1s 3ms/step - loss: 2.1931 - accuracy: 0.1985 - val_loss: 2.3823 - val_accuracy: 0.0987\n",
            "Epoch 9/30\n",
            "375/375 [==============================] - 1s 3ms/step - loss: 2.1639 - accuracy: 0.2119 - val_loss: 2.4009 - val_accuracy: 0.0989\n",
            "Epoch 10/30\n",
            "375/375 [==============================] - 1s 3ms/step - loss: 2.1317 - accuracy: 0.2299 - val_loss: 2.4245 - val_accuracy: 0.0978\n",
            "Epoch 11/30\n",
            "375/375 [==============================] - 1s 3ms/step - loss: 2.0968 - accuracy: 0.2462 - val_loss: 2.4519 - val_accuracy: 0.0988\n",
            "Epoch 12/30\n",
            "375/375 [==============================] - 1s 3ms/step - loss: 2.0588 - accuracy: 0.2618 - val_loss: 2.4816 - val_accuracy: 0.0975\n",
            "Epoch 13/30\n",
            "375/375 [==============================] - 2s 4ms/step - loss: 2.0225 - accuracy: 0.2808 - val_loss: 2.4998 - val_accuracy: 0.0991\n",
            "Epoch 14/30\n",
            "375/375 [==============================] - 1s 3ms/step - loss: 1.9860 - accuracy: 0.2953 - val_loss: 2.5481 - val_accuracy: 0.0954\n",
            "Epoch 15/30\n",
            "375/375 [==============================] - 1s 3ms/step - loss: 1.9472 - accuracy: 0.3113 - val_loss: 2.5653 - val_accuracy: 0.0967\n",
            "Epoch 16/30\n",
            "375/375 [==============================] - 1s 3ms/step - loss: 1.9067 - accuracy: 0.3313 - val_loss: 2.6073 - val_accuracy: 0.0997\n",
            "Epoch 17/30\n",
            "375/375 [==============================] - 1s 3ms/step - loss: 1.8679 - accuracy: 0.3447 - val_loss: 2.6500 - val_accuracy: 0.0999\n",
            "Epoch 18/30\n",
            "375/375 [==============================] - 1s 3ms/step - loss: 1.8279 - accuracy: 0.3599 - val_loss: 2.6635 - val_accuracy: 0.0986\n",
            "Epoch 19/30\n",
            "375/375 [==============================] - 1s 3ms/step - loss: 1.7880 - accuracy: 0.3747 - val_loss: 2.7052 - val_accuracy: 0.0970\n",
            "Epoch 20/30\n",
            "375/375 [==============================] - 1s 3ms/step - loss: 1.7497 - accuracy: 0.3935 - val_loss: 2.7494 - val_accuracy: 0.0973\n",
            "Epoch 21/30\n",
            "375/375 [==============================] - 1s 3ms/step - loss: 1.7111 - accuracy: 0.4075 - val_loss: 2.7974 - val_accuracy: 0.0990\n",
            "Epoch 22/30\n",
            "375/375 [==============================] - 1s 4ms/step - loss: 1.6752 - accuracy: 0.4218 - val_loss: 2.8474 - val_accuracy: 0.0974\n",
            "Epoch 23/30\n",
            "375/375 [==============================] - 2s 4ms/step - loss: 1.6361 - accuracy: 0.4348 - val_loss: 2.8897 - val_accuracy: 0.0983\n",
            "Epoch 24/30\n",
            "375/375 [==============================] - 1s 3ms/step - loss: 1.6015 - accuracy: 0.4499 - val_loss: 2.9338 - val_accuracy: 0.1007\n",
            "Epoch 25/30\n",
            "375/375 [==============================] - 1s 3ms/step - loss: 1.5649 - accuracy: 0.4660 - val_loss: 2.9728 - val_accuracy: 0.0980\n",
            "Epoch 26/30\n",
            "375/375 [==============================] - 1s 3ms/step - loss: 1.5314 - accuracy: 0.4746 - val_loss: 3.0177 - val_accuracy: 0.1008\n",
            "Epoch 27/30\n",
            "375/375 [==============================] - 2s 5ms/step - loss: 1.4984 - accuracy: 0.4868 - val_loss: 3.0503 - val_accuracy: 0.0980\n",
            "Epoch 28/30\n",
            "375/375 [==============================] - 1s 4ms/step - loss: 1.4631 - accuracy: 0.5005 - val_loss: 3.1210 - val_accuracy: 0.0986\n",
            "Epoch 29/30\n",
            "375/375 [==============================] - 2s 4ms/step - loss: 1.4312 - accuracy: 0.5127 - val_loss: 3.1796 - val_accuracy: 0.0944\n",
            "Epoch 30/30\n",
            "375/375 [==============================] - 2s 5ms/step - loss: 1.4006 - accuracy: 0.5225 - val_loss: 3.2414 - val_accuracy: 0.0996\n"
          ]
        }
      ],
      "source": [
        "(train_images, train_labels), _ = mnist.load_data()\n",
        "train_images = train_images.reshape((60000, 28 * 28))\n",
        "train_images = train_images.astype(\"float32\") / 255\n",
        "\n",
        "random_train_labels = train_labels[:]\n",
        "np.random.shuffle(random_train_labels)\n",
        "\n",
        "model = keras.Sequential([\n",
        "    layers.Dense(512, activation=\"relu\"),\n",
        "    layers.Dense(10, activation=\"softmax\")\n",
        "])\n",
        "model.compile(optimizer=\"rmsprop\",\n",
        "              loss=\"sparse_categorical_crossentropy\",\n",
        "              metrics=[\"accuracy\"])\n",
        "hisory_shuffled = model.fit(train_images, random_train_labels,\n",
        "          epochs=30,\n",
        "          batch_size=128,\n",
        "          validation_split=0.2)"
      ]
    },
    {
      "cell_type": "code",
      "source": [
        "import matplotlib.pyplot as plt\n",
        "val_acc_shuffled = hisory_shuffled.history[\"val_accuracy\"]\n",
        "acc_shuffled = hisory_shuffled.history[\"accuracy\"]\n",
        "\n",
        "epochs = range(1, 31)\n",
        "\n",
        "plt.plot(epochs, val_acc_shuffled, \"r-\",\n",
        "         label=\"Validation accuracy with shuffled data\")\n",
        "plt.plot(epochs, acc_shuffled, \"b-\",\n",
        "         label=\"Train accuracy with shuffled data\")\n",
        "\n",
        "plt.title(\"Effect of shuffling on validation accuracy\")\n",
        "plt.xlabel(\"Epochs\")\n",
        "plt.ylabel(\"Accuracy\")\n",
        "plt.legend()"
      ],
      "metadata": {
        "colab": {
          "base_uri": "https://localhost:8080/",
          "height": 490
        },
        "id": "KGCs_JsZZ5pR",
        "outputId": "16507071-a87d-46b5-ca96-f064b5960781"
      },
      "execution_count": null,
      "outputs": [
        {
          "output_type": "execute_result",
          "data": {
            "text/plain": [
              "<matplotlib.legend.Legend at 0x7b5228c632e0>"
            ]
          },
          "metadata": {},
          "execution_count": 28
        },
        {
          "output_type": "display_data",
          "data": {
            "text/plain": [
              "<Figure size 640x480 with 1 Axes>"
            ],
            "image/png": "[encoded data removed]"
          },
          "metadata": {}
        }
      ]
    },
    {
      "cell_type": "markdown",
      "metadata": {
        "id": "uOiTG1RAP0rF"
      },
      "source": [
        "#### The manifold hypothesis"
      ]
    },
    {
      "cell_type": "markdown",
      "metadata": {
        "id": "3gxz63JPP0rF"
      },
      "source": [
        "#### Interpolation as a source of generalization"
      ]
    },
    {
      "cell_type": "markdown",
      "metadata": {
        "id": "SnlMusryP0rF"
      },
      "source": [
        "#### Why deep learning works"
      ]
    },
    {
      "cell_type": "markdown",
      "metadata": {
        "id": "HWxDeIzPP0rF"
      },
      "source": [
        "#### Training data is paramount"
      ]
    },
    {
      "cell_type": "markdown",
      "metadata": {
        "id": "B1RAKc50P0rF"
      },
      "source": [
        "## Evaluating machine-learning models"
      ]
    },
    {
      "cell_type": "markdown",
      "metadata": {
        "id": "SgQKhKt_P0rF"
      },
      "source": [
        "### Training, validation, and test sets"
      ]
    },
    {
      "cell_type": "markdown",
      "metadata": {
        "id": "6lbtwW3ZP0rF"
      },
      "source": [
        "#### Simple hold-out validation"
      ]
    },
    {
      "cell_type": "markdown",
      "metadata": {
        "id": "2i0P__HZP0rF"
      },
      "source": [
        "#### K-fold validation"
      ]
    },
    {
      "cell_type": "markdown",
      "metadata": {
        "id": "gOw71f0pP0rF"
      },
      "source": [
        "#### Iterated K-fold validation with shuffling"
      ]
    },
    {
      "cell_type": "markdown",
      "metadata": {
        "id": "KwKdQ25jP0rF"
      },
      "source": [
        "### Beating a common-sense baseline"
      ]
    },
    {
      "cell_type": "markdown",
      "metadata": {
        "id": "NqD0AVw-P0rG"
      },
      "source": [
        "### Things to keep in mind about model evaluation"
      ]
    },
    {
      "cell_type": "markdown",
      "metadata": {
        "id": "mYDqJGqZP0rG"
      },
      "source": [
        "## Improving model fit"
      ]
    },
    {
      "cell_type": "markdown",
      "metadata": {
        "id": "X_sYEjixP0rG"
      },
      "source": [
        "### Tuning key gradient descent parameters"
      ]
    },
    {
      "cell_type": "markdown",
      "metadata": {
        "id": "Kz4t1dlvP0rG"
      },
      "source": [
        "**Training a MNIST model with an incorrectly high learning rate**"
      ]
    },
    {
      "cell_type": "code",
      "execution_count": null,
      "metadata": {
        "id": "zK-vRPCbP0rG",
        "colab": {
          "base_uri": "https://localhost:8080/"
        },
        "outputId": "59ed6a06-9111-4888-afcd-09c79b0b1900"
      },
      "outputs": [
        {
          "output_type": "stream",
          "name": "stdout",
          "text": [
            "Epoch 1/10\n",
            "375/375 [==============================] - 2s 5ms/step - loss: 562.1663 - accuracy: 0.2844 - val_loss: 2.2045 - val_accuracy: 0.1990\n",
            "Epoch 2/10\n",
            "375/375 [==============================] - 1s 3ms/step - loss: 2.9698 - accuracy: 0.2156 - val_loss: 2.2131 - val_accuracy: 0.1975\n",
            "Epoch 3/10\n",
            "375/375 [==============================] - 1s 3ms/step - loss: 2.4900 - accuracy: 0.1853 - val_loss: 2.4843 - val_accuracy: 0.1887\n",
            "Epoch 4/10\n",
            "375/375 [==============================] - 1s 3ms/step - loss: 2.3822 - accuracy: 0.1834 - val_loss: 2.6636 - val_accuracy: 0.2368\n",
            "Epoch 5/10\n",
            "375/375 [==============================] - 1s 3ms/step - loss: 2.6268 - accuracy: 0.2145 - val_loss: 2.2319 - val_accuracy: 0.1872\n",
            "Epoch 6/10\n",
            "375/375 [==============================] - 1s 3ms/step - loss: 2.4395 - accuracy: 0.2074 - val_loss: 2.4861 - val_accuracy: 0.1747\n",
            "Epoch 7/10\n",
            "375/375 [==============================] - 1s 4ms/step - loss: 2.2511 - accuracy: 0.2148 - val_loss: 5.5053 - val_accuracy: 0.1773\n",
            "Epoch 8/10\n",
            "375/375 [==============================] - 1s 3ms/step - loss: 2.5048 - accuracy: 0.1985 - val_loss: 2.0286 - val_accuracy: 0.2286\n",
            "Epoch 9/10\n",
            "375/375 [==============================] - 1s 3ms/step - loss: 2.3396 - accuracy: 0.2194 - val_loss: 2.1369 - val_accuracy: 0.2035\n",
            "Epoch 10/10\n",
            "375/375 [==============================] - 2s 4ms/step - loss: 2.3292 - accuracy: 0.2116 - val_loss: 4.9792 - val_accuracy: 0.2587\n"
          ]
        },
        {
          "output_type": "execute_result",
          "data": {
            "text/plain": [
              "<keras.src.callbacks.History at 0x7b5264db8b20>"
            ]
          },
          "metadata": {},
          "execution_count": 29
        }
      ],
      "source": [
        "(train_images, train_labels), _ = mnist.load_data()\n",
        "train_images = train_images.reshape((60000, 28 * 28))\n",
        "train_images = train_images.astype(\"float32\") / 255\n",
        "\n",
        "model = keras.Sequential([\n",
        "    layers.Dense(512, activation=\"relu\"),\n",
        "    layers.Dense(10, activation=\"softmax\")\n",
        "])\n",
        "model.compile(optimizer=keras.optimizers.RMSprop(1.),\n",
        "              loss=\"sparse_categorical_crossentropy\",\n",
        "              metrics=[\"accuracy\"])\n",
        "model.fit(train_images, train_labels,\n",
        "          epochs=10,\n",
        "          batch_size=128,\n",
        "          validation_split=0.2)"
      ]
    },
    {
      "cell_type": "markdown",
      "metadata": {
        "id": "08JBPCnbP0rG"
      },
      "source": [
        "**The same model with a more appropriate learning rate**"
      ]
    },
    {
      "cell_type": "code",
      "execution_count": null,
      "metadata": {
        "id": "N079QQhLP0rG",
        "colab": {
          "base_uri": "https://localhost:8080/"
        },
        "outputId": "d5fdbc36-203a-4c31-ea2c-5b558d822ad8"
      },
      "outputs": [
        {
          "output_type": "stream",
          "name": "stdout",
          "text": [
            "Epoch 1/10\n",
            "375/375 [==============================] - 2s 4ms/step - loss: 0.3436 - accuracy: 0.9109 - val_loss: 0.1453 - val_accuracy: 0.9591\n",
            "Epoch 2/10\n",
            "375/375 [==============================] - 1s 3ms/step - loss: 0.1253 - accuracy: 0.9641 - val_loss: 0.1271 - val_accuracy: 0.9680\n",
            "Epoch 3/10\n",
            "375/375 [==============================] - 1s 3ms/step - loss: 0.0981 - accuracy: 0.9738 - val_loss: 0.1281 - val_accuracy: 0.9712\n",
            "Epoch 4/10\n",
            "375/375 [==============================] - 1s 3ms/step - loss: 0.0801 - accuracy: 0.9793 - val_loss: 0.2236 - val_accuracy: 0.9578\n",
            "Epoch 5/10\n",
            "375/375 [==============================] - 1s 3ms/step - loss: 0.0664 - accuracy: 0.9827 - val_loss: 0.1810 - val_accuracy: 0.9693\n",
            "Epoch 6/10\n",
            "375/375 [==============================] - 2s 4ms/step - loss: 0.0608 - accuracy: 0.9851 - val_loss: 0.1739 - val_accuracy: 0.9723\n",
            "Epoch 7/10\n",
            "375/375 [==============================] - 1s 3ms/step - loss: 0.0520 - accuracy: 0.9867 - val_loss: 0.1864 - val_accuracy: 0.9723\n",
            "Epoch 8/10\n",
            "375/375 [==============================] - 1s 3ms/step - loss: 0.0478 - accuracy: 0.9890 - val_loss: 0.2116 - val_accuracy: 0.9708\n",
            "Epoch 9/10\n",
            "375/375 [==============================] - 1s 3ms/step - loss: 0.0416 - accuracy: 0.9901 - val_loss: 0.1922 - val_accuracy: 0.9753\n",
            "Epoch 10/10\n",
            "375/375 [==============================] - 1s 3ms/step - loss: 0.0375 - accuracy: 0.9914 - val_loss: 0.2253 - val_accuracy: 0.9728\n"
          ]
        },
        {
          "output_type": "execute_result",
          "data": {
            "text/plain": [
              "<keras.src.callbacks.History at 0x7b523eb13760>"
            ]
          },
          "metadata": {},
          "execution_count": 30
        }
      ],
      "source": [
        "model = keras.Sequential([\n",
        "    layers.Dense(512, activation=\"relu\"),\n",
        "    layers.Dense(10, activation=\"softmax\")\n",
        "])\n",
        "model.compile(optimizer=keras.optimizers.RMSprop(1e-2),\n",
        "              loss=\"sparse_categorical_crossentropy\",\n",
        "              metrics=[\"accuracy\"])\n",
        "model.fit(train_images, train_labels,\n",
        "          epochs=10,\n",
        "          batch_size=128,\n",
        "          validation_split=0.2)"
      ]
    },
    {
      "cell_type": "markdown",
      "metadata": {
        "id": "08DF_5I6P0rG"
      },
      "source": [
        "### Leveraging better architecture priors"
      ]
    },
    {
      "cell_type": "markdown",
      "metadata": {
        "id": "akstnhwAP0rG"
      },
      "source": [
        "### Increasing model capacity"
      ]
    },
    {
      "cell_type": "markdown",
      "metadata": {
        "id": "6i9419KzP0rG"
      },
      "source": [
        "**A simple logistic regression on MNIST**"
      ]
    },
    {
      "cell_type": "code",
      "execution_count": null,
      "metadata": {
        "id": "OzOQrzH5P0rG",
        "colab": {
          "base_uri": "https://localhost:8080/"
        },
        "outputId": "26144d06-665d-44fd-9fbc-d8bda6699f48"
      },
      "outputs": [
        {
          "output_type": "stream",
          "name": "stdout",
          "text": [
            "Epoch 1/20\n",
            "375/375 [==============================] - 2s 4ms/step - loss: 0.6620 - accuracy: 0.8408 - val_loss: 0.3583 - val_accuracy: 0.9043\n",
            "Epoch 2/20\n",
            "375/375 [==============================] - 1s 3ms/step - loss: 0.3524 - accuracy: 0.9037 - val_loss: 0.3106 - val_accuracy: 0.9147\n",
            "Epoch 3/20\n",
            "375/375 [==============================] - 1s 3ms/step - loss: 0.3180 - accuracy: 0.9120 - val_loss: 0.2921 - val_accuracy: 0.9183\n",
            "Epoch 4/20\n",
            "375/375 [==============================] - 2s 4ms/step - loss: 0.3019 - accuracy: 0.9160 - val_loss: 0.2849 - val_accuracy: 0.9213\n",
            "Epoch 5/20\n",
            "375/375 [==============================] - 1s 3ms/step - loss: 0.2922 - accuracy: 0.9184 - val_loss: 0.2798 - val_accuracy: 0.9240\n",
            "Epoch 6/20\n",
            "375/375 [==============================] - 1s 3ms/step - loss: 0.2854 - accuracy: 0.9207 - val_loss: 0.2756 - val_accuracy: 0.9236\n",
            "Epoch 7/20\n",
            "375/375 [==============================] - 1s 3ms/step - loss: 0.2810 - accuracy: 0.9215 - val_loss: 0.2717 - val_accuracy: 0.9277\n",
            "Epoch 8/20\n",
            "375/375 [==============================] - 1s 3ms/step - loss: 0.2769 - accuracy: 0.9231 - val_loss: 0.2709 - val_accuracy: 0.9258\n",
            "Epoch 9/20\n",
            "375/375 [==============================] - 1s 3ms/step - loss: 0.2733 - accuracy: 0.9249 - val_loss: 0.2688 - val_accuracy: 0.9260\n",
            "Epoch 10/20\n",
            "375/375 [==============================] - 1s 3ms/step - loss: 0.2708 - accuracy: 0.9249 - val_loss: 0.2694 - val_accuracy: 0.9258\n",
            "Epoch 11/20\n",
            "375/375 [==============================] - 1s 3ms/step - loss: 0.2687 - accuracy: 0.9259 - val_loss: 0.2666 - val_accuracy: 0.9282\n",
            "Epoch 12/20\n",
            "375/375 [==============================] - 1s 3ms/step - loss: 0.2665 - accuracy: 0.9264 - val_loss: 0.2674 - val_accuracy: 0.9272\n",
            "Epoch 13/20\n",
            "375/375 [==============================] - 1s 3ms/step - loss: 0.2647 - accuracy: 0.9270 - val_loss: 0.2652 - val_accuracy: 0.9299\n",
            "Epoch 14/20\n",
            "375/375 [==============================] - 1s 4ms/step - loss: 0.2630 - accuracy: 0.9279 - val_loss: 0.2659 - val_accuracy: 0.9273\n",
            "Epoch 15/20\n",
            "375/375 [==============================] - 1s 3ms/step - loss: 0.2619 - accuracy: 0.9281 - val_loss: 0.2647 - val_accuracy: 0.9287\n",
            "Epoch 16/20\n",
            "375/375 [==============================] - 1s 3ms/step - loss: 0.2606 - accuracy: 0.9285 - val_loss: 0.2647 - val_accuracy: 0.9285\n",
            "Epoch 17/20\n",
            "375/375 [==============================] - 1s 3ms/step - loss: 0.2594 - accuracy: 0.9287 - val_loss: 0.2642 - val_accuracy: 0.9279\n",
            "Epoch 18/20\n",
            "375/375 [==============================] - 1s 3ms/step - loss: 0.2583 - accuracy: 0.9289 - val_loss: 0.2648 - val_accuracy: 0.9300\n",
            "Epoch 19/20\n",
            "375/375 [==============================] - 1s 3ms/step - loss: 0.2570 - accuracy: 0.9292 - val_loss: 0.2647 - val_accuracy: 0.9280\n",
            "Epoch 20/20\n",
            "375/375 [==============================] - 1s 3ms/step - loss: 0.2560 - accuracy: 0.9294 - val_loss: 0.2635 - val_accuracy: 0.9308\n"
          ]
        }
      ],
      "source": [
        "model = keras.Sequential([layers.Dense(10, activation=\"softmax\")])\n",
        "model.compile(optimizer=\"rmsprop\",\n",
        "              loss=\"sparse_categorical_crossentropy\",\n",
        "              metrics=[\"accuracy\"])\n",
        "history_small_model = model.fit(\n",
        "    train_images, train_labels,\n",
        "    epochs=20,\n",
        "    batch_size=128,\n",
        "    validation_split=0.2)"
      ]
    },
    {
      "cell_type": "code",
      "execution_count": null,
      "metadata": {
        "id": "dtstl7NfP0rG",
        "colab": {
          "base_uri": "https://localhost:8080/",
          "height": 490
        },
        "outputId": "31b85c8b-170e-4219-8efd-defe0127975a"
      },
      "outputs": [
        {
          "output_type": "execute_result",
          "data": {
            "text/plain": [
              "<matplotlib.legend.Legend at 0x7b5264847190>"
            ]
          },
          "metadata": {},
          "execution_count": 32
        },
        {
          "output_type": "display_data",
          "data": {
            "text/plain": [
              "<Figure size 640x480 with 1 Axes>"
            ],
            "image/png": "[encoded data removed]"
          },
          "metadata": {}
        }
      ],
      "source": [
        "import matplotlib.pyplot as plt\n",
        "val_loss = history_small_model.history[\"val_loss\"]\n",
        "epochs = range(1, 21)\n",
        "plt.plot(epochs, val_loss, \"b--\",\n",
        "         label=\"Validation loss\")\n",
        "plt.title(\"Effect of insufficient model capacity on validation loss\")\n",
        "plt.xlabel(\"Epochs\")\n",
        "plt.ylabel(\"Loss\")\n",
        "plt.legend()"
      ]
    },
    {
      "cell_type": "code",
      "execution_count": null,
      "metadata": {
        "id": "Qp_rGrvtP0rG",
        "colab": {
          "base_uri": "https://localhost:8080/"
        },
        "outputId": "6f647975-ccf4-4628-b57e-f1801df72a7d"
      },
      "outputs": [
        {
          "output_type": "stream",
          "name": "stdout",
          "text": [
            "Epoch 1/20\n",
            "375/375 [==============================] - 3s 5ms/step - loss: 0.3757 - accuracy: 0.8926 - val_loss: 0.1984 - val_accuracy: 0.9436\n",
            "Epoch 2/20\n",
            "375/375 [==============================] - 1s 3ms/step - loss: 0.1675 - accuracy: 0.9503 - val_loss: 0.1444 - val_accuracy: 0.9586\n",
            "Epoch 3/20\n",
            "375/375 [==============================] - 1s 3ms/step - loss: 0.1160 - accuracy: 0.9652 - val_loss: 0.1085 - val_accuracy: 0.9687\n",
            "Epoch 4/20\n",
            "375/375 [==============================] - 1s 4ms/step - loss: 0.0890 - accuracy: 0.9735 - val_loss: 0.0982 - val_accuracy: 0.9713\n",
            "Epoch 5/20\n",
            "375/375 [==============================] - 1s 4ms/step - loss: 0.0712 - accuracy: 0.9789 - val_loss: 0.0891 - val_accuracy: 0.9725\n",
            "Epoch 6/20\n",
            "375/375 [==============================] - 1s 3ms/step - loss: 0.0594 - accuracy: 0.9812 - val_loss: 0.0915 - val_accuracy: 0.9719\n",
            "Epoch 7/20\n",
            "375/375 [==============================] - 1s 3ms/step - loss: 0.0498 - accuracy: 0.9849 - val_loss: 0.0926 - val_accuracy: 0.9736\n",
            "Epoch 8/20\n",
            "375/375 [==============================] - 1s 4ms/step - loss: 0.0414 - accuracy: 0.9873 - val_loss: 0.0979 - val_accuracy: 0.9716\n",
            "Epoch 9/20\n",
            "375/375 [==============================] - 1s 3ms/step - loss: 0.0357 - accuracy: 0.9891 - val_loss: 0.1004 - val_accuracy: 0.9723\n",
            "Epoch 10/20\n",
            "375/375 [==============================] - 2s 5ms/step - loss: 0.0284 - accuracy: 0.9913 - val_loss: 0.1113 - val_accuracy: 0.9712\n",
            "Epoch 11/20\n",
            "375/375 [==============================] - 1s 4ms/step - loss: 0.0252 - accuracy: 0.9921 - val_loss: 0.1045 - val_accuracy: 0.9736\n",
            "Epoch 12/20\n",
            "375/375 [==============================] - 2s 6ms/step - loss: 0.0208 - accuracy: 0.9936 - val_loss: 0.1046 - val_accuracy: 0.9743\n",
            "Epoch 13/20\n",
            "375/375 [==============================] - 2s 6ms/step - loss: 0.0169 - accuracy: 0.9947 - val_loss: 0.1034 - val_accuracy: 0.9738\n",
            "Epoch 14/20\n",
            "375/375 [==============================] - 1s 3ms/step - loss: 0.0150 - accuracy: 0.9954 - val_loss: 0.1022 - val_accuracy: 0.9762\n",
            "Epoch 15/20\n",
            "375/375 [==============================] - 1s 4ms/step - loss: 0.0131 - accuracy: 0.9958 - val_loss: 0.1104 - val_accuracy: 0.9736\n",
            "Epoch 16/20\n",
            "375/375 [==============================] - 1s 4ms/step - loss: 0.0107 - accuracy: 0.9966 - val_loss: 0.1206 - val_accuracy: 0.9737\n",
            "Epoch 17/20\n",
            "375/375 [==============================] - 2s 4ms/step - loss: 0.0088 - accuracy: 0.9972 - val_loss: 0.1227 - val_accuracy: 0.9756\n",
            "Epoch 18/20\n",
            "375/375 [==============================] - 2s 4ms/step - loss: 0.0084 - accuracy: 0.9975 - val_loss: 0.1180 - val_accuracy: 0.9756\n",
            "Epoch 19/20\n",
            "375/375 [==============================] - 1s 4ms/step - loss: 0.0068 - accuracy: 0.9980 - val_loss: 0.1290 - val_accuracy: 0.9751\n",
            "Epoch 20/20\n",
            "375/375 [==============================] - 2s 5ms/step - loss: 0.0057 - accuracy: 0.9982 - val_loss: 0.1320 - val_accuracy: 0.9751\n"
          ]
        }
      ],
      "source": [
        "model = keras.Sequential([\n",
        "    layers.Dense(96, activation=\"relu\"),\n",
        "    layers.Dense(96, activation=\"relu\"),\n",
        "    layers.Dense(10, activation=\"softmax\"),\n",
        "])\n",
        "model.compile(optimizer=\"rmsprop\",\n",
        "              loss=\"sparse_categorical_crossentropy\",\n",
        "              metrics=[\"accuracy\"])\n",
        "history_large_model = model.fit(\n",
        "    train_images, train_labels,\n",
        "    epochs=20,\n",
        "    batch_size=128,\n",
        "    validation_split=0.2)"
      ]
    },
    {
      "cell_type": "code",
      "source": [
        "import matplotlib.pyplot as plt\n",
        "val_loss = history_large_model.history[\"val_loss\"]\n",
        "epochs = range(1, 21)\n",
        "plt.plot(epochs, val_loss, \"b--\",\n",
        "         label=\"Validation loss\")\n",
        "plt.title(\"Effect of large model capacity on validation loss\")\n",
        "plt.xlabel(\"Epochs\")\n",
        "plt.ylabel(\"Loss\")\n",
        "plt.legend()"
      ],
      "metadata": {
        "colab": {
          "base_uri": "https://localhost:8080/",
          "height": 490
        },
        "id": "0_jWaQwvblel",
        "outputId": "c175343e-571b-4f59-ee63-69f8578b870c"
      },
      "execution_count": null,
      "outputs": [
        {
          "output_type": "execute_result",
          "data": {
            "text/plain": [
              "<matplotlib.legend.Legend at 0x7b526519c6a0>"
            ]
          },
          "metadata": {},
          "execution_count": 34
        },
        {
          "output_type": "display_data",
          "data": {
            "text/plain": [
              "<Figure size 640x480 with 1 Axes>"
            ],
            "image/png": "[encoded data removed]"
          },
          "metadata": {}
        }
      ]
    },
    {
      "cell_type": "markdown",
      "metadata": {
        "id": "ueWEC4vRP0rH"
      },
      "source": [
        "## Improving generalization"
      ]
    },
    {
      "cell_type": "markdown",
      "metadata": {
        "id": "DgnV6pGNP0rH"
      },
      "source": [
        "### Dataset curation"
      ]
    },
    {
      "cell_type": "markdown",
      "metadata": {
        "id": "wmcipE_SP0rH"
      },
      "source": [
        "### Feature engineering"
      ]
    },
    {
      "cell_type": "markdown",
      "metadata": {
        "id": "8K79vwobP0rH"
      },
      "source": [
        "### Using early stopping"
      ]
    },
    {
      "cell_type": "markdown",
      "metadata": {
        "id": "F89OXQanP0rH"
      },
      "source": [
        "### Regularizing your model"
      ]
    },
    {
      "cell_type": "markdown",
      "metadata": {
        "id": "MP-K62yEP0rI"
      },
      "source": [
        "#### Reducing the network's size"
      ]
    },
    {
      "cell_type": "markdown",
      "metadata": {
        "id": "dt_c0GkGP0rI"
      },
      "source": [
        "**Original model**"
      ]
    },
    {
      "cell_type": "code",
      "execution_count": null,
      "metadata": {
        "id": "7lpuG4owP0rI",
        "colab": {
          "base_uri": "https://localhost:8080/"
        },
        "outputId": "b97606ae-a947-43c0-bf94-7d3528909ee2"
      },
      "outputs": [
        {
          "output_type": "stream",
          "name": "stdout",
          "text": [
            "Downloading data from https://storage.googleapis.com/tensorflow/tf-keras-datasets/imdb.npz\n",
            "17464789/17464789 [==============================] - 2s 0us/step\n"
          ]
        }
      ],
      "source": [
        "from tensorflow.keras.datasets import imdb\n",
        "(train_data, train_labels), _ = imdb.load_data(num_words=10000)"
      ]
    },
    {
      "cell_type": "code",
      "source": [
        "train_data.shape"
      ],
      "metadata": {
        "colab": {
          "base_uri": "https://localhost:8080/"
        },
        "id": "y8rOCb5scgIp",
        "outputId": "bde0a3f6-52d6-433b-b5f4-345f180c9b11"
      },
      "execution_count": null,
      "outputs": [
        {
          "output_type": "execute_result",
          "data": {
            "text/plain": [
              "(25000,)"
            ]
          },
          "metadata": {},
          "execution_count": 3
        }
      ]
    },
    {
      "cell_type": "code",
      "source": [
        "import numpy as np\n",
        "\n",
        "def vectorize_sequences(sequences, dimension=10000):\n",
        "    results = np.zeros((len(sequences), dimension))\n",
        "    for i, sequence in enumerate(sequences):\n",
        "        results[i, sequence] = 1.\n",
        "    return results\n",
        "\n",
        "train_data = vectorize_sequences(train_data)"
      ],
      "metadata": {
        "id": "sEi7PhuLco8P"
      },
      "execution_count": null,
      "outputs": []
    },
    {
      "cell_type": "code",
      "source": [
        "train_data.shape"
      ],
      "metadata": {
        "colab": {
          "base_uri": "https://localhost:8080/"
        },
        "id": "05z18iiDcUAJ",
        "outputId": "623bc7bb-7b5a-47ab-9e5d-703291761ea5"
      },
      "execution_count": null,
      "outputs": [
        {
          "output_type": "execute_result",
          "data": {
            "text/plain": [
              "(25000, 10000)"
            ]
          },
          "metadata": {},
          "execution_count": 6
        }
      ]
    },
    {
      "cell_type": "code",
      "source": [
        "train_labels"
      ],
      "metadata": {
        "colab": {
          "base_uri": "https://localhost:8080/"
        },
        "id": "f0VpQP9AcY2S",
        "outputId": "96046742-91c0-4883-8266-60dded9ae02e"
      },
      "execution_count": null,
      "outputs": [
        {
          "output_type": "execute_result",
          "data": {
            "text/plain": [
              "array([1, 0, 0, ..., 0, 1, 0])"
            ]
          },
          "metadata": {},
          "execution_count": 7
        }
      ]
    },
    {
      "cell_type": "code",
      "source": [
        "from tensorflow import keras\n",
        "from tensorflow.keras import layers\n",
        "\n",
        "model = keras.Sequential([\n",
        "    layers.Dense(16, activation=\"relu\"),\n",
        "    layers.Dense(16, activation=\"relu\"),\n",
        "    layers.Dense(1, activation=\"sigmoid\")\n",
        "])\n",
        "model.compile(optimizer=\"rmsprop\",\n",
        "              loss=\"binary_crossentropy\",\n",
        "              metrics=[\"accuracy\"])\n",
        "history_original = model.fit(train_data, train_labels,\n",
        "                             epochs=20, batch_size=512, validation_split=0.4)"
      ],
      "metadata": {
        "colab": {
          "base_uri": "https://localhost:8080/"
        },
        "id": "U7c7XF0ecOAO",
        "outputId": "a504bf6f-9a49-4732-f017-176f1dced3db"
      },
      "execution_count": null,
      "outputs": [
        {
          "output_type": "stream",
          "name": "stdout",
          "text": [
            "Epoch 1/20\n",
            "30/30 [==============================] - 5s 70ms/step - loss: 0.5232 - accuracy: 0.7670 - val_loss: 0.3834 - val_accuracy: 0.8664\n",
            "Epoch 2/20\n",
            "30/30 [==============================] - 1s 24ms/step - loss: 0.3180 - accuracy: 0.8959 - val_loss: 0.3486 - val_accuracy: 0.8574\n",
            "Epoch 3/20\n",
            "30/30 [==============================] - 1s 21ms/step - loss: 0.2379 - accuracy: 0.9237 - val_loss: 0.2863 - val_accuracy: 0.8866\n",
            "Epoch 4/20\n",
            "30/30 [==============================] - 1s 23ms/step - loss: 0.1886 - accuracy: 0.9399 - val_loss: 0.3092 - val_accuracy: 0.8737\n",
            "Epoch 5/20\n",
            "30/30 [==============================] - 1s 23ms/step - loss: 0.1611 - accuracy: 0.9485 - val_loss: 0.2779 - val_accuracy: 0.8880\n",
            "Epoch 6/20\n",
            "30/30 [==============================] - 1s 21ms/step - loss: 0.1365 - accuracy: 0.9567 - val_loss: 0.3047 - val_accuracy: 0.8814\n",
            "Epoch 7/20\n",
            "30/30 [==============================] - 1s 24ms/step - loss: 0.1157 - accuracy: 0.9655 - val_loss: 0.3074 - val_accuracy: 0.8821\n",
            "Epoch 8/20\n",
            "30/30 [==============================] - 1s 24ms/step - loss: 0.0999 - accuracy: 0.9702 - val_loss: 0.3124 - val_accuracy: 0.8828\n",
            "Epoch 9/20\n",
            "30/30 [==============================] - 1s 23ms/step - loss: 0.0862 - accuracy: 0.9768 - val_loss: 0.3786 - val_accuracy: 0.8681\n",
            "Epoch 10/20\n",
            "30/30 [==============================] - 1s 23ms/step - loss: 0.0770 - accuracy: 0.9805 - val_loss: 0.3483 - val_accuracy: 0.8779\n",
            "Epoch 11/20\n",
            "30/30 [==============================] - 1s 25ms/step - loss: 0.0658 - accuracy: 0.9833 - val_loss: 0.3767 - val_accuracy: 0.8751\n",
            "Epoch 12/20\n",
            "30/30 [==============================] - 1s 25ms/step - loss: 0.0578 - accuracy: 0.9854 - val_loss: 0.3794 - val_accuracy: 0.8767\n",
            "Epoch 13/20\n",
            "30/30 [==============================] - 1s 41ms/step - loss: 0.0485 - accuracy: 0.9903 - val_loss: 0.4040 - val_accuracy: 0.8742\n",
            "Epoch 14/20\n",
            "30/30 [==============================] - 1s 30ms/step - loss: 0.0447 - accuracy: 0.9897 - val_loss: 0.4354 - val_accuracy: 0.8728\n",
            "Epoch 15/20\n",
            "30/30 [==============================] - 1s 26ms/step - loss: 0.0369 - accuracy: 0.9916 - val_loss: 0.4478 - val_accuracy: 0.8724\n",
            "Epoch 16/20\n",
            "30/30 [==============================] - 1s 22ms/step - loss: 0.0294 - accuracy: 0.9953 - val_loss: 0.4675 - val_accuracy: 0.8721\n",
            "Epoch 17/20\n",
            "30/30 [==============================] - 1s 25ms/step - loss: 0.0261 - accuracy: 0.9959 - val_loss: 0.4896 - val_accuracy: 0.8720\n",
            "Epoch 18/20\n",
            "30/30 [==============================] - 1s 24ms/step - loss: 0.0241 - accuracy: 0.9949 - val_loss: 0.5105 - val_accuracy: 0.8710\n",
            "Epoch 19/20\n",
            "30/30 [==============================] - 1s 23ms/step - loss: 0.0211 - accuracy: 0.9958 - val_loss: 0.5379 - val_accuracy: 0.8716\n",
            "Epoch 20/20\n",
            "30/30 [==============================] - 1s 23ms/step - loss: 0.0139 - accuracy: 0.9987 - val_loss: 0.5835 - val_accuracy: 0.8654\n"
          ]
        }
      ]
    },
    {
      "cell_type": "markdown",
      "metadata": {
        "id": "e6DEEwcGP0rI"
      },
      "source": [
        "**Version of the model with lower capacity**"
      ]
    },
    {
      "cell_type": "code",
      "execution_count": null,
      "metadata": {
        "id": "GpRzHuDjP0rI",
        "colab": {
          "base_uri": "https://localhost:8080/"
        },
        "outputId": "d8e8705a-f07f-47d8-881c-16456b274676"
      },
      "outputs": [
        {
          "output_type": "stream",
          "name": "stdout",
          "text": [
            "Epoch 1/20\n",
            "30/30 [==============================] - 3s 67ms/step - loss: 0.5895 - accuracy: 0.7610 - val_loss: 0.5019 - val_accuracy: 0.8505\n",
            "Epoch 2/20\n",
            "30/30 [==============================] - 1s 22ms/step - loss: 0.4395 - accuracy: 0.8761 - val_loss: 0.4117 - val_accuracy: 0.8692\n",
            "Epoch 3/20\n",
            "30/30 [==============================] - 1s 24ms/step - loss: 0.3550 - accuracy: 0.8985 - val_loss: 0.3594 - val_accuracy: 0.8786\n",
            "Epoch 4/20\n",
            "30/30 [==============================] - 2s 54ms/step - loss: 0.2973 - accuracy: 0.9127 - val_loss: 0.3265 - val_accuracy: 0.8806\n",
            "Epoch 5/20\n",
            "30/30 [==============================] - 1s 29ms/step - loss: 0.2564 - accuracy: 0.9221 - val_loss: 0.3047 - val_accuracy: 0.8871\n",
            "Epoch 6/20\n",
            "30/30 [==============================] - 1s 22ms/step - loss: 0.2251 - accuracy: 0.9325 - val_loss: 0.2872 - val_accuracy: 0.8917\n",
            "Epoch 7/20\n",
            "30/30 [==============================] - 1s 23ms/step - loss: 0.2004 - accuracy: 0.9396 - val_loss: 0.2802 - val_accuracy: 0.8902\n",
            "Epoch 8/20\n",
            "30/30 [==============================] - 1s 25ms/step - loss: 0.1795 - accuracy: 0.9471 - val_loss: 0.2761 - val_accuracy: 0.8895\n",
            "Epoch 9/20\n",
            "30/30 [==============================] - 1s 32ms/step - loss: 0.1622 - accuracy: 0.9527 - val_loss: 0.2739 - val_accuracy: 0.8901\n",
            "Epoch 10/20\n",
            "30/30 [==============================] - 1s 24ms/step - loss: 0.1465 - accuracy: 0.9582 - val_loss: 0.2765 - val_accuracy: 0.8892\n",
            "Epoch 11/20\n",
            "30/30 [==============================] - 1s 24ms/step - loss: 0.1336 - accuracy: 0.9617 - val_loss: 0.2772 - val_accuracy: 0.8902\n",
            "Epoch 12/20\n",
            "30/30 [==============================] - 1s 22ms/step - loss: 0.1211 - accuracy: 0.9665 - val_loss: 0.2924 - val_accuracy: 0.8856\n",
            "Epoch 13/20\n",
            "30/30 [==============================] - 1s 22ms/step - loss: 0.1113 - accuracy: 0.9703 - val_loss: 0.2886 - val_accuracy: 0.8866\n",
            "Epoch 14/20\n",
            "30/30 [==============================] - 1s 23ms/step - loss: 0.1020 - accuracy: 0.9729 - val_loss: 0.2979 - val_accuracy: 0.8863\n",
            "Epoch 15/20\n",
            "30/30 [==============================] - 1s 24ms/step - loss: 0.0932 - accuracy: 0.9761 - val_loss: 0.3005 - val_accuracy: 0.8863\n",
            "Epoch 16/20\n",
            "30/30 [==============================] - 1s 22ms/step - loss: 0.0853 - accuracy: 0.9785 - val_loss: 0.3097 - val_accuracy: 0.8856\n",
            "Epoch 17/20\n",
            "30/30 [==============================] - 1s 21ms/step - loss: 0.0780 - accuracy: 0.9817 - val_loss: 0.3328 - val_accuracy: 0.8803\n",
            "Epoch 18/20\n",
            "30/30 [==============================] - 1s 22ms/step - loss: 0.0715 - accuracy: 0.9842 - val_loss: 0.3360 - val_accuracy: 0.8808\n",
            "Epoch 19/20\n",
            "30/30 [==============================] - 1s 25ms/step - loss: 0.0651 - accuracy: 0.9858 - val_loss: 0.3424 - val_accuracy: 0.8809\n",
            "Epoch 20/20\n",
            "30/30 [==============================] - 1s 39ms/step - loss: 0.0593 - accuracy: 0.9876 - val_loss: 0.3532 - val_accuracy: 0.8806\n"
          ]
        }
      ],
      "source": [
        "model = keras.Sequential([\n",
        "    layers.Dense(4, activation=\"relu\"),\n",
        "    layers.Dense(4, activation=\"relu\"),\n",
        "    layers.Dense(1, activation=\"sigmoid\")\n",
        "])\n",
        "model.compile(optimizer=\"rmsprop\",\n",
        "              loss=\"binary_crossentropy\",\n",
        "              metrics=[\"accuracy\"])\n",
        "history_smaller_model = model.fit(\n",
        "    train_data, train_labels,\n",
        "    epochs=20, batch_size=512, validation_split=0.4)"
      ]
    },
    {
      "cell_type": "markdown",
      "metadata": {
        "id": "GVyeLcgQP0rI"
      },
      "source": [
        "**Version of the model with higher capacity**"
      ]
    },
    {
      "cell_type": "code",
      "execution_count": null,
      "metadata": {
        "id": "nWZR8NeQP0rI",
        "colab": {
          "base_uri": "https://localhost:8080/"
        },
        "outputId": "12948be1-d53e-4ac3-bd5e-89a6b3b8ccf3"
      },
      "outputs": [
        {
          "output_type": "stream",
          "name": "stdout",
          "text": [
            "Epoch 1/20\n",
            "30/30 [==============================] - 3s 70ms/step - loss: 0.5791 - accuracy: 0.7038 - val_loss: 0.3581 - val_accuracy: 0.8673\n",
            "Epoch 2/20\n",
            "30/30 [==============================] - 1s 28ms/step - loss: 0.3205 - accuracy: 0.8697 - val_loss: 0.2784 - val_accuracy: 0.8869\n",
            "Epoch 3/20\n",
            "30/30 [==============================] - 1s 27ms/step - loss: 0.2452 - accuracy: 0.9033 - val_loss: 0.2716 - val_accuracy: 0.8856\n",
            "Epoch 4/20\n",
            "30/30 [==============================] - 1s 25ms/step - loss: 0.1809 - accuracy: 0.9321 - val_loss: 0.2763 - val_accuracy: 0.8855\n",
            "Epoch 5/20\n",
            "30/30 [==============================] - 1s 26ms/step - loss: 0.1474 - accuracy: 0.9444 - val_loss: 0.2811 - val_accuracy: 0.8864\n",
            "Epoch 6/20\n",
            "30/30 [==============================] - 1s 27ms/step - loss: 0.1057 - accuracy: 0.9617 - val_loss: 0.2977 - val_accuracy: 0.8868\n",
            "Epoch 7/20\n",
            "30/30 [==============================] - 1s 37ms/step - loss: 0.0820 - accuracy: 0.9735 - val_loss: 0.3304 - val_accuracy: 0.8830\n",
            "Epoch 8/20\n",
            "30/30 [==============================] - 1s 40ms/step - loss: 0.0717 - accuracy: 0.9793 - val_loss: 0.3414 - val_accuracy: 0.8827\n",
            "Epoch 9/20\n",
            "30/30 [==============================] - 1s 32ms/step - loss: 0.0146 - accuracy: 0.9982 - val_loss: 0.4657 - val_accuracy: 0.8818\n",
            "Epoch 10/20\n",
            "30/30 [==============================] - 1s 44ms/step - loss: 0.1029 - accuracy: 0.9780 - val_loss: 0.3628 - val_accuracy: 0.8816\n",
            "Epoch 11/20\n",
            "30/30 [==============================] - 1s 31ms/step - loss: 0.0071 - accuracy: 0.9997 - val_loss: 0.4720 - val_accuracy: 0.8827\n",
            "Epoch 12/20\n",
            "30/30 [==============================] - 1s 39ms/step - loss: 0.0027 - accuracy: 0.9999 - val_loss: 0.5419 - val_accuracy: 0.8834\n",
            "Epoch 13/20\n",
            "30/30 [==============================] - 1s 47ms/step - loss: 0.0893 - accuracy: 0.9814 - val_loss: 0.4435 - val_accuracy: 0.8824\n",
            "Epoch 14/20\n",
            "30/30 [==============================] - 1s 45ms/step - loss: 0.0026 - accuracy: 1.0000 - val_loss: 0.5173 - val_accuracy: 0.8842\n",
            "Epoch 15/20\n",
            "30/30 [==============================] - 1s 29ms/step - loss: 0.0012 - accuracy: 1.0000 - val_loss: 0.5937 - val_accuracy: 0.8833\n",
            "Epoch 16/20\n",
            "30/30 [==============================] - 1s 39ms/step - loss: 7.3900e-04 - accuracy: 1.0000 - val_loss: 0.6262 - val_accuracy: 0.8822\n",
            "Epoch 17/20\n",
            "30/30 [==============================] - 1s 33ms/step - loss: 4.6447e-04 - accuracy: 1.0000 - val_loss: 0.6666 - val_accuracy: 0.8831\n",
            "Epoch 18/20\n",
            "30/30 [==============================] - 1s 34ms/step - loss: 3.2623e-04 - accuracy: 1.0000 - val_loss: 0.6934 - val_accuracy: 0.8834\n",
            "Epoch 19/20\n",
            "30/30 [==============================] - 1s 45ms/step - loss: 2.4786e-04 - accuracy: 1.0000 - val_loss: 0.7097 - val_accuracy: 0.8833\n",
            "Epoch 20/20\n",
            "30/30 [==============================] - 1s 50ms/step - loss: 2.0167e-04 - accuracy: 1.0000 - val_loss: 0.7316 - val_accuracy: 0.8825\n"
          ]
        }
      ],
      "source": [
        "model = keras.Sequential([\n",
        "    layers.Dense(512, activation=\"relu\"),\n",
        "    layers.Dense(512, activation=\"relu\"),\n",
        "    layers.Dense(1, activation=\"sigmoid\")\n",
        "])\n",
        "model.compile(optimizer=\"rmsprop\",\n",
        "              loss=\"binary_crossentropy\",\n",
        "              metrics=[\"accuracy\"])\n",
        "history_larger_model = model.fit(\n",
        "    train_data, train_labels,\n",
        "    epochs=20, batch_size=512, validation_split=0.4)"
      ]
    },
    {
      "cell_type": "markdown",
      "metadata": {
        "id": "gHcSVrh3P0rI"
      },
      "source": [
        "#### Adding weight regularization"
      ]
    },
    {
      "cell_type": "markdown",
      "metadata": {
        "id": "kRk98ZF4P0rI"
      },
      "source": [
        "**Adding L2 weight regularization to the model**"
      ]
    },
    {
      "cell_type": "code",
      "execution_count": null,
      "metadata": {
        "id": "AAxxOgz8P0rI",
        "colab": {
          "base_uri": "https://localhost:8080/"
        },
        "outputId": "320658fe-cf48-4f44-9787-1acded160592"
      },
      "outputs": [
        {
          "output_type": "stream",
          "name": "stdout",
          "text": [
            "Epoch 1/20\n",
            "30/30 [==============================] - 3s 84ms/step - loss: 0.5997 - accuracy: 0.7759 - val_loss: 0.4647 - val_accuracy: 0.8653\n",
            "Epoch 2/20\n",
            "30/30 [==============================] - 1s 25ms/step - loss: 0.4017 - accuracy: 0.8920 - val_loss: 0.4024 - val_accuracy: 0.8737\n",
            "Epoch 3/20\n",
            "30/30 [==============================] - 1s 22ms/step - loss: 0.3296 - accuracy: 0.9139 - val_loss: 0.4372 - val_accuracy: 0.8473\n",
            "Epoch 4/20\n",
            "30/30 [==============================] - 1s 25ms/step - loss: 0.2907 - accuracy: 0.9268 - val_loss: 0.3571 - val_accuracy: 0.8883\n",
            "Epoch 5/20\n",
            "30/30 [==============================] - 1s 22ms/step - loss: 0.2723 - accuracy: 0.9349 - val_loss: 0.3724 - val_accuracy: 0.8783\n",
            "Epoch 6/20\n",
            "30/30 [==============================] - 1s 24ms/step - loss: 0.2544 - accuracy: 0.9412 - val_loss: 0.3575 - val_accuracy: 0.8863\n",
            "Epoch 7/20\n",
            "30/30 [==============================] - 1s 22ms/step - loss: 0.2429 - accuracy: 0.9447 - val_loss: 0.3754 - val_accuracy: 0.8806\n",
            "Epoch 8/20\n",
            "30/30 [==============================] - 1s 24ms/step - loss: 0.2342 - accuracy: 0.9490 - val_loss: 0.4071 - val_accuracy: 0.8688\n",
            "Epoch 9/20\n",
            "30/30 [==============================] - 1s 27ms/step - loss: 0.2336 - accuracy: 0.9493 - val_loss: 0.3738 - val_accuracy: 0.8824\n",
            "Epoch 10/20\n",
            "30/30 [==============================] - 1s 44ms/step - loss: 0.2247 - accuracy: 0.9505 - val_loss: 0.3839 - val_accuracy: 0.8798\n",
            "Epoch 11/20\n",
            "30/30 [==============================] - 1s 29ms/step - loss: 0.2189 - accuracy: 0.9538 - val_loss: 0.3836 - val_accuracy: 0.8789\n",
            "Epoch 12/20\n",
            "30/30 [==============================] - 1s 31ms/step - loss: 0.2137 - accuracy: 0.9561 - val_loss: 0.3992 - val_accuracy: 0.8775\n",
            "Epoch 13/20\n",
            "30/30 [==============================] - 1s 29ms/step - loss: 0.2070 - accuracy: 0.9602 - val_loss: 0.3987 - val_accuracy: 0.8771\n",
            "Epoch 14/20\n",
            "30/30 [==============================] - 1s 47ms/step - loss: 0.2112 - accuracy: 0.9564 - val_loss: 0.3967 - val_accuracy: 0.8782\n",
            "Epoch 15/20\n",
            "30/30 [==============================] - 1s 45ms/step - loss: 0.2018 - accuracy: 0.9608 - val_loss: 0.4291 - val_accuracy: 0.8714\n",
            "Epoch 16/20\n",
            "30/30 [==============================] - 1s 48ms/step - loss: 0.1984 - accuracy: 0.9647 - val_loss: 0.4056 - val_accuracy: 0.8778\n",
            "Epoch 17/20\n",
            "30/30 [==============================] - 1s 27ms/step - loss: 0.1988 - accuracy: 0.9617 - val_loss: 0.4262 - val_accuracy: 0.8731\n",
            "Epoch 18/20\n",
            "30/30 [==============================] - 1s 28ms/step - loss: 0.1953 - accuracy: 0.9631 - val_loss: 0.5152 - val_accuracy: 0.8460\n",
            "Epoch 19/20\n",
            "30/30 [==============================] - 1s 39ms/step - loss: 0.1899 - accuracy: 0.9671 - val_loss: 0.4361 - val_accuracy: 0.8732\n",
            "Epoch 20/20\n",
            "30/30 [==============================] - 1s 24ms/step - loss: 0.1945 - accuracy: 0.9624 - val_loss: 0.4214 - val_accuracy: 0.8757\n"
          ]
        }
      ],
      "source": [
        "from tensorflow.keras import regularizers\n",
        "model = keras.Sequential([\n",
        "    layers.Dense(16,\n",
        "                 kernel_regularizer=regularizers.l2(0.002),\n",
        "                 activation=\"relu\"),\n",
        "    layers.Dense(16,\n",
        "                 kernel_regularizer=regularizers.l2(0.002),\n",
        "                 activation=\"relu\"),\n",
        "    layers.Dense(1, activation=\"sigmoid\")\n",
        "])\n",
        "model.compile(optimizer=\"rmsprop\",\n",
        "              loss=\"binary_crossentropy\",\n",
        "              metrics=[\"accuracy\"])\n",
        "history_l2_reg = model.fit(\n",
        "    train_data, train_labels,\n",
        "    epochs=20, batch_size=512, validation_split=0.4)"
      ]
    },
    {
      "cell_type": "markdown",
      "metadata": {
        "id": "o5clDm9yP0rI"
      },
      "source": [
        "**Different weight regularizers available in Keras**"
      ]
    },
    {
      "cell_type": "code",
      "execution_count": null,
      "metadata": {
        "id": "gjNxWW1OP0rI",
        "colab": {
          "base_uri": "https://localhost:8080/"
        },
        "outputId": "0477144a-1559-481e-ac6f-ca8efab08320"
      },
      "outputs": [
        {
          "output_type": "execute_result",
          "data": {
            "text/plain": [
              "<keras.src.regularizers.L1L2 at 0x7edc8ae5f4c0>"
            ]
          },
          "metadata": {},
          "execution_count": 8
        }
      ],
      "source": [
        "from tensorflow.keras import regularizers\n",
        "regularizers.l1(0.001)\n",
        "regularizers.l1_l2(l1=0.001, l2=0.001)"
      ]
    },
    {
      "cell_type": "markdown",
      "metadata": {
        "id": "2JNvON9rP0rI"
      },
      "source": [
        "#### Adding dropout"
      ]
    },
    {
      "cell_type": "markdown",
      "metadata": {
        "id": "sK9V2ThiP0rI"
      },
      "source": [
        "**Adding dropout to the IMDB model**"
      ]
    },
    {
      "cell_type": "code",
      "execution_count": null,
      "metadata": {
        "id": "4mRAQzwtP0rI",
        "colab": {
          "base_uri": "https://localhost:8080/"
        },
        "outputId": "af2e2c3c-1442-4dae-f355-cbdf619fe63d"
      },
      "outputs": [
        {
          "output_type": "stream",
          "name": "stdout",
          "text": [
            "Epoch 1/20\n",
            "30/30 [==============================] - 7s 75ms/step - loss: 0.6389 - accuracy: 0.6223 - val_loss: 0.5412 - val_accuracy: 0.8145\n",
            "Epoch 2/20\n",
            "30/30 [==============================] - 1s 39ms/step - loss: 0.5416 - accuracy: 0.7469 - val_loss: 0.4560 - val_accuracy: 0.8546\n",
            "Epoch 3/20\n",
            "30/30 [==============================] - 1s 27ms/step - loss: 0.4651 - accuracy: 0.8077 - val_loss: 0.4069 - val_accuracy: 0.8651\n",
            "Epoch 4/20\n",
            "30/30 [==============================] - 1s 27ms/step - loss: 0.4055 - accuracy: 0.8465 - val_loss: 0.3386 - val_accuracy: 0.8850\n",
            "Epoch 5/20\n",
            "30/30 [==============================] - 1s 26ms/step - loss: 0.3534 - accuracy: 0.8737 - val_loss: 0.3133 - val_accuracy: 0.8800\n",
            "Epoch 6/20\n",
            "30/30 [==============================] - 1s 23ms/step - loss: 0.3174 - accuracy: 0.8885 - val_loss: 0.2899 - val_accuracy: 0.8908\n",
            "Epoch 7/20\n",
            "30/30 [==============================] - 1s 25ms/step - loss: 0.2866 - accuracy: 0.9042 - val_loss: 0.2832 - val_accuracy: 0.8911\n",
            "Epoch 8/20\n",
            "30/30 [==============================] - 1s 23ms/step - loss: 0.2587 - accuracy: 0.9143 - val_loss: 0.2813 - val_accuracy: 0.8919\n",
            "Epoch 9/20\n",
            "30/30 [==============================] - 1s 31ms/step - loss: 0.2337 - accuracy: 0.9233 - val_loss: 0.2804 - val_accuracy: 0.8919\n",
            "Epoch 10/20\n",
            "30/30 [==============================] - 1s 32ms/step - loss: 0.2169 - accuracy: 0.9317 - val_loss: 0.2877 - val_accuracy: 0.8920\n",
            "Epoch 11/20\n",
            "30/30 [==============================] - 1s 40ms/step - loss: 0.1961 - accuracy: 0.9368 - val_loss: 0.3120 - val_accuracy: 0.8903\n",
            "Epoch 12/20\n",
            "30/30 [==============================] - 1s 48ms/step - loss: 0.1839 - accuracy: 0.9400 - val_loss: 0.3427 - val_accuracy: 0.8864\n",
            "Epoch 13/20\n",
            "30/30 [==============================] - 1s 29ms/step - loss: 0.1722 - accuracy: 0.9445 - val_loss: 0.3355 - val_accuracy: 0.8862\n",
            "Epoch 14/20\n",
            "30/30 [==============================] - 1s 23ms/step - loss: 0.1488 - accuracy: 0.9543 - val_loss: 0.3415 - val_accuracy: 0.8882\n",
            "Epoch 15/20\n",
            "30/30 [==============================] - 1s 29ms/step - loss: 0.1469 - accuracy: 0.9529 - val_loss: 0.3759 - val_accuracy: 0.8878\n",
            "Epoch 16/20\n",
            "30/30 [==============================] - 1s 47ms/step - loss: 0.1347 - accuracy: 0.9567 - val_loss: 0.3720 - val_accuracy: 0.8883\n",
            "Epoch 17/20\n",
            "30/30 [==============================] - 1s 25ms/step - loss: 0.1279 - accuracy: 0.9607 - val_loss: 0.4279 - val_accuracy: 0.8879\n",
            "Epoch 18/20\n",
            "30/30 [==============================] - 1s 25ms/step - loss: 0.1192 - accuracy: 0.9603 - val_loss: 0.4255 - val_accuracy: 0.8865\n",
            "Epoch 19/20\n",
            "30/30 [==============================] - 1s 23ms/step - loss: 0.1155 - accuracy: 0.9636 - val_loss: 0.4599 - val_accuracy: 0.8863\n",
            "Epoch 20/20\n",
            "30/30 [==============================] - 1s 21ms/step - loss: 0.1122 - accuracy: 0.9646 - val_loss: 0.4625 - val_accuracy: 0.8863\n"
          ]
        }
      ],
      "source": [
        "model = keras.Sequential([\n",
        "    layers.Dense(16, activation=\"relu\"),\n",
        "    layers.Dropout(0.5),\n",
        "    layers.Dense(16, activation=\"relu\"),\n",
        "    layers.Dropout(0.5),\n",
        "    layers.Dense(1, activation=\"sigmoid\")\n",
        "])\n",
        "model.compile(optimizer=\"rmsprop\",\n",
        "              loss=\"binary_crossentropy\",\n",
        "              metrics=[\"accuracy\"])\n",
        "history_dropout = model.fit(\n",
        "    train_data, train_labels,\n",
        "    epochs=20, batch_size=512, validation_split=0.4)"
      ]
    },
    {
      "cell_type": "code",
      "source": [
        "# train accuracy 시각화\n",
        "\n",
        "import matplotlib.pyplot as plt\n",
        "acc = history_original.history[\"accuracy\"]\n",
        "smaller_acc = history_smaller_model.history[\"accuracy\"]\n",
        "larger_acc = history_larger_model.history[\"accuracy\"]\n",
        "l2_acc = history_l2_reg.history[\"accuracy\"]\n",
        "dropout_acc = history_dropout.history[\"accuracy\"]\n",
        "\n",
        "\n",
        "epochs = range(1, 21)\n",
        "\n",
        "plt.plot(epochs, acc, \"k\",\n",
        "         label=\"original model\")\n",
        "plt.plot(epochs, smaller_acc, \"b\",\n",
        "         label=\"lower capacity\")\n",
        "plt.plot(epochs,larger_acc, \"r\",\n",
        "         label = \"higher capacity\")\n",
        "plt.plot(epochs, l2_acc, \"g\",\n",
        "         label = \"with L2 regularization\")\n",
        "plt.plot(epochs, dropout_acc, \"y\",\n",
        "         label = \"with dropout\")\n",
        "\n",
        "plt.title(\"Comparing train accuracy\")\n",
        "plt.xlabel(\"Epochs\")\n",
        "plt.ylabel(\" Accuracy\")\n",
        "plt.legend()"
      ],
      "metadata": {
        "colab": {
          "base_uri": "https://localhost:8080/",
          "height": 490
        },
        "id": "Q7Ysyrmcml62",
        "outputId": "d34bd45e-f620-424b-c31d-9079674876c2"
      },
      "execution_count": null,
      "outputs": [
        {
          "output_type": "execute_result",
          "data": {
            "text/plain": [
              "<matplotlib.legend.Legend at 0x7edc8cd39a80>"
            ]
          },
          "metadata": {},
          "execution_count": 11
        },
        {
          "output_type": "display_data",
          "data": {
            "text/plain": [
              "<Figure size 640x480 with 1 Axes>"
            ],
            "image/png": "[encoded data removed]"
          },
          "metadata": {}
        }
      ]
    },
    {
      "cell_type": "code",
      "source": [
        "# validation accuracy 시각화\n",
        "\n",
        "import matplotlib.pyplot as plt\n",
        "val_acc = history_original.history[\"val_accuracy\"]\n",
        "smaller_val_acc = history_smaller_model.history[\"val_accuracy\"]\n",
        "larger_val_acc = history_larger_model.history[\"val_accuracy\"]\n",
        "l2_val_acc = history_l2_reg.history[\"val_accuracy\"]\n",
        "dropout_val_acc = history_dropout.history[\"val_accuracy\"]\n",
        "\n",
        "\n",
        "epochs = range(1, 21)\n",
        "\n",
        "plt.plot(epochs, val_acc, \"k\",\n",
        "         label=\"original model\")\n",
        "plt.plot(epochs, smaller_val_acc, \"b\",\n",
        "         label=\"lower capacity\")\n",
        "plt.plot(epochs,larger_val_acc, \"r\",\n",
        "         label = \"higher capacity\")\n",
        "plt.plot(epochs, l2_val_acc, \"g\",\n",
        "         label = \"with L2 regularization\")\n",
        "plt.plot(epochs, dropout_val_acc, \"y\",\n",
        "         label = \"with dropout\")\n",
        "\n",
        "plt.title(\"Comparing validation accuracy\")\n",
        "plt.xlabel(\"Epochs\")\n",
        "plt.ylabel(\"Validation Accuracy\")\n",
        "plt.legend()"
      ],
      "metadata": {
        "colab": {
          "base_uri": "https://localhost:8080/",
          "height": 490
        },
        "id": "Ig81AYjOeZYK",
        "outputId": "4cfff869-be55-4ba8-bed0-2a5fb50878f9"
      },
      "execution_count": null,
      "outputs": [
        {
          "output_type": "execute_result",
          "data": {
            "text/plain": [
              "<matplotlib.legend.Legend at 0x7edc861ee4d0>"
            ]
          },
          "metadata": {},
          "execution_count": 10
        },
        {
          "output_type": "display_data",
          "data": {
            "text/plain": [
              "<Figure size 640x480 with 1 Axes>"
            ],
            "image/png": "[encoded data removed]"
          },
          "metadata": {}
        }
      ]
    },
    {
      "cell_type": "markdown",
      "metadata": {
        "id": "762m5lEvP0rJ"
      },
      "source": [
        "## Summary"
      ]
    }
  ]
}